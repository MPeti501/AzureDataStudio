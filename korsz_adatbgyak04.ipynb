{
    "metadata": {
        "kernelspec": {
            "name": "SQL",
            "display_name": "SQL",
            "language": "sql"
        },
        "language_info": {
            "name": "sql",
            "version": ""
        }
    },
    "nbformat_minor": 2,
    "nbformat": 4,
    "cells": [
        {
            "cell_type": "markdown",
            "source": [
                "1. <span style=\"color: rgb(18, 38, 44); font-family: Arial; font-size: 15px; background-color: rgb(239, 249, 252);\">Számítsa ki, hogy átlagosan hány napig tartottak a foglalások&nbsp;</span> <span style=\"box-sizing: border-box; color: rgb(18, 38, 44); font-family: Arial; font-size: 0.9375rem; background-color: rgb(239, 249, 252);\">szállásonként, illetve ügyfelenként (külön-külön)!<br style=\"box-sizing: border-box;\">A szállás,&nbsp;</span> <span style=\"box-sizing: border-box; color: rgb(18, 38, 44); font-family: Arial; font-size: 0.9375rem; background-color: rgb(239, 249, 252);\">illetve az ügyfél esetén elég az azonosítójukat megadni.&nbsp;</span>"
            ],
            "metadata": {
                "azdata_cell_guid": "9f0e1300-81ed-4b2b-9f86-02beb5fcac30"
            },
            "attachments": {}
        },
        {
            "cell_type": "code",
            "source": [
                "SELECT sz.szallas_fk,\r\n",
                "        f.ugyfel_fk,\r\n",
                "        AVG(DATEDIFF(day, f.mettol, f.meddig))\r\n",
                "FROM Foglalas f JOIN szoba sz ON f.szoba_fk = sz.szoba_id\r\n",
                "GROUP BY GROUPING SETS(sz.szallas_fk, f.ugyfel_fk)"
            ],
            "metadata": {
                "azdata_cell_guid": "e3b7e092-dac4-4f8a-846d-48412a2ab6c0",
                "language": "sql"
            },
            "outputs": [
                {
                    "output_type": "display_data",
                    "data": {
                        "text/html": "(207 rows affected)"
                    },
                    "metadata": {}
                },
                {
                    "output_type": "display_data",
                    "data": {
                        "text/html": "Total execution time: 00:00:00.152"
                    },
                    "metadata": {}
                },
                {
                    "output_type": "execute_result",
                    "metadata": {},
                    "execution_count": 4,
                    "data": {
                        "application/vnd.dataresource+json": {
                            "schema": {
                                "fields": [
                                    {
                                        "name": "szallas_fk"
                                    },
                                    {
                                        "name": "ugyfel_fk"
                                    },
                                    {
                                        "name": "(No column name)"
                                    }
                                ]
                            },
                            "data": [
                                {
                                    "szallas_fk": "NULL",
                                    "ugyfel_fk": "adam1",
                                    "(No column name)": "5"
                                },
                                {
                                    "szallas_fk": "NULL",
                                    "ugyfel_fk": "adam3",
                                    "(No column name)": "4"
                                },
                                {
                                    "szallas_fk": "NULL",
                                    "ugyfel_fk": "adam4",
                                    "(No column name)": "4"
                                },
                                {
                                    "szallas_fk": "NULL",
                                    "ugyfel_fk": "agnes",
                                    "(No column name)": "5"
                                },
                                {
                                    "szallas_fk": "NULL",
                                    "ugyfel_fk": "agnes3",
                                    "(No column name)": "4"
                                },
                                {
                                    "szallas_fk": "NULL",
                                    "ugyfel_fk": "AGNESH",
                                    "(No column name)": "4"
                                },
                                {
                                    "szallas_fk": "NULL",
                                    "ugyfel_fk": "AGNESK",
                                    "(No column name)": "2"
                                },
                                {
                                    "szallas_fk": "NULL",
                                    "ugyfel_fk": "akos",
                                    "(No column name)": "4"
                                },
                                {
                                    "szallas_fk": "NULL",
                                    "ugyfel_fk": "aladar",
                                    "(No column name)": "4"
                                },
                                {
                                    "szallas_fk": "NULL",
                                    "ugyfel_fk": "alexandra",
                                    "(No column name)": "4"
                                },
                                {
                                    "szallas_fk": "NULL",
                                    "ugyfel_fk": "andi",
                                    "(No column name)": "3"
                                },
                                {
                                    "szallas_fk": "NULL",
                                    "ugyfel_fk": "andras2",
                                    "(No column name)": "3"
                                },
                                {
                                    "szallas_fk": "NULL",
                                    "ugyfel_fk": "andras21",
                                    "(No column name)": "3"
                                },
                                {
                                    "szallas_fk": "NULL",
                                    "ugyfel_fk": "andras3",
                                    "(No column name)": "3"
                                },
                                {
                                    "szallas_fk": "NULL",
                                    "ugyfel_fk": "andras4",
                                    "(No column name)": "2"
                                },
                                {
                                    "szallas_fk": "NULL",
                                    "ugyfel_fk": "andras41",
                                    "(No column name)": "4"
                                },
                                {
                                    "szallas_fk": "NULL",
                                    "ugyfel_fk": "ANDRASE",
                                    "(No column name)": "4"
                                },
                                {
                                    "szallas_fk": "NULL",
                                    "ugyfel_fk": "ANDRASN",
                                    "(No column name)": "6"
                                },
                                {
                                    "szallas_fk": "NULL",
                                    "ugyfel_fk": "andrea",
                                    "(No column name)": "3"
                                },
                                {
                                    "szallas_fk": "NULL",
                                    "ugyfel_fk": "andrea3",
                                    "(No column name)": "2"
                                },
                                {
                                    "szallas_fk": "NULL",
                                    "ugyfel_fk": "andrea4",
                                    "(No column name)": "5"
                                },
                                {
                                    "szallas_fk": "NULL",
                                    "ugyfel_fk": "ANDREAT",
                                    "(No column name)": "3"
                                },
                                {
                                    "szallas_fk": "NULL",
                                    "ugyfel_fk": "anett3",
                                    "(No column name)": "5"
                                },
                                {
                                    "szallas_fk": "NULL",
                                    "ugyfel_fk": "aniko",
                                    "(No column name)": "2"
                                },
                                {
                                    "szallas_fk": "NULL",
                                    "ugyfel_fk": "aniko4",
                                    "(No column name)": "3"
                                },
                                {
                                    "szallas_fk": "NULL",
                                    "ugyfel_fk": "ANIKOS",
                                    "(No column name)": "5"
                                },
                                {
                                    "szallas_fk": "NULL",
                                    "ugyfel_fk": "anita",
                                    "(No column name)": "3"
                                },
                                {
                                    "szallas_fk": "NULL",
                                    "ugyfel_fk": "annamaria1",
                                    "(No column name)": "1"
                                },
                                {
                                    "szallas_fk": "NULL",
                                    "ugyfel_fk": "ANNAMARIAR",
                                    "(No column name)": "2"
                                },
                                {
                                    "szallas_fk": "NULL",
                                    "ugyfel_fk": "aron2",
                                    "(No column name)": "2"
                                },
                                {
                                    "szallas_fk": "NULL",
                                    "ugyfel_fk": "ARONK",
                                    "(No column name)": "4"
                                },
                                {
                                    "szallas_fk": "NULL",
                                    "ugyfel_fk": "arpad2",
                                    "(No column name)": "2"
                                },
                                {
                                    "szallas_fk": "NULL",
                                    "ugyfel_fk": "ARPADH",
                                    "(No column name)": "4"
                                },
                                {
                                    "szallas_fk": "NULL",
                                    "ugyfel_fk": "ARPADM",
                                    "(No column name)": "3"
                                },
                                {
                                    "szallas_fk": "NULL",
                                    "ugyfel_fk": "attila",
                                    "(No column name)": "5"
                                },
                                {
                                    "szallas_fk": "NULL",
                                    "ugyfel_fk": "attila1",
                                    "(No column name)": "4"
                                },
                                {
                                    "szallas_fk": "NULL",
                                    "ugyfel_fk": "attila4",
                                    "(No column name)": "4"
                                },
                                {
                                    "szallas_fk": "NULL",
                                    "ugyfel_fk": "ATTILAO",
                                    "(No column name)": "4"
                                },
                                {
                                    "szallas_fk": "NULL",
                                    "ugyfel_fk": "balazs1",
                                    "(No column name)": "3"
                                },
                                {
                                    "szallas_fk": "NULL",
                                    "ugyfel_fk": "balazs2",
                                    "(No column name)": "4"
                                },
                                {
                                    "szallas_fk": "NULL",
                                    "ugyfel_fk": "balazs3",
                                    "(No column name)": "3"
                                },
                                {
                                    "szallas_fk": "NULL",
                                    "ugyfel_fk": "balint",
                                    "(No column name)": "4"
                                },
                                {
                                    "szallas_fk": "NULL",
                                    "ugyfel_fk": "balint1",
                                    "(No column name)": "3"
                                },
                                {
                                    "szallas_fk": "NULL",
                                    "ugyfel_fk": "balint2",
                                    "(No column name)": "3"
                                },
                                {
                                    "szallas_fk": "NULL",
                                    "ugyfel_fk": "balu",
                                    "(No column name)": "2"
                                },
                                {
                                    "szallas_fk": "NULL",
                                    "ugyfel_fk": "beata4",
                                    "(No column name)": "2"
                                },
                                {
                                    "szallas_fk": "NULL",
                                    "ugyfel_fk": "BEATRIXK",
                                    "(No column name)": "3"
                                },
                                {
                                    "szallas_fk": "NULL",
                                    "ugyfel_fk": "BEATRIXS",
                                    "(No column name)": "3"
                                },
                                {
                                    "szallas_fk": "NULL",
                                    "ugyfel_fk": "BELAF",
                                    "(No column name)": "3"
                                },
                                {
                                    "szallas_fk": "NULL",
                                    "ugyfel_fk": "bence",
                                    "(No column name)": "3"
                                },
                                {
                                    "szallas_fk": "NULL",
                                    "ugyfel_fk": "BENCEB",
                                    "(No column name)": "4"
                                },
                                {
                                    "szallas_fk": "NULL",
                                    "ugyfel_fk": "bernadett1",
                                    "(No column name)": "4"
                                },
                                {
                                    "szallas_fk": "NULL",
                                    "ugyfel_fk": "bernadett2",
                                    "(No column name)": "4"
                                },
                                {
                                    "szallas_fk": "NULL",
                                    "ugyfel_fk": "BERNADETTO",
                                    "(No column name)": "4"
                                },
                                {
                                    "szallas_fk": "NULL",
                                    "ugyfel_fk": "bertalan",
                                    "(No column name)": "4"
                                },
                                {
                                    "szallas_fk": "NULL",
                                    "ugyfel_fk": "brigitta",
                                    "(No column name)": "5"
                                },
                                {
                                    "szallas_fk": "NULL",
                                    "ugyfel_fk": "brigitta3",
                                    "(No column name)": "5"
                                },
                                {
                                    "szallas_fk": "NULL",
                                    "ugyfel_fk": "csongor3",
                                    "(No column name)": "4"
                                },
                                {
                                    "szallas_fk": "NULL",
                                    "ugyfel_fk": "dani",
                                    "(No column name)": "3"
                                },
                                {
                                    "szallas_fk": "NULL",
                                    "ugyfel_fk": "daniel",
                                    "(No column name)": "2"
                                },
                                {
                                    "szallas_fk": "NULL",
                                    "ugyfel_fk": "daniel1",
                                    "(No column name)": "3"
                                },
                                {
                                    "szallas_fk": "NULL",
                                    "ugyfel_fk": "david",
                                    "(No column name)": "4"
                                },
                                {
                                    "szallas_fk": "NULL",
                                    "ugyfel_fk": "david1",
                                    "(No column name)": "2"
                                },
                                {
                                    "szallas_fk": "NULL",
                                    "ugyfel_fk": "david4",
                                    "(No column name)": "3"
                                },
                                {
                                    "szallas_fk": "NULL",
                                    "ugyfel_fk": "debora",
                                    "(No column name)": "3"
                                },
                                {
                                    "szallas_fk": "NULL",
                                    "ugyfel_fk": "denes",
                                    "(No column name)": "5"
                                },
                                {
                                    "szallas_fk": "NULL",
                                    "ugyfel_fk": "dora3",
                                    "(No column name)": "4"
                                },
                                {
                                    "szallas_fk": "NULL",
                                    "ugyfel_fk": "edit",
                                    "(No column name)": "4"
                                },
                                {
                                    "szallas_fk": "NULL",
                                    "ugyfel_fk": "emese",
                                    "(No column name)": "2"
                                },
                                {
                                    "szallas_fk": "NULL",
                                    "ugyfel_fk": "eszter",
                                    "(No column name)": "5"
                                },
                                {
                                    "szallas_fk": "NULL",
                                    "ugyfel_fk": "eszter2",
                                    "(No column name)": "8"
                                },
                                {
                                    "szallas_fk": "NULL",
                                    "ugyfel_fk": "eszter4",
                                    "(No column name)": "4"
                                },
                                {
                                    "szallas_fk": "NULL",
                                    "ugyfel_fk": "ESZTERE",
                                    "(No column name)": "4"
                                },
                                {
                                    "szallas_fk": "NULL",
                                    "ugyfel_fk": "eva",
                                    "(No column name)": "2"
                                },
                                {
                                    "szallas_fk": "NULL",
                                    "ugyfel_fk": "eva2",
                                    "(No column name)": "4"
                                },
                                {
                                    "szallas_fk": "NULL",
                                    "ugyfel_fk": "EVAV",
                                    "(No column name)": "5"
                                },
                                {
                                    "szallas_fk": "NULL",
                                    "ugyfel_fk": "ferenc1",
                                    "(No column name)": "2"
                                },
                                {
                                    "szallas_fk": "NULL",
                                    "ugyfel_fk": "fruzsina4",
                                    "(No column name)": "3"
                                },
                                {
                                    "szallas_fk": "NULL",
                                    "ugyfel_fk": "gabor1",
                                    "(No column name)": "2"
                                },
                                {
                                    "szallas_fk": "NULL",
                                    "ugyfel_fk": "gabor4",
                                    "(No column name)": "5"
                                },
                                {
                                    "szallas_fk": "NULL",
                                    "ugyfel_fk": "gabriella1",
                                    "(No column name)": "4"
                                },
                                {
                                    "szallas_fk": "NULL",
                                    "ugyfel_fk": "gabriella10",
                                    "(No column name)": "5"
                                },
                                {
                                    "szallas_fk": "NULL",
                                    "ugyfel_fk": "georgij",
                                    "(No column name)": "5"
                                },
                                {
                                    "szallas_fk": "NULL",
                                    "ugyfel_fk": "gusztav",
                                    "(No column name)": "5"
                                },
                                {
                                    "szallas_fk": "NULL",
                                    "ugyfel_fk": "GYONGYIK",
                                    "(No column name)": "5"
                                },
                                {
                                    "szallas_fk": "NULL",
                                    "ugyfel_fk": "GYORGYO",
                                    "(No column name)": "3"
                                },
                                {
                                    "szallas_fk": "NULL",
                                    "ugyfel_fk": "henrik3",
                                    "(No column name)": "3"
                                },
                                {
                                    "szallas_fk": "NULL",
                                    "ugyfel_fk": "IBOLYAA",
                                    "(No column name)": "4"
                                },
                                {
                                    "szallas_fk": "NULL",
                                    "ugyfel_fk": "ilona3",
                                    "(No column name)": "4"
                                },
                                {
                                    "szallas_fk": "NULL",
                                    "ugyfel_fk": "imre",
                                    "(No column name)": "1"
                                },
                                {
                                    "szallas_fk": "NULL",
                                    "ugyfel_fk": "imre1",
                                    "(No column name)": "2"
                                },
                                {
                                    "szallas_fk": "NULL",
                                    "ugyfel_fk": "istvan",
                                    "(No column name)": "2"
                                },
                                {
                                    "szallas_fk": "NULL",
                                    "ugyfel_fk": "istvan1",
                                    "(No column name)": "4"
                                },
                                {
                                    "szallas_fk": "NULL",
                                    "ugyfel_fk": "ISTVANV",
                                    "(No column name)": "2"
                                },
                                {
                                    "szallas_fk": "NULL",
                                    "ugyfel_fk": "janos3",
                                    "(No column name)": "2"
                                },
                                {
                                    "szallas_fk": "NULL",
                                    "ugyfel_fk": "JANOSG",
                                    "(No column name)": "5"
                                },
                                {
                                    "szallas_fk": "NULL",
                                    "ugyfel_fk": "JANOSP",
                                    "(No column name)": "4"
                                },
                                {
                                    "szallas_fk": "NULL",
                                    "ugyfel_fk": "jozsef",
                                    "(No column name)": "3"
                                },
                                {
                                    "szallas_fk": "NULL",
                                    "ugyfel_fk": "jozsef2",
                                    "(No column name)": "5"
                                },
                                {
                                    "szallas_fk": "NULL",
                                    "ugyfel_fk": "JOZSEFG",
                                    "(No column name)": "4"
                                },
                                {
                                    "szallas_fk": "NULL",
                                    "ugyfel_fk": "JUDITH",
                                    "(No column name)": "4"
                                },
                                {
                                    "szallas_fk": "NULL",
                                    "ugyfel_fk": "julia",
                                    "(No column name)": "4"
                                },
                                {
                                    "szallas_fk": "NULL",
                                    "ugyfel_fk": "julia4",
                                    "(No column name)": "6"
                                },
                                {
                                    "szallas_fk": "NULL",
                                    "ugyfel_fk": "julianna4",
                                    "(No column name)": "4"
                                },
                                {
                                    "szallas_fk": "NULL",
                                    "ugyfel_fk": "kata",
                                    "(No column name)": "3"
                                },
                                {
                                    "szallas_fk": "NULL",
                                    "ugyfel_fk": "katalin",
                                    "(No column name)": "4"
                                },
                                {
                                    "szallas_fk": "NULL",
                                    "ugyfel_fk": "katalin4",
                                    "(No column name)": "4"
                                },
                                {
                                    "szallas_fk": "NULL",
                                    "ugyfel_fk": "kati",
                                    "(No column name)": "4"
                                },
                                {
                                    "szallas_fk": "NULL",
                                    "ugyfel_fk": "katka",
                                    "(No column name)": "3"
                                },
                                {
                                    "szallas_fk": "NULL",
                                    "ugyfel_fk": "klaudia2",
                                    "(No column name)": "2"
                                },
                                {
                                    "szallas_fk": "NULL",
                                    "ugyfel_fk": "kornel4",
                                    "(No column name)": "4"
                                },
                                {
                                    "szallas_fk": "NULL",
                                    "ugyfel_fk": "kristof4",
                                    "(No column name)": "5"
                                },
                                {
                                    "szallas_fk": "NULL",
                                    "ugyfel_fk": "kriszti",
                                    "(No column name)": "3"
                                },
                                {
                                    "szallas_fk": "NULL",
                                    "ugyfel_fk": "krisztian4",
                                    "(No column name)": "4"
                                },
                                {
                                    "szallas_fk": "NULL",
                                    "ugyfel_fk": "KRISZTIANM",
                                    "(No column name)": "5"
                                },
                                {
                                    "szallas_fk": "NULL",
                                    "ugyfel_fk": "krisztina",
                                    "(No column name)": "4"
                                },
                                {
                                    "szallas_fk": "NULL",
                                    "ugyfel_fk": "krisztina1",
                                    "(No column name)": "3"
                                },
                                {
                                    "szallas_fk": "NULL",
                                    "ugyfel_fk": "KRISZTINAG",
                                    "(No column name)": "4"
                                },
                                {
                                    "szallas_fk": "NULL",
                                    "ugyfel_fk": "lajos",
                                    "(No column name)": "2"
                                },
                                {
                                    "szallas_fk": "NULL",
                                    "ugyfel_fk": "lala",
                                    "(No column name)": "2"
                                },
                                {
                                    "szallas_fk": "NULL",
                                    "ugyfel_fk": "laszlo1",
                                    "(No column name)": "7"
                                },
                                {
                                    "szallas_fk": "NULL",
                                    "ugyfel_fk": "laszlo2",
                                    "(No column name)": "2"
                                },
                                {
                                    "szallas_fk": "NULL",
                                    "ugyfel_fk": "LASZLOA",
                                    "(No column name)": "4"
                                },
                                {
                                    "szallas_fk": "NULL",
                                    "ugyfel_fk": "LASZLON",
                                    "(No column name)": "4"
                                },
                                {
                                    "szallas_fk": "NULL",
                                    "ugyfel_fk": "maria1",
                                    "(No column name)": "4"
                                },
                                {
                                    "szallas_fk": "NULL",
                                    "ugyfel_fk": "mark",
                                    "(No column name)": "5"
                                },
                                {
                                    "szallas_fk": "NULL",
                                    "ugyfel_fk": "MARKH",
                                    "(No column name)": "5"
                                },
                                {
                                    "szallas_fk": "NULL",
                                    "ugyfel_fk": "marton",
                                    "(No column name)": "4"
                                },
                                {
                                    "szallas_fk": "NULL",
                                    "ugyfel_fk": "MATEK",
                                    "(No column name)": "4"
                                },
                                {
                                    "szallas_fk": "NULL",
                                    "ugyfel_fk": "matyas2",
                                    "(No column name)": "3"
                                },
                                {
                                    "szallas_fk": "NULL",
                                    "ugyfel_fk": "MATYASS",
                                    "(No column name)": "5"
                                },
                                {
                                    "szallas_fk": "NULL",
                                    "ugyfel_fk": "MIHALYJ",
                                    "(No column name)": "4"
                                },
                                {
                                    "szallas_fk": "NULL",
                                    "ugyfel_fk": "miklos2",
                                    "(No column name)": "1"
                                },
                                {
                                    "szallas_fk": "NULL",
                                    "ugyfel_fk": "MIKLOSB",
                                    "(No column name)": "4"
                                },
                                {
                                    "szallas_fk": "NULL",
                                    "ugyfel_fk": "MONIKAM",
                                    "(No column name)": "4"
                                },
                                {
                                    "szallas_fk": "NULL",
                                    "ugyfel_fk": "NANDORF",
                                    "(No column name)": "2"
                                },
                                {
                                    "szallas_fk": "NULL",
                                    "ugyfel_fk": "nikolett3",
                                    "(No column name)": "5"
                                },
                                {
                                    "szallas_fk": "NULL",
                                    "ugyfel_fk": "nikoletta4",
                                    "(No column name)": "4"
                                },
                                {
                                    "szallas_fk": "NULL",
                                    "ugyfel_fk": "NIKOLETTAT",
                                    "(No column name)": "2"
                                },
                                {
                                    "szallas_fk": "NULL",
                                    "ugyfel_fk": "norbert",
                                    "(No column name)": "4"
                                },
                                {
                                    "szallas_fk": "NULL",
                                    "ugyfel_fk": "norbert2",
                                    "(No column name)": "4"
                                },
                                {
                                    "szallas_fk": "NULL",
                                    "ugyfel_fk": "norbert4",
                                    "(No column name)": "3"
                                },
                                {
                                    "szallas_fk": "NULL",
                                    "ugyfel_fk": "norbert5",
                                    "(No column name)": "2"
                                },
                                {
                                    "szallas_fk": "NULL",
                                    "ugyfel_fk": "pal",
                                    "(No column name)": "4"
                                },
                                {
                                    "szallas_fk": "NULL",
                                    "ugyfel_fk": "peter1",
                                    "(No column name)": "4"
                                },
                                {
                                    "szallas_fk": "NULL",
                                    "ugyfel_fk": "peter2",
                                    "(No column name)": "4"
                                },
                                {
                                    "szallas_fk": "NULL",
                                    "ugyfel_fk": "peter3",
                                    "(No column name)": "4"
                                },
                                {
                                    "szallas_fk": "NULL",
                                    "ugyfel_fk": "peter4",
                                    "(No column name)": "4"
                                },
                                {
                                    "szallas_fk": "NULL",
                                    "ugyfel_fk": "PETERB",
                                    "(No column name)": "3"
                                },
                                {
                                    "szallas_fk": "NULL",
                                    "ugyfel_fk": "polla",
                                    "(No column name)": "4"
                                },
                                {
                                    "szallas_fk": "NULL",
                                    "ugyfel_fk": "rajmond4",
                                    "(No column name)": "2"
                                },
                                {
                                    "szallas_fk": "NULL",
                                    "ugyfel_fk": "reka4",
                                    "(No column name)": "4"
                                },
                                {
                                    "szallas_fk": "NULL",
                                    "ugyfel_fk": "RENATAK",
                                    "(No column name)": "3"
                                },
                                {
                                    "szallas_fk": "NULL",
                                    "ugyfel_fk": "RENATAS",
                                    "(No column name)": "5"
                                },
                                {
                                    "szallas_fk": "NULL",
                                    "ugyfel_fk": "robert2",
                                    "(No column name)": "5"
                                },
                                {
                                    "szallas_fk": "NULL",
                                    "ugyfel_fk": "ROBERTI",
                                    "(No column name)": "4"
                                },
                                {
                                    "szallas_fk": "NULL",
                                    "ugyfel_fk": "ROBERTP",
                                    "(No column name)": "4"
                                },
                                {
                                    "szallas_fk": "NULL",
                                    "ugyfel_fk": "roland",
                                    "(No column name)": "2"
                                },
                                {
                                    "szallas_fk": "NULL",
                                    "ugyfel_fk": "roland1",
                                    "(No column name)": "4"
                                },
                                {
                                    "szallas_fk": "NULL",
                                    "ugyfel_fk": "roza2",
                                    "(No column name)": "4"
                                },
                                {
                                    "szallas_fk": "NULL",
                                    "ugyfel_fk": "sandor",
                                    "(No column name)": "5"
                                },
                                {
                                    "szallas_fk": "NULL",
                                    "ugyfel_fk": "sandor3",
                                    "(No column name)": "4"
                                },
                                {
                                    "szallas_fk": "NULL",
                                    "ugyfel_fk": "sandor4",
                                    "(No column name)": "4"
                                },
                                {
                                    "szallas_fk": "NULL",
                                    "ugyfel_fk": "sara",
                                    "(No column name)": "3"
                                },
                                {
                                    "szallas_fk": "NULL",
                                    "ugyfel_fk": "SEBASTIANF",
                                    "(No column name)": "4"
                                },
                                {
                                    "szallas_fk": "NULL",
                                    "ugyfel_fk": "sebestyen",
                                    "(No column name)": "5"
                                },
                                {
                                    "szallas_fk": "NULL",
                                    "ugyfel_fk": "szabolcs",
                                    "(No column name)": "2"
                                },
                                {
                                    "szallas_fk": "NULL",
                                    "ugyfel_fk": "SZABOLCSM",
                                    "(No column name)": "2"
                                },
                                {
                                    "szallas_fk": "NULL",
                                    "ugyfel_fk": "SZILARDS",
                                    "(No column name)": "5"
                                },
                                {
                                    "szallas_fk": "NULL",
                                    "ugyfel_fk": "szilvia1",
                                    "(No column name)": "4"
                                },
                                {
                                    "szallas_fk": "NULL",
                                    "ugyfel_fk": "tamara2",
                                    "(No column name)": "3"
                                },
                                {
                                    "szallas_fk": "NULL",
                                    "ugyfel_fk": "tamas",
                                    "(No column name)": "5"
                                },
                                {
                                    "szallas_fk": "NULL",
                                    "ugyfel_fk": "TAMASF",
                                    "(No column name)": "4"
                                },
                                {
                                    "szallas_fk": "NULL",
                                    "ugyfel_fk": "tibor",
                                    "(No column name)": "4"
                                },
                                {
                                    "szallas_fk": "NULL",
                                    "ugyfel_fk": "tibor2",
                                    "(No column name)": "5"
                                },
                                {
                                    "szallas_fk": "NULL",
                                    "ugyfel_fk": "tihamer",
                                    "(No column name)": "4"
                                },
                                {
                                    "szallas_fk": "NULL",
                                    "ugyfel_fk": "timea",
                                    "(No column name)": "1"
                                },
                                {
                                    "szallas_fk": "NULL",
                                    "ugyfel_fk": "timea2",
                                    "(No column name)": "2"
                                },
                                {
                                    "szallas_fk": "NULL",
                                    "ugyfel_fk": "tunde",
                                    "(No column name)": "4"
                                },
                                {
                                    "szallas_fk": "NULL",
                                    "ugyfel_fk": "valentin",
                                    "(No column name)": "5"
                                },
                                {
                                    "szallas_fk": "NULL",
                                    "ugyfel_fk": "veronika4",
                                    "(No column name)": "5"
                                },
                                {
                                    "szallas_fk": "NULL",
                                    "ugyfel_fk": "VIKTORIAU",
                                    "(No column name)": "3"
                                },
                                {
                                    "szallas_fk": "NULL",
                                    "ugyfel_fk": "VIKTORK",
                                    "(No column name)": "1"
                                },
                                {
                                    "szallas_fk": "NULL",
                                    "ugyfel_fk": "vivien3",
                                    "(No column name)": "3"
                                },
                                {
                                    "szallas_fk": "NULL",
                                    "ugyfel_fk": "zoltan",
                                    "(No column name)": "5"
                                },
                                {
                                    "szallas_fk": "NULL",
                                    "ugyfel_fk": "zoltan4",
                                    "(No column name)": "4"
                                },
                                {
                                    "szallas_fk": "NULL",
                                    "ugyfel_fk": "ZOLTANP",
                                    "(No column name)": "3"
                                },
                                {
                                    "szallas_fk": "NULL",
                                    "ugyfel_fk": "ZOLTANT",
                                    "(No column name)": "2"
                                },
                                {
                                    "szallas_fk": "NULL",
                                    "ugyfel_fk": "zsofi1",
                                    "(No column name)": "1"
                                },
                                {
                                    "szallas_fk": "NULL",
                                    "ugyfel_fk": "zsolt1",
                                    "(No column name)": "2"
                                },
                                {
                                    "szallas_fk": "NULL",
                                    "ugyfel_fk": "ZSOLTJ",
                                    "(No column name)": "3"
                                },
                                {
                                    "szallas_fk": "NULL",
                                    "ugyfel_fk": "zsuzsa",
                                    "(No column name)": "3"
                                },
                                {
                                    "szallas_fk": "NULL",
                                    "ugyfel_fk": "zsuzsa3",
                                    "(No column name)": "4"
                                },
                                {
                                    "szallas_fk": "NULL",
                                    "ugyfel_fk": "zsuzsanna",
                                    "(No column name)": "5"
                                },
                                {
                                    "szallas_fk": "NULL",
                                    "ugyfel_fk": "ZSUZSAV",
                                    "(No column name)": "3"
                                },
                                {
                                    "szallas_fk": "9",
                                    "ugyfel_fk": "NULL",
                                    "(No column name)": "4"
                                },
                                {
                                    "szallas_fk": "3",
                                    "ugyfel_fk": "NULL",
                                    "(No column name)": "3"
                                },
                                {
                                    "szallas_fk": "12",
                                    "ugyfel_fk": "NULL",
                                    "(No column name)": "4"
                                },
                                {
                                    "szallas_fk": "6",
                                    "ugyfel_fk": "NULL",
                                    "(No column name)": "4"
                                },
                                {
                                    "szallas_fk": "7",
                                    "ugyfel_fk": "NULL",
                                    "(No column name)": "3"
                                },
                                {
                                    "szallas_fk": "1",
                                    "ugyfel_fk": "NULL",
                                    "(No column name)": "4"
                                },
                                {
                                    "szallas_fk": "10",
                                    "ugyfel_fk": "NULL",
                                    "(No column name)": "3"
                                },
                                {
                                    "szallas_fk": "4",
                                    "ugyfel_fk": "NULL",
                                    "(No column name)": "4"
                                },
                                {
                                    "szallas_fk": "5",
                                    "ugyfel_fk": "NULL",
                                    "(No column name)": "4"
                                },
                                {
                                    "szallas_fk": "2",
                                    "ugyfel_fk": "NULL",
                                    "(No column name)": "3"
                                },
                                {
                                    "szallas_fk": "11",
                                    "ugyfel_fk": "NULL",
                                    "(No column name)": "3"
                                },
                                {
                                    "szallas_fk": "8",
                                    "ugyfel_fk": "NULL",
                                    "(No column name)": "3"
                                }
                            ]
                        },
                        "text/html": [
                            "<table>",
                            "<tr><th>szallas_fk</th><th>ugyfel_fk</th><th>(No column name)</th></tr>",
                            "<tr><td>NULL</td><td>adam1</td><td>5</td></tr>",
                            "<tr><td>NULL</td><td>adam3</td><td>4</td></tr>",
                            "<tr><td>NULL</td><td>adam4</td><td>4</td></tr>",
                            "<tr><td>NULL</td><td>agnes</td><td>5</td></tr>",
                            "<tr><td>NULL</td><td>agnes3</td><td>4</td></tr>",
                            "<tr><td>NULL</td><td>AGNESH</td><td>4</td></tr>",
                            "<tr><td>NULL</td><td>AGNESK</td><td>2</td></tr>",
                            "<tr><td>NULL</td><td>akos</td><td>4</td></tr>",
                            "<tr><td>NULL</td><td>aladar</td><td>4</td></tr>",
                            "<tr><td>NULL</td><td>alexandra</td><td>4</td></tr>",
                            "<tr><td>NULL</td><td>andi</td><td>3</td></tr>",
                            "<tr><td>NULL</td><td>andras2</td><td>3</td></tr>",
                            "<tr><td>NULL</td><td>andras21</td><td>3</td></tr>",
                            "<tr><td>NULL</td><td>andras3</td><td>3</td></tr>",
                            "<tr><td>NULL</td><td>andras4</td><td>2</td></tr>",
                            "<tr><td>NULL</td><td>andras41</td><td>4</td></tr>",
                            "<tr><td>NULL</td><td>ANDRASE</td><td>4</td></tr>",
                            "<tr><td>NULL</td><td>ANDRASN</td><td>6</td></tr>",
                            "<tr><td>NULL</td><td>andrea</td><td>3</td></tr>",
                            "<tr><td>NULL</td><td>andrea3</td><td>2</td></tr>",
                            "<tr><td>NULL</td><td>andrea4</td><td>5</td></tr>",
                            "<tr><td>NULL</td><td>ANDREAT</td><td>3</td></tr>",
                            "<tr><td>NULL</td><td>anett3</td><td>5</td></tr>",
                            "<tr><td>NULL</td><td>aniko</td><td>2</td></tr>",
                            "<tr><td>NULL</td><td>aniko4</td><td>3</td></tr>",
                            "<tr><td>NULL</td><td>ANIKOS</td><td>5</td></tr>",
                            "<tr><td>NULL</td><td>anita</td><td>3</td></tr>",
                            "<tr><td>NULL</td><td>annamaria1</td><td>1</td></tr>",
                            "<tr><td>NULL</td><td>ANNAMARIAR</td><td>2</td></tr>",
                            "<tr><td>NULL</td><td>aron2</td><td>2</td></tr>",
                            "<tr><td>NULL</td><td>ARONK</td><td>4</td></tr>",
                            "<tr><td>NULL</td><td>arpad2</td><td>2</td></tr>",
                            "<tr><td>NULL</td><td>ARPADH</td><td>4</td></tr>",
                            "<tr><td>NULL</td><td>ARPADM</td><td>3</td></tr>",
                            "<tr><td>NULL</td><td>attila</td><td>5</td></tr>",
                            "<tr><td>NULL</td><td>attila1</td><td>4</td></tr>",
                            "<tr><td>NULL</td><td>attila4</td><td>4</td></tr>",
                            "<tr><td>NULL</td><td>ATTILAO</td><td>4</td></tr>",
                            "<tr><td>NULL</td><td>balazs1</td><td>3</td></tr>",
                            "<tr><td>NULL</td><td>balazs2</td><td>4</td></tr>",
                            "<tr><td>NULL</td><td>balazs3</td><td>3</td></tr>",
                            "<tr><td>NULL</td><td>balint</td><td>4</td></tr>",
                            "<tr><td>NULL</td><td>balint1</td><td>3</td></tr>",
                            "<tr><td>NULL</td><td>balint2</td><td>3</td></tr>",
                            "<tr><td>NULL</td><td>balu</td><td>2</td></tr>",
                            "<tr><td>NULL</td><td>beata4</td><td>2</td></tr>",
                            "<tr><td>NULL</td><td>BEATRIXK</td><td>3</td></tr>",
                            "<tr><td>NULL</td><td>BEATRIXS</td><td>3</td></tr>",
                            "<tr><td>NULL</td><td>BELAF</td><td>3</td></tr>",
                            "<tr><td>NULL</td><td>bence</td><td>3</td></tr>",
                            "<tr><td>NULL</td><td>BENCEB</td><td>4</td></tr>",
                            "<tr><td>NULL</td><td>bernadett1</td><td>4</td></tr>",
                            "<tr><td>NULL</td><td>bernadett2</td><td>4</td></tr>",
                            "<tr><td>NULL</td><td>BERNADETTO</td><td>4</td></tr>",
                            "<tr><td>NULL</td><td>bertalan</td><td>4</td></tr>",
                            "<tr><td>NULL</td><td>brigitta</td><td>5</td></tr>",
                            "<tr><td>NULL</td><td>brigitta3</td><td>5</td></tr>",
                            "<tr><td>NULL</td><td>csongor3</td><td>4</td></tr>",
                            "<tr><td>NULL</td><td>dani</td><td>3</td></tr>",
                            "<tr><td>NULL</td><td>daniel</td><td>2</td></tr>",
                            "<tr><td>NULL</td><td>daniel1</td><td>3</td></tr>",
                            "<tr><td>NULL</td><td>david</td><td>4</td></tr>",
                            "<tr><td>NULL</td><td>david1</td><td>2</td></tr>",
                            "<tr><td>NULL</td><td>david4</td><td>3</td></tr>",
                            "<tr><td>NULL</td><td>debora</td><td>3</td></tr>",
                            "<tr><td>NULL</td><td>denes</td><td>5</td></tr>",
                            "<tr><td>NULL</td><td>dora3</td><td>4</td></tr>",
                            "<tr><td>NULL</td><td>edit</td><td>4</td></tr>",
                            "<tr><td>NULL</td><td>emese</td><td>2</td></tr>",
                            "<tr><td>NULL</td><td>eszter</td><td>5</td></tr>",
                            "<tr><td>NULL</td><td>eszter2</td><td>8</td></tr>",
                            "<tr><td>NULL</td><td>eszter4</td><td>4</td></tr>",
                            "<tr><td>NULL</td><td>ESZTERE</td><td>4</td></tr>",
                            "<tr><td>NULL</td><td>eva</td><td>2</td></tr>",
                            "<tr><td>NULL</td><td>eva2</td><td>4</td></tr>",
                            "<tr><td>NULL</td><td>EVAV</td><td>5</td></tr>",
                            "<tr><td>NULL</td><td>ferenc1</td><td>2</td></tr>",
                            "<tr><td>NULL</td><td>fruzsina4</td><td>3</td></tr>",
                            "<tr><td>NULL</td><td>gabor1</td><td>2</td></tr>",
                            "<tr><td>NULL</td><td>gabor4</td><td>5</td></tr>",
                            "<tr><td>NULL</td><td>gabriella1</td><td>4</td></tr>",
                            "<tr><td>NULL</td><td>gabriella10</td><td>5</td></tr>",
                            "<tr><td>NULL</td><td>georgij</td><td>5</td></tr>",
                            "<tr><td>NULL</td><td>gusztav</td><td>5</td></tr>",
                            "<tr><td>NULL</td><td>GYONGYIK</td><td>5</td></tr>",
                            "<tr><td>NULL</td><td>GYORGYO</td><td>3</td></tr>",
                            "<tr><td>NULL</td><td>henrik3</td><td>3</td></tr>",
                            "<tr><td>NULL</td><td>IBOLYAA</td><td>4</td></tr>",
                            "<tr><td>NULL</td><td>ilona3</td><td>4</td></tr>",
                            "<tr><td>NULL</td><td>imre</td><td>1</td></tr>",
                            "<tr><td>NULL</td><td>imre1</td><td>2</td></tr>",
                            "<tr><td>NULL</td><td>istvan</td><td>2</td></tr>",
                            "<tr><td>NULL</td><td>istvan1</td><td>4</td></tr>",
                            "<tr><td>NULL</td><td>ISTVANV</td><td>2</td></tr>",
                            "<tr><td>NULL</td><td>janos3</td><td>2</td></tr>",
                            "<tr><td>NULL</td><td>JANOSG</td><td>5</td></tr>",
                            "<tr><td>NULL</td><td>JANOSP</td><td>4</td></tr>",
                            "<tr><td>NULL</td><td>jozsef</td><td>3</td></tr>",
                            "<tr><td>NULL</td><td>jozsef2</td><td>5</td></tr>",
                            "<tr><td>NULL</td><td>JOZSEFG</td><td>4</td></tr>",
                            "<tr><td>NULL</td><td>JUDITH</td><td>4</td></tr>",
                            "<tr><td>NULL</td><td>julia</td><td>4</td></tr>",
                            "<tr><td>NULL</td><td>julia4</td><td>6</td></tr>",
                            "<tr><td>NULL</td><td>julianna4</td><td>4</td></tr>",
                            "<tr><td>NULL</td><td>kata</td><td>3</td></tr>",
                            "<tr><td>NULL</td><td>katalin</td><td>4</td></tr>",
                            "<tr><td>NULL</td><td>katalin4</td><td>4</td></tr>",
                            "<tr><td>NULL</td><td>kati</td><td>4</td></tr>",
                            "<tr><td>NULL</td><td>katka</td><td>3</td></tr>",
                            "<tr><td>NULL</td><td>klaudia2</td><td>2</td></tr>",
                            "<tr><td>NULL</td><td>kornel4</td><td>4</td></tr>",
                            "<tr><td>NULL</td><td>kristof4</td><td>5</td></tr>",
                            "<tr><td>NULL</td><td>kriszti</td><td>3</td></tr>",
                            "<tr><td>NULL</td><td>krisztian4</td><td>4</td></tr>",
                            "<tr><td>NULL</td><td>KRISZTIANM</td><td>5</td></tr>",
                            "<tr><td>NULL</td><td>krisztina</td><td>4</td></tr>",
                            "<tr><td>NULL</td><td>krisztina1</td><td>3</td></tr>",
                            "<tr><td>NULL</td><td>KRISZTINAG</td><td>4</td></tr>",
                            "<tr><td>NULL</td><td>lajos</td><td>2</td></tr>",
                            "<tr><td>NULL</td><td>lala</td><td>2</td></tr>",
                            "<tr><td>NULL</td><td>laszlo1</td><td>7</td></tr>",
                            "<tr><td>NULL</td><td>laszlo2</td><td>2</td></tr>",
                            "<tr><td>NULL</td><td>LASZLOA</td><td>4</td></tr>",
                            "<tr><td>NULL</td><td>LASZLON</td><td>4</td></tr>",
                            "<tr><td>NULL</td><td>maria1</td><td>4</td></tr>",
                            "<tr><td>NULL</td><td>mark</td><td>5</td></tr>",
                            "<tr><td>NULL</td><td>MARKH</td><td>5</td></tr>",
                            "<tr><td>NULL</td><td>marton</td><td>4</td></tr>",
                            "<tr><td>NULL</td><td>MATEK</td><td>4</td></tr>",
                            "<tr><td>NULL</td><td>matyas2</td><td>3</td></tr>",
                            "<tr><td>NULL</td><td>MATYASS</td><td>5</td></tr>",
                            "<tr><td>NULL</td><td>MIHALYJ</td><td>4</td></tr>",
                            "<tr><td>NULL</td><td>miklos2</td><td>1</td></tr>",
                            "<tr><td>NULL</td><td>MIKLOSB</td><td>4</td></tr>",
                            "<tr><td>NULL</td><td>MONIKAM</td><td>4</td></tr>",
                            "<tr><td>NULL</td><td>NANDORF</td><td>2</td></tr>",
                            "<tr><td>NULL</td><td>nikolett3</td><td>5</td></tr>",
                            "<tr><td>NULL</td><td>nikoletta4</td><td>4</td></tr>",
                            "<tr><td>NULL</td><td>NIKOLETTAT</td><td>2</td></tr>",
                            "<tr><td>NULL</td><td>norbert</td><td>4</td></tr>",
                            "<tr><td>NULL</td><td>norbert2</td><td>4</td></tr>",
                            "<tr><td>NULL</td><td>norbert4</td><td>3</td></tr>",
                            "<tr><td>NULL</td><td>norbert5</td><td>2</td></tr>",
                            "<tr><td>NULL</td><td>pal</td><td>4</td></tr>",
                            "<tr><td>NULL</td><td>peter1</td><td>4</td></tr>",
                            "<tr><td>NULL</td><td>peter2</td><td>4</td></tr>",
                            "<tr><td>NULL</td><td>peter3</td><td>4</td></tr>",
                            "<tr><td>NULL</td><td>peter4</td><td>4</td></tr>",
                            "<tr><td>NULL</td><td>PETERB</td><td>3</td></tr>",
                            "<tr><td>NULL</td><td>polla</td><td>4</td></tr>",
                            "<tr><td>NULL</td><td>rajmond4</td><td>2</td></tr>",
                            "<tr><td>NULL</td><td>reka4</td><td>4</td></tr>",
                            "<tr><td>NULL</td><td>RENATAK</td><td>3</td></tr>",
                            "<tr><td>NULL</td><td>RENATAS</td><td>5</td></tr>",
                            "<tr><td>NULL</td><td>robert2</td><td>5</td></tr>",
                            "<tr><td>NULL</td><td>ROBERTI</td><td>4</td></tr>",
                            "<tr><td>NULL</td><td>ROBERTP</td><td>4</td></tr>",
                            "<tr><td>NULL</td><td>roland</td><td>2</td></tr>",
                            "<tr><td>NULL</td><td>roland1</td><td>4</td></tr>",
                            "<tr><td>NULL</td><td>roza2</td><td>4</td></tr>",
                            "<tr><td>NULL</td><td>sandor</td><td>5</td></tr>",
                            "<tr><td>NULL</td><td>sandor3</td><td>4</td></tr>",
                            "<tr><td>NULL</td><td>sandor4</td><td>4</td></tr>",
                            "<tr><td>NULL</td><td>sara</td><td>3</td></tr>",
                            "<tr><td>NULL</td><td>SEBASTIANF</td><td>4</td></tr>",
                            "<tr><td>NULL</td><td>sebestyen</td><td>5</td></tr>",
                            "<tr><td>NULL</td><td>szabolcs</td><td>2</td></tr>",
                            "<tr><td>NULL</td><td>SZABOLCSM</td><td>2</td></tr>",
                            "<tr><td>NULL</td><td>SZILARDS</td><td>5</td></tr>",
                            "<tr><td>NULL</td><td>szilvia1</td><td>4</td></tr>",
                            "<tr><td>NULL</td><td>tamara2</td><td>3</td></tr>",
                            "<tr><td>NULL</td><td>tamas</td><td>5</td></tr>",
                            "<tr><td>NULL</td><td>TAMASF</td><td>4</td></tr>",
                            "<tr><td>NULL</td><td>tibor</td><td>4</td></tr>",
                            "<tr><td>NULL</td><td>tibor2</td><td>5</td></tr>",
                            "<tr><td>NULL</td><td>tihamer</td><td>4</td></tr>",
                            "<tr><td>NULL</td><td>timea</td><td>1</td></tr>",
                            "<tr><td>NULL</td><td>timea2</td><td>2</td></tr>",
                            "<tr><td>NULL</td><td>tunde</td><td>4</td></tr>",
                            "<tr><td>NULL</td><td>valentin</td><td>5</td></tr>",
                            "<tr><td>NULL</td><td>veronika4</td><td>5</td></tr>",
                            "<tr><td>NULL</td><td>VIKTORIAU</td><td>3</td></tr>",
                            "<tr><td>NULL</td><td>VIKTORK</td><td>1</td></tr>",
                            "<tr><td>NULL</td><td>vivien3</td><td>3</td></tr>",
                            "<tr><td>NULL</td><td>zoltan</td><td>5</td></tr>",
                            "<tr><td>NULL</td><td>zoltan4</td><td>4</td></tr>",
                            "<tr><td>NULL</td><td>ZOLTANP</td><td>3</td></tr>",
                            "<tr><td>NULL</td><td>ZOLTANT</td><td>2</td></tr>",
                            "<tr><td>NULL</td><td>zsofi1</td><td>1</td></tr>",
                            "<tr><td>NULL</td><td>zsolt1</td><td>2</td></tr>",
                            "<tr><td>NULL</td><td>ZSOLTJ</td><td>3</td></tr>",
                            "<tr><td>NULL</td><td>zsuzsa</td><td>3</td></tr>",
                            "<tr><td>NULL</td><td>zsuzsa3</td><td>4</td></tr>",
                            "<tr><td>NULL</td><td>zsuzsanna</td><td>5</td></tr>",
                            "<tr><td>NULL</td><td>ZSUZSAV</td><td>3</td></tr>",
                            "<tr><td>9</td><td>NULL</td><td>4</td></tr>",
                            "<tr><td>3</td><td>NULL</td><td>3</td></tr>",
                            "<tr><td>12</td><td>NULL</td><td>4</td></tr>",
                            "<tr><td>6</td><td>NULL</td><td>4</td></tr>",
                            "<tr><td>7</td><td>NULL</td><td>3</td></tr>",
                            "<tr><td>1</td><td>NULL</td><td>4</td></tr>",
                            "<tr><td>10</td><td>NULL</td><td>3</td></tr>",
                            "<tr><td>4</td><td>NULL</td><td>4</td></tr>",
                            "<tr><td>5</td><td>NULL</td><td>4</td></tr>",
                            "<tr><td>2</td><td>NULL</td><td>3</td></tr>",
                            "<tr><td>11</td><td>NULL</td><td>3</td></tr>",
                            "<tr><td>8</td><td>NULL</td><td>3</td></tr>",
                            "</table>"
                        ]
                    }
                }
            ],
            "execution_count": 4
        },
        {
            "cell_type": "markdown",
            "source": [
                "2\\. Készítsünk lekérdezést, amely megadja, hogy szállás típusonként, <span style=\"box-sizing: border-box; font-size: 0.9375rem;\">azon belül szálláshely kategóriánként (csillagok_szama) hány&nbsp;</span> <span style=\"box-sizing: border-box; font-size: 0.9375rem;\">db szálláshely van!&nbsp;</span> \n",
                "\n",
                "<span style=\"box-sizing: border-box; font-size: 0.9375rem;\">a. A lista jelenítse&nbsp; meg a részösszegeket és&nbsp;</span> <span style=\"box-sizing: border-box; font-size: 0.9375rem;\">a végösszeget is (csak a végösszeget kell külön elnevezni)</span>"
            ],
            "metadata": {
                "azdata_cell_guid": "27877f04-5972-4a5c-9185-0db9b88a8a0b"
            },
            "attachments": {}
        },
        {
            "cell_type": "code",
            "source": [
                "SELECT ISNULL(TIPUS, 'Végösszeg'),\r\n",
                "        CSILLAGOK_SZAMA,\r\n",
                "        COUNT(*)\r\n",
                "FROM Szallashely\r\n",
                "GROUP BY ROLLUP(TIPUS, CSILLAGOK_SZAMA)"
            ],
            "metadata": {
                "azdata_cell_guid": "b3ff9c51-7a94-48dc-ba4e-cfc2aa821917",
                "language": "sql"
            },
            "outputs": [
                {
                    "output_type": "display_data",
                    "data": {
                        "text/html": "(12 rows affected)"
                    },
                    "metadata": {}
                },
                {
                    "output_type": "display_data",
                    "data": {
                        "text/html": "Total execution time: 00:00:00.049"
                    },
                    "metadata": {}
                },
                {
                    "output_type": "execute_result",
                    "metadata": {},
                    "execution_count": 5,
                    "data": {
                        "application/vnd.dataresource+json": {
                            "schema": {
                                "fields": [
                                    {
                                        "name": "(No column name)"
                                    },
                                    {
                                        "name": "CSILLAGOK_SZAMA"
                                    },
                                    {
                                        "name": "(No column name)"
                                    }
                                ]
                            },
                            "data": [
                                {
                                    "(No column name)": "3",
                                    "CSILLAGOK_SZAMA": "0"
                                },
                                {
                                    "(No column name)": "3",
                                    "CSILLAGOK_SZAMA": "NULL"
                                },
                                {
                                    "(No column name)": "1",
                                    "CSILLAGOK_SZAMA": "0"
                                },
                                {
                                    "(No column name)": "1",
                                    "CSILLAGOK_SZAMA": "NULL"
                                },
                                {
                                    "(No column name)": "3",
                                    "CSILLAGOK_SZAMA": "3"
                                },
                                {
                                    "(No column name)": "3",
                                    "CSILLAGOK_SZAMA": "4"
                                },
                                {
                                    "(No column name)": "6",
                                    "CSILLAGOK_SZAMA": "NULL"
                                },
                                {
                                    "(No column name)": "5",
                                    "CSILLAGOK_SZAMA": "3"
                                },
                                {
                                    "(No column name)": "5",
                                    "CSILLAGOK_SZAMA": "NULL"
                                },
                                {
                                    "(No column name)": "6",
                                    "CSILLAGOK_SZAMA": "0"
                                },
                                {
                                    "(No column name)": "6",
                                    "CSILLAGOK_SZAMA": "NULL"
                                },
                                {
                                    "(No column name)": "21",
                                    "CSILLAGOK_SZAMA": "NULL"
                                }
                            ]
                        },
                        "text/html": [
                            "<table>",
                            "<tr><th>(No column name)</th><th>CSILLAGOK_SZAMA</th><th>(No column name)</th></tr>",
                            "<tr><td>Apartman</td><td>0</td><td>3</td></tr>",
                            "<tr><td>Apartman</td><td>NULL</td><td>3</td></tr>",
                            "<tr><td>Diákszálló</td><td>0</td><td>1</td></tr>",
                            "<tr><td>Diákszálló</td><td>NULL</td><td>1</td></tr>",
                            "<tr><td>Hotel</td><td>3</td><td>3</td></tr>",
                            "<tr><td>Hotel</td><td>4</td><td>3</td></tr>",
                            "<tr><td>Hotel</td><td>NULL</td><td>6</td></tr>",
                            "<tr><td>panzió</td><td>3</td><td>5</td></tr>",
                            "<tr><td>panzió</td><td>NULL</td><td>5</td></tr>",
                            "<tr><td>vendégház</td><td>0</td><td>6</td></tr>",
                            "<tr><td>vendégház</td><td>NULL</td><td>6</td></tr>",
                            "<tr><td>Végösszeg</td><td>NULL</td><td>21</td></tr>",
                            "</table>"
                        ]
                    }
                }
            ],
            "execution_count": 5
        },
        {
            "cell_type": "markdown",
            "source": [
                "3. <span style=\"background-color: rgb(239, 249, 252); color: rgb(18, 38, 44); font-family: Arial; font-size: 15px;\">Jelenítsük meg az ügyfelek nevét, minden egyes foglalásuk&nbsp;</span> <span style=\"color: rgb(18, 38, 44); font-family: Arial; font-size: 0.9375rem; box-sizing: border-box;\">kezdő dátumát, és azt, hogy a foglalás összesen hány főre&nbsp;</span> <span style=\"color: rgb(18, 38, 44); font-family: Arial; font-size: 0.9375rem; box-sizing: border-box;\">történt.&nbsp;</span> \n",
                "\n",
                "<span style=\"box-sizing: border-box; font-size: 0.9375rem;\">a. Egy új oszlopban mindig jelenjen meg az előző foglalás&nbsp;</span> <span style=\"box-sizing: border-box; font-size: 0.9375rem;\">kezdő dátuma is!</span>"
            ],
            "metadata": {
                "azdata_cell_guid": "d2e4348a-2bf8-4b03-a246-6627d22aac89"
            },
            "attachments": {}
        },
        {
            "cell_type": "code",
            "source": [
                "SELECT u.nev,\r\n",
                "        f.mettol,\r\n",
                "        f.FELNOTT_SZAM+f.GYERMEK_SZAM,\r\n",
                "        LAG(f.mettol) OVER(ORDER BY f.foglalas_pk)\r\n",
                "FROM Foglalas f JOIN Ugyfel u on f.UGYFEL_FK=u.[LOGIN]"
            ],
            "metadata": {
                "azdata_cell_guid": "6c1bb439-5775-4d4b-8344-28e38745c126",
                "language": "sql"
            },
            "outputs": [
                {
                    "output_type": "display_data",
                    "data": {
                        "text/html": "(1027 rows affected)"
                    },
                    "metadata": {}
                },
                {
                    "output_type": "display_data",
                    "data": {
                        "text/html": "Total execution time: 00:00:00.099"
                    },
                    "metadata": {}
                },
                {
                    "output_type": "execute_result",
                    "metadata": {},
                    "execution_count": 6,
                    "data": {
                        "application/vnd.dataresource+json": {
                            "schema": {
                                "fields": [
                                    {
                                        "name": "nev"
                                    },
                                    {
                                        "name": "mettol"
                                    },
                                    {
                                        "name": "(No column name)"
                                    },
                                    {
                                        "name": "(No column name)"
                                    }
                                ]
                            },
                            "data": [
                                {
                                    "nev": "Fő Nándor",
                                    "mettol": "2016-04-06",
                                    "(No column name)": "NULL"
                                },
                                {
                                    "nev": "Kelemen Áron",
                                    "mettol": "2016-04-06",
                                    "(No column name)": "2016-04-06"
                                },
                                {
                                    "nev": "Foltényi Sebastián",
                                    "mettol": "2016-04-06",
                                    "(No column name)": "2016-04-06"
                                },
                                {
                                    "nev": "Móra László",
                                    "mettol": "2016-04-06",
                                    "(No column name)": "2016-04-06"
                                },
                                {
                                    "nev": "Berendi Péter",
                                    "mettol": "2016-04-06",
                                    "(No column name)": "2016-04-06"
                                },
                                {
                                    "nev": "Rab Sebestyén",
                                    "mettol": "2016-04-07",
                                    "(No column name)": "2016-04-06"
                                },
                                {
                                    "nev": "Kő Nikoletta",
                                    "mettol": "2016-04-08",
                                    "(No column name)": "2016-04-07"
                                },
                                {
                                    "nev": "Poprádi Kristóf",
                                    "mettol": "2016-04-08",
                                    "(No column name)": "2016-04-08"
                                },
                                {
                                    "nev": "Mogyródi Krisztián",
                                    "mettol": "2016-04-09",
                                    "(No column name)": "2016-04-08"
                                },
                                {
                                    "nev": "Pivarcsi Anett",
                                    "mettol": "2016-04-10",
                                    "(No column name)": "2016-04-09"
                                },
                                {
                                    "nev": "Gondos Katalin",
                                    "mettol": "2016-04-10",
                                    "(No column name)": "2016-04-10"
                                },
                                {
                                    "nev": "Mile Norbert",
                                    "mettol": "2016-04-10",
                                    "(No column name)": "2016-04-10"
                                },
                                {
                                    "nev": "Orbán Bernadett",
                                    "mettol": "2016-04-10",
                                    "(No column name)": "2016-04-10"
                                },
                                {
                                    "nev": "Horváth Ágnes",
                                    "mettol": "2016-04-10",
                                    "(No column name)": "2016-04-10"
                                },
                                {
                                    "nev": "Horváth Katalin",
                                    "mettol": "2016-04-10",
                                    "(No column name)": "2016-04-10"
                                },
                                {
                                    "nev": "Keszler Dániel",
                                    "mettol": "2016-04-10",
                                    "(No column name)": "2016-04-10"
                                },
                                {
                                    "nev": "Kovács Katalin",
                                    "mettol": "2016-04-10",
                                    "(No column name)": "2016-04-10"
                                },
                                {
                                    "nev": "Rácz Dániel",
                                    "mettol": "2016-04-10",
                                    "(No column name)": "2016-04-10"
                                },
                                {
                                    "nev": "Jakab Áron",
                                    "mettol": "2016-04-11",
                                    "(No column name)": "2016-04-10"
                                },
                                {
                                    "nev": "Bíró Péter",
                                    "mettol": "2016-04-12",
                                    "(No column name)": "2016-04-11"
                                },
                                {
                                    "nev": "Pivarcsi Anett",
                                    "mettol": "2016-04-13",
                                    "(No column name)": "2016-04-12"
                                },
                                {
                                    "nev": "Vajda Zsuzsa",
                                    "mettol": "2016-04-14",
                                    "(No column name)": "2016-04-13"
                                },
                                {
                                    "nev": "Pulai Zsolt",
                                    "mettol": "2016-04-14",
                                    "(No column name)": "2016-04-14"
                                },
                                {
                                    "nev": "Pivarcsi Anett",
                                    "mettol": "2016-04-15",
                                    "(No column name)": "2016-04-14"
                                },
                                {
                                    "nev": "Szűcs Balázs",
                                    "mettol": "2016-04-16",
                                    "(No column name)": "2016-04-15"
                                },
                                {
                                    "nev": "Vizi István",
                                    "mettol": "2016-04-16",
                                    "(No column name)": "2016-04-16"
                                },
                                {
                                    "nev": "Orbán Bernadett",
                                    "mettol": "2016-04-17",
                                    "(No column name)": "2016-04-16"
                                },
                                {
                                    "nev": "Palágyi Polla",
                                    "mettol": "2016-04-17",
                                    "(No column name)": "2016-04-17"
                                },
                                {
                                    "nev": "Szekendi Beatrix",
                                    "mettol": "2016-04-18",
                                    "(No column name)": "2016-04-17"
                                },
                                {
                                    "nev": "Hegedűs Norbert",
                                    "mettol": "2016-04-19",
                                    "(No column name)": "2016-04-18"
                                },
                                {
                                    "nev": "Kispál Márk",
                                    "mettol": "2016-04-19",
                                    "(No column name)": "2016-04-19"
                                },
                                {
                                    "nev": "Gondos Miklós",
                                    "mettol": "2016-04-19",
                                    "(No column name)": "2016-04-19"
                                },
                                {
                                    "nev": "Simon Anikó",
                                    "mettol": "2016-04-19",
                                    "(No column name)": "2016-04-19"
                                },
                                {
                                    "nev": "Bagi Beáta",
                                    "mettol": "2016-04-20",
                                    "(No column name)": "2016-04-19"
                                },
                                {
                                    "nev": "Tóth Júlia",
                                    "mettol": "2016-04-21",
                                    "(No column name)": "2016-04-20"
                                },
                                {
                                    "nev": "Nagy Gabriella",
                                    "mettol": "2016-04-21",
                                    "(No column name)": "2016-04-21"
                                },
                                {
                                    "nev": "Rácz Dániel",
                                    "mettol": "2016-04-22",
                                    "(No column name)": "2016-04-21"
                                },
                                {
                                    "nev": "Horváth Bálint",
                                    "mettol": "2016-04-22",
                                    "(No column name)": "2016-04-22"
                                },
                                {
                                    "nev": "Szalai Szilárd",
                                    "mettol": "2016-04-23",
                                    "(No column name)": "2016-04-22"
                                },
                                {
                                    "nev": "Gyárfás Krisztina",
                                    "mettol": "2016-04-23",
                                    "(No column name)": "2016-04-23"
                                },
                                {
                                    "nev": "Józsa Zsolt",
                                    "mettol": "2016-04-24",
                                    "(No column name)": "2016-04-23"
                                },
                                {
                                    "nev": "Vizi István",
                                    "mettol": "2016-04-24",
                                    "(No column name)": "2016-04-24"
                                },
                                {
                                    "nev": "Erdei András",
                                    "mettol": "2016-04-24",
                                    "(No column name)": "2016-04-24"
                                },
                                {
                                    "nev": "Gondos Katalin",
                                    "mettol": "2016-04-25",
                                    "(No column name)": "2016-04-24"
                                },
                                {
                                    "nev": "Rab Sebestyén",
                                    "mettol": "2016-04-26",
                                    "(No column name)": "2016-04-25"
                                },
                                {
                                    "nev": "Telek Gábor",
                                    "mettol": "2016-04-26",
                                    "(No column name)": "2016-04-26"
                                },
                                {
                                    "nev": "Móra László",
                                    "mettol": "2016-04-27",
                                    "(No column name)": "2016-04-26"
                                },
                                {
                                    "nev": "Kalacsi Márton",
                                    "mettol": "2016-04-27",
                                    "(No column name)": "2016-04-27"
                                },
                                {
                                    "nev": "Horváth Ágnes",
                                    "mettol": "2016-04-27",
                                    "(No column name)": "2016-04-27"
                                },
                                {
                                    "nev": "Pivarcsi Anett",
                                    "mettol": "2016-04-28",
                                    "(No column name)": "2016-04-27"
                                },
                                {
                                    "nev": "Bori Krisztina",
                                    "mettol": "2016-04-28",
                                    "(No column name)": "2016-04-28"
                                },
                                {
                                    "nev": "Mohos Mónika",
                                    "mettol": "2016-04-29",
                                    "(No column name)": "2016-04-28"
                                },
                                {
                                    "nev": "Urbán Viktoria",
                                    "mettol": "2016-04-30",
                                    "(No column name)": "2016-04-29"
                                },
                                {
                                    "nev": "Vígh András",
                                    "mettol": "2016-05-01",
                                    "(No column name)": "2016-04-30"
                                },
                                {
                                    "nev": "Kovács Bernadett",
                                    "mettol": "2016-05-01",
                                    "(No column name)": "2016-05-01"
                                },
                                {
                                    "nev": "Nagymihály Csongor",
                                    "mettol": "2016-05-01",
                                    "(No column name)": "2016-05-01"
                                },
                                {
                                    "nev": "Viktor Éva",
                                    "mettol": "2016-05-01",
                                    "(No column name)": "2016-05-01"
                                },
                                {
                                    "nev": "Tóth Zoltán",
                                    "mettol": "2016-05-01",
                                    "(No column name)": "2016-05-01"
                                },
                                {
                                    "nev": "Gyuris József",
                                    "mettol": "2016-05-02",
                                    "(No column name)": "2016-05-01"
                                },
                                {
                                    "nev": "Boros Vivien",
                                    "mettol": "2016-05-02",
                                    "(No column name)": "2016-05-02"
                                },
                                {
                                    "nev": "Fényes Tamás",
                                    "mettol": "2016-05-03",
                                    "(No column name)": "2016-05-02"
                                },
                                {
                                    "nev": "Szirmai Renáta",
                                    "mettol": "2016-05-04",
                                    "(No column name)": "2016-05-03"
                                },
                                {
                                    "nev": "Kalacsi Márton",
                                    "mettol": "2016-05-05",
                                    "(No column name)": "2016-05-04"
                                },
                                {
                                    "nev": "Bárci Gusztáv",
                                    "mettol": "2016-05-06",
                                    "(No column name)": "2016-05-05"
                                },
                                {
                                    "nev": "Bozsik Balázs",
                                    "mettol": "2016-05-07",
                                    "(No column name)": "2016-05-06"
                                },
                                {
                                    "nev": "Nagymihály Csongor",
                                    "mettol": "2016-05-08",
                                    "(No column name)": "2016-05-07"
                                },
                                {
                                    "nev": "Maródi Andrea",
                                    "mettol": "2016-05-08",
                                    "(No column name)": "2016-05-08"
                                },
                                {
                                    "nev": "Orosz Ferenc",
                                    "mettol": "2016-05-08",
                                    "(No column name)": "2016-05-08"
                                },
                                {
                                    "nev": "Győrffy Bence",
                                    "mettol": "2016-05-08",
                                    "(No column name)": "2016-05-08"
                                },
                                {
                                    "nev": "Lukács Kornél",
                                    "mettol": "2016-05-08",
                                    "(No column name)": "2016-05-08"
                                },
                                {
                                    "nev": "Lengyel Ágnes",
                                    "mettol": "2016-05-09",
                                    "(No column name)": "2016-05-08"
                                },
                                {
                                    "nev": "Rácz Dániel",
                                    "mettol": "2016-05-09",
                                    "(No column name)": "2016-05-09"
                                },
                                {
                                    "nev": "Józsa Zsolt",
                                    "mettol": "2016-05-09",
                                    "(No column name)": "2016-05-09"
                                },
                                {
                                    "nev": "Giliga János",
                                    "mettol": "2016-05-09",
                                    "(No column name)": "2016-05-09"
                                },
                                {
                                    "nev": "Hegedűs Norbert",
                                    "mettol": "2016-05-09",
                                    "(No column name)": "2016-05-09"
                                },
                                {
                                    "nev": "Kovács Katalin",
                                    "mettol": "2016-05-09",
                                    "(No column name)": "2016-05-09"
                                },
                                {
                                    "nev": "Kő Nikoletta",
                                    "mettol": "2016-05-09",
                                    "(No column name)": "2016-05-09"
                                },
                                {
                                    "nev": "Keszler Dániel",
                                    "mettol": "2016-05-10",
                                    "(No column name)": "2016-05-09"
                                },
                                {
                                    "nev": "Szilágyi Mátyás",
                                    "mettol": "2016-05-10",
                                    "(No column name)": "2016-05-10"
                                },
                                {
                                    "nev": "Szirmai Renáta",
                                    "mettol": "2016-05-11",
                                    "(No column name)": "2016-05-10"
                                },
                                {
                                    "nev": "Tóth Júlia",
                                    "mettol": "2016-05-12",
                                    "(No column name)": "2016-05-11"
                                },
                                {
                                    "nev": "Barna Zoltán",
                                    "mettol": "2016-05-12",
                                    "(No column name)": "2016-05-12"
                                },
                                {
                                    "nev": "Farkas Sándor",
                                    "mettol": "2016-05-12",
                                    "(No column name)": "2016-05-12"
                                },
                                {
                                    "nev": "Barna Zoltán",
                                    "mettol": "2016-05-13",
                                    "(No column name)": "2016-05-12"
                                },
                                {
                                    "nev": "Baráth Mária",
                                    "mettol": "2016-05-13",
                                    "(No column name)": "2016-05-13"
                                },
                                {
                                    "nev": "Komjáti András",
                                    "mettol": "2016-05-14",
                                    "(No column name)": "2016-05-13"
                                },
                                {
                                    "nev": "Tari Szilvia",
                                    "mettol": "2016-05-14",
                                    "(No column name)": "2016-05-14"
                                },
                                {
                                    "nev": "Kelemen Áron",
                                    "mettol": "2016-05-14",
                                    "(No column name)": "2016-05-14"
                                },
                                {
                                    "nev": "Bajusz Bence",
                                    "mettol": "2016-05-14",
                                    "(No column name)": "2016-05-14"
                                },
                                {
                                    "nev": "Patay Róbert",
                                    "mettol": "2016-05-15",
                                    "(No column name)": "2016-05-14"
                                },
                                {
                                    "nev": "Bori Krisztina",
                                    "mettol": "2016-05-16",
                                    "(No column name)": "2016-05-15"
                                },
                                {
                                    "nev": "Antal Tamás",
                                    "mettol": "2016-05-17",
                                    "(No column name)": "2016-05-16"
                                },
                                {
                                    "nev": "Barta Zsuzsanna",
                                    "mettol": "2016-05-17",
                                    "(No column name)": "2016-05-17"
                                },
                                {
                                    "nev": "Dunai Aladár",
                                    "mettol": "2016-05-17",
                                    "(No column name)": "2016-05-17"
                                },
                                {
                                    "nev": "Baráth Mária",
                                    "mettol": "2016-05-18",
                                    "(No column name)": "2016-05-17"
                                },
                                {
                                    "nev": "Ambrus Dávid",
                                    "mettol": "2016-05-18",
                                    "(No column name)": "2016-05-18"
                                },
                                {
                                    "nev": "Csiger Bertalan",
                                    "mettol": "2016-05-18",
                                    "(No column name)": "2016-05-18"
                                },
                                {
                                    "nev": "Bíró Ákos",
                                    "mettol": "2016-05-18",
                                    "(No column name)": "2016-05-18"
                                },
                                {
                                    "nev": "Horváth Krisztina",
                                    "mettol": "2016-05-19",
                                    "(No column name)": "2016-05-18"
                                },
                                {
                                    "nev": "Gulyás Attila",
                                    "mettol": "2016-05-20",
                                    "(No column name)": "2016-05-19"
                                },
                                {
                                    "nev": "Bagóczki Alexandra",
                                    "mettol": "2016-05-21",
                                    "(No column name)": "2016-05-20"
                                },
                                {
                                    "nev": "Szedlár Krisztina",
                                    "mettol": "2016-05-21",
                                    "(No column name)": "2016-05-21"
                                },
                                {
                                    "nev": "Opra Attila",
                                    "mettol": "2016-05-21",
                                    "(No column name)": "2016-05-21"
                                },
                                {
                                    "nev": "Horváth Katalin",
                                    "mettol": "2016-05-21",
                                    "(No column name)": "2016-05-21"
                                },
                                {
                                    "nev": "Komjáti András",
                                    "mettol": "2016-05-21",
                                    "(No column name)": "2016-05-21"
                                },
                                {
                                    "nev": "Tatár Nikoletta",
                                    "mettol": "2016-05-22",
                                    "(No column name)": "2016-05-21"
                                },
                                {
                                    "nev": "Botka Mátyás",
                                    "mettol": "2016-07-13",
                                    "(No column name)": "2016-05-22"
                                },
                                {
                                    "nev": "Zatykó Katalin",
                                    "mettol": "2016-07-13",
                                    "(No column name)": "2016-07-13"
                                },
                                {
                                    "nev": "Lengyel Ágnes",
                                    "mettol": "2016-07-13",
                                    "(No column name)": "2016-07-13"
                                },
                                {
                                    "nev": "Frank Fruzsina",
                                    "mettol": "2016-07-13",
                                    "(No column name)": "2016-07-13"
                                },
                                {
                                    "nev": "Tóth Zoltán",
                                    "mettol": "2016-07-14",
                                    "(No column name)": "2016-07-13"
                                },
                                {
                                    "nev": "Turcsik Tünde",
                                    "mettol": "2016-07-14",
                                    "(No column name)": "2016-07-14"
                                },
                                {
                                    "nev": "Horváth Árpád",
                                    "mettol": "2016-07-14",
                                    "(No column name)": "2016-07-14"
                                },
                                {
                                    "nev": "Kozma Péter",
                                    "mettol": "2016-07-14",
                                    "(No column name)": "2016-07-14"
                                },
                                {
                                    "nev": "Bittmann Edit",
                                    "mettol": "2016-07-14",
                                    "(No column name)": "2016-07-14"
                                },
                                {
                                    "nev": "Bíró Ákos",
                                    "mettol": "2016-07-14",
                                    "(No column name)": "2016-07-14"
                                },
                                {
                                    "nev": "Vígh András",
                                    "mettol": "2016-07-15",
                                    "(No column name)": "2016-07-14"
                                },
                                {
                                    "nev": "Farkas Sára",
                                    "mettol": "2016-07-15",
                                    "(No column name)": "2016-07-15"
                                },
                                {
                                    "nev": "Bíró Ákos",
                                    "mettol": "2016-07-16",
                                    "(No column name)": "2016-07-15"
                                },
                                {
                                    "nev": "Vajda József",
                                    "mettol": "2016-07-16",
                                    "(No column name)": "2016-07-16"
                                },
                                {
                                    "nev": "Bakódy Balázs",
                                    "mettol": "2016-07-17",
                                    "(No column name)": "2016-07-16"
                                },
                                {
                                    "nev": "Simon Anikó",
                                    "mettol": "2016-07-17",
                                    "(No column name)": "2016-07-17"
                                },
                                {
                                    "nev": "Foltényi Sebastián",
                                    "mettol": "2016-07-17",
                                    "(No column name)": "2016-07-17"
                                },
                                {
                                    "nev": "Ambrus Dávid",
                                    "mettol": "2016-07-18",
                                    "(No column name)": "2016-07-17"
                                },
                                {
                                    "nev": "Kiss Lajos",
                                    "mettol": "2016-07-18",
                                    "(No column name)": "2016-07-18"
                                },
                                {
                                    "nev": "Oroszi György",
                                    "mettol": "2016-07-18",
                                    "(No column name)": "2016-07-18"
                                },
                                {
                                    "nev": "Regős Annamária",
                                    "mettol": "2016-07-18",
                                    "(No column name)": "2016-07-18"
                                },
                                {
                                    "nev": "Józsa Zsolt",
                                    "mettol": "2016-07-18",
                                    "(No column name)": "2016-07-18"
                                },
                                {
                                    "nev": "Karasz Sándor",
                                    "mettol": "2016-07-18",
                                    "(No column name)": "2016-07-18"
                                },
                                {
                                    "nev": "Balla Miklós",
                                    "mettol": "2016-07-18",
                                    "(No column name)": "2016-07-18"
                                },
                                {
                                    "nev": "Érsek Eszter",
                                    "mettol": "2016-07-19",
                                    "(No column name)": "2016-07-18"
                                },
                                {
                                    "nev": "Vizi István",
                                    "mettol": "2016-07-19",
                                    "(No column name)": "2016-07-19"
                                },
                                {
                                    "nev": "Tömböly Dénes",
                                    "mettol": "2016-07-19",
                                    "(No column name)": "2016-07-19"
                                },
                                {
                                    "nev": "Szűcs Balázs",
                                    "mettol": "2016-07-20",
                                    "(No column name)": "2016-07-19"
                                },
                                {
                                    "nev": "Szabó Julianna",
                                    "mettol": "2016-07-20",
                                    "(No column name)": "2016-07-20"
                                },
                                {
                                    "nev": "Tóth András",
                                    "mettol": "2016-07-20",
                                    "(No column name)": "2016-07-20"
                                },
                                {
                                    "nev": "Berendi Péter",
                                    "mettol": "2016-07-20",
                                    "(No column name)": "2016-07-20"
                                },
                                {
                                    "nev": "Tankó Veronika",
                                    "mettol": "2016-07-20",
                                    "(No column name)": "2016-07-20"
                                },
                                {
                                    "nev": "Nagymihály Lajos",
                                    "mettol": "2016-07-20",
                                    "(No column name)": "2016-07-20"
                                },
                                {
                                    "nev": "Molnár András",
                                    "mettol": "2016-07-20",
                                    "(No column name)": "2016-07-20"
                                },
                                {
                                    "nev": "Kazy Tihamér",
                                    "mettol": "2016-07-20",
                                    "(No column name)": "2016-07-20"
                                },
                                {
                                    "nev": "Tóth Júlia",
                                    "mettol": "2016-07-20",
                                    "(No column name)": "2016-07-20"
                                },
                                {
                                    "nev": "Pintér Zoltán",
                                    "mettol": "2016-07-20",
                                    "(No column name)": "2016-07-20"
                                },
                                {
                                    "nev": "Vígh András",
                                    "mettol": "2016-07-21",
                                    "(No column name)": "2016-07-20"
                                },
                                {
                                    "nev": "Vukasinovity Bálint",
                                    "mettol": "2016-07-21",
                                    "(No column name)": "2016-07-21"
                                },
                                {
                                    "nev": "Bozsik Balázs",
                                    "mettol": "2016-07-22",
                                    "(No column name)": "2016-07-21"
                                },
                                {
                                    "nev": "Böröcz Anikó",
                                    "mettol": "2016-07-22",
                                    "(No column name)": "2016-07-22"
                                },
                                {
                                    "nev": "Bíró Ákos",
                                    "mettol": "2016-07-22",
                                    "(No column name)": "2016-07-22"
                                },
                                {
                                    "nev": "Kuruc Emese",
                                    "mettol": "2016-07-22",
                                    "(No column name)": "2016-07-22"
                                },
                                {
                                    "nev": "Szilágyi Mátyás",
                                    "mettol": "2016-07-23",
                                    "(No column name)": "2016-07-22"
                                },
                                {
                                    "nev": "Mohos Mónika",
                                    "mettol": "2016-07-23",
                                    "(No column name)": "2016-07-23"
                                },
                                {
                                    "nev": "Feró Valentin",
                                    "mettol": "2016-07-24",
                                    "(No column name)": "2016-07-23"
                                },
                                {
                                    "nev": "Nagy Gabriella",
                                    "mettol": "2016-07-24",
                                    "(No column name)": "2016-07-24"
                                },
                                {
                                    "nev": "Farkas Sára",
                                    "mettol": "2016-07-24",
                                    "(No column name)": "2016-07-24"
                                },
                                {
                                    "nev": "Pusztai Zsuzsanna",
                                    "mettol": "2016-07-24",
                                    "(No column name)": "2016-07-24"
                                },
                                {
                                    "nev": "Győrffy Bence",
                                    "mettol": "2016-07-24",
                                    "(No column name)": "2016-07-24"
                                },
                                {
                                    "nev": "Győrffy Bence",
                                    "mettol": "2016-07-25",
                                    "(No column name)": "2016-07-24"
                                },
                                {
                                    "nev": "Tari Szilvia",
                                    "mettol": "2016-07-25",
                                    "(No column name)": "2016-07-25"
                                },
                                {
                                    "nev": "Nagymihály Lajos",
                                    "mettol": "2016-07-26",
                                    "(No column name)": "2016-07-25"
                                },
                                {
                                    "nev": "Molnár Bálint",
                                    "mettol": "2016-07-26",
                                    "(No column name)": "2016-07-26"
                                },
                                {
                                    "nev": "Szalai Szilárd",
                                    "mettol": "2016-07-27",
                                    "(No column name)": "2016-07-26"
                                },
                                {
                                    "nev": "Farkas Béla",
                                    "mettol": "2016-07-27",
                                    "(No column name)": "2016-07-27"
                                },
                                {
                                    "nev": "Tatár Nikoletta",
                                    "mettol": "2016-07-27",
                                    "(No column name)": "2016-07-27"
                                },
                                {
                                    "nev": "Szikszai Réka",
                                    "mettol": "2016-07-27",
                                    "(No column name)": "2016-07-27"
                                },
                                {
                                    "nev": "Kiss Andrea",
                                    "mettol": "2016-07-27",
                                    "(No column name)": "2016-07-27"
                                },
                                {
                                    "nev": "Zatykó Katalin",
                                    "mettol": "2016-07-27",
                                    "(No column name)": "2016-07-27"
                                },
                                {
                                    "nev": "Hegedűs Norbert",
                                    "mettol": "2016-07-27",
                                    "(No column name)": "2016-07-27"
                                },
                                {
                                    "nev": "Tornyos Andrea",
                                    "mettol": "2016-07-27",
                                    "(No column name)": "2016-07-27"
                                },
                                {
                                    "nev": "Szalai Péter",
                                    "mettol": "2016-07-27",
                                    "(No column name)": "2016-07-27"
                                },
                                {
                                    "nev": "Bagóczki Alexandra",
                                    "mettol": "2016-07-27",
                                    "(No column name)": "2016-07-27"
                                },
                                {
                                    "nev": "Bakódy Balázs",
                                    "mettol": "2016-07-27",
                                    "(No column name)": "2016-07-27"
                                },
                                {
                                    "nev": "Hídasi Judit",
                                    "mettol": "2016-07-28",
                                    "(No column name)": "2016-07-27"
                                },
                                {
                                    "nev": "Köves Gábor",
                                    "mettol": "2016-07-28",
                                    "(No column name)": "2016-07-28"
                                },
                                {
                                    "nev": "Komjáti András",
                                    "mettol": "2016-07-28",
                                    "(No column name)": "2016-07-28"
                                },
                                {
                                    "nev": "Czérna Krisztián",
                                    "mettol": "2016-07-28",
                                    "(No column name)": "2016-07-28"
                                },
                                {
                                    "nev": "Horváth Katalin",
                                    "mettol": "2016-07-28",
                                    "(No column name)": "2016-07-28"
                                },
                                {
                                    "nev": "Oroszi György",
                                    "mettol": "2016-07-28",
                                    "(No column name)": "2016-07-28"
                                },
                                {
                                    "nev": "Miklós Szabolcs",
                                    "mettol": "2016-07-28",
                                    "(No column name)": "2016-07-28"
                                },
                                {
                                    "nev": "Kovács Ágnes",
                                    "mettol": "2016-07-29",
                                    "(No column name)": "2016-07-28"
                                },
                                {
                                    "nev": "Farkas Béla",
                                    "mettol": "2016-07-29",
                                    "(No column name)": "2016-07-29"
                                },
                                {
                                    "nev": "Lengyel Ágnes",
                                    "mettol": "2016-07-30",
                                    "(No column name)": "2016-07-29"
                                },
                                {
                                    "nev": "Pásztor Róbert",
                                    "mettol": "2016-07-30",
                                    "(No column name)": "2016-07-30"
                                },
                                {
                                    "nev": "Varsányi Zsuzsa",
                                    "mettol": "2016-07-30",
                                    "(No column name)": "2016-07-30"
                                },
                                {
                                    "nev": "Foltényi Sebastián",
                                    "mettol": "2016-07-30",
                                    "(No column name)": "2016-07-30"
                                },
                                {
                                    "nev": "Bosnyák Ilona",
                                    "mettol": "2016-07-31",
                                    "(No column name)": "2016-07-30"
                                },
                                {
                                    "nev": "Pulai Zsolt",
                                    "mettol": "2016-07-31",
                                    "(No column name)": "2016-07-31"
                                },
                                {
                                    "nev": "Kiss Andrea",
                                    "mettol": "2016-08-01",
                                    "(No column name)": "2016-07-31"
                                },
                                {
                                    "nev": "Bajusz Bence",
                                    "mettol": "2016-08-01",
                                    "(No column name)": "2016-08-01"
                                },
                                {
                                    "nev": "Tömböly Dénes",
                                    "mettol": "2016-08-01",
                                    "(No column name)": "2016-08-01"
                                },
                                {
                                    "nev": "Czérna Krisztián",
                                    "mettol": "2016-08-01",
                                    "(No column name)": "2016-08-01"
                                },
                                {
                                    "nev": "Szikszai Réka",
                                    "mettol": "2016-08-02",
                                    "(No column name)": "2016-08-01"
                                },
                                {
                                    "nev": "Mogyródi Krisztián",
                                    "mettol": "2016-08-02",
                                    "(No column name)": "2016-08-02"
                                },
                                {
                                    "nev": "Bittmann Edit",
                                    "mettol": "2016-08-03",
                                    "(No column name)": "2016-08-02"
                                },
                                {
                                    "nev": "Zatykó Katalin",
                                    "mettol": "2016-08-03",
                                    "(No column name)": "2016-08-03"
                                },
                                {
                                    "nev": "Molnár Bálint",
                                    "mettol": "2016-08-03",
                                    "(No column name)": "2016-08-03"
                                },
                                {
                                    "nev": "Urbán Viktoria",
                                    "mettol": "2016-08-03",
                                    "(No column name)": "2016-08-03"
                                },
                                {
                                    "nev": "Bosnyák Ilona",
                                    "mettol": "2016-08-04",
                                    "(No column name)": "2016-08-03"
                                },
                                {
                                    "nev": "Hartyánszky Ágnes",
                                    "mettol": "2016-08-04",
                                    "(No column name)": "2016-08-04"
                                },
                                {
                                    "nev": "Bárci Gusztáv",
                                    "mettol": "2016-08-05",
                                    "(No column name)": "2016-08-04"
                                },
                                {
                                    "nev": "Ambrus Dávid",
                                    "mettol": "2016-08-05",
                                    "(No column name)": "2016-08-05"
                                },
                                {
                                    "nev": "Kelemen Áron",
                                    "mettol": "2016-08-05",
                                    "(No column name)": "2016-08-05"
                                },
                                {
                                    "nev": "Bíró Péter",
                                    "mettol": "2016-08-06",
                                    "(No column name)": "2016-08-05"
                                },
                                {
                                    "nev": "Endresz Bálint",
                                    "mettol": "2016-08-06",
                                    "(No column name)": "2016-08-06"
                                },
                                {
                                    "nev": "Vörös Dániel",
                                    "mettol": "2016-08-06",
                                    "(No column name)": "2016-08-06"
                                },
                                {
                                    "nev": "Dusha Tímea",
                                    "mettol": "2016-08-07",
                                    "(No column name)": "2016-08-06"
                                },
                                {
                                    "nev": "Gyárfás Krisztina",
                                    "mettol": "2016-08-08",
                                    "(No column name)": "2016-08-07"
                                },
                                {
                                    "nev": "Kispál Márk",
                                    "mettol": "2016-08-09",
                                    "(No column name)": "2016-08-08"
                                },
                                {
                                    "nev": "Kuruc Emese",
                                    "mettol": "2016-08-09",
                                    "(No column name)": "2016-08-09"
                                },
                                {
                                    "nev": "Béres Norbert",
                                    "mettol": "2016-08-10",
                                    "(No column name)": "2016-08-09"
                                },
                                {
                                    "nev": "Baráth Mária",
                                    "mettol": "2016-08-11",
                                    "(No column name)": "2016-08-10"
                                },
                                {
                                    "nev": "Kerényi Beatrix",
                                    "mettol": "2016-08-12",
                                    "(No column name)": "2016-08-11"
                                },
                                {
                                    "nev": "Kalacsi Márton",
                                    "mettol": "2016-08-12",
                                    "(No column name)": "2016-08-12"
                                },
                                {
                                    "nev": "Miklós Tamara",
                                    "mettol": "2016-08-12",
                                    "(No column name)": "2016-08-12"
                                },
                                {
                                    "nev": "Móricz Árpád",
                                    "mettol": "2016-08-12",
                                    "(No column name)": "2016-08-12"
                                },
                                {
                                    "nev": "Molnár Eszter",
                                    "mettol": "2016-08-12",
                                    "(No column name)": "2016-08-12"
                                },
                                {
                                    "nev": "Bittmann Edit",
                                    "mettol": "2016-08-12",
                                    "(No column name)": "2016-08-12"
                                },
                                {
                                    "nev": "Boros Vivien",
                                    "mettol": "2016-08-13",
                                    "(No column name)": "2016-08-12"
                                },
                                {
                                    "nev": "Kő Nikoletta",
                                    "mettol": "2016-08-13",
                                    "(No column name)": "2016-08-13"
                                },
                                {
                                    "nev": "Barabás Pál",
                                    "mettol": "2016-08-14",
                                    "(No column name)": "2016-08-13"
                                },
                                {
                                    "nev": "Palágyi Polla",
                                    "mettol": "2016-08-14",
                                    "(No column name)": "2016-08-14"
                                },
                                {
                                    "nev": "Móra László",
                                    "mettol": "2016-08-14",
                                    "(No column name)": "2016-08-14"
                                },
                                {
                                    "nev": "Barna Zoltán",
                                    "mettol": "2016-08-15",
                                    "(No column name)": "2016-08-14"
                                },
                                {
                                    "nev": "Pivarcsi Anett",
                                    "mettol": "2016-08-15",
                                    "(No column name)": "2016-08-15"
                                },
                                {
                                    "nev": "Berendi Péter",
                                    "mettol": "2016-08-16",
                                    "(No column name)": "2016-08-15"
                                },
                                {
                                    "nev": "Hegedűs Norbert",
                                    "mettol": "2016-08-16",
                                    "(No column name)": "2016-08-16"
                                },
                                {
                                    "nev": "Tömböly Dénes",
                                    "mettol": "2016-08-16",
                                    "(No column name)": "2016-08-16"
                                },
                                {
                                    "nev": "Barna Zoltán",
                                    "mettol": "2016-08-16",
                                    "(No column name)": "2016-08-16"
                                },
                                {
                                    "nev": "Sarodi Dóra",
                                    "mettol": "2016-08-16",
                                    "(No column name)": "2016-08-16"
                                },
                                {
                                    "nev": "Erdei András",
                                    "mettol": "2016-08-16",
                                    "(No column name)": "2016-08-16"
                                },
                                {
                                    "nev": "Czérna Krisztián",
                                    "mettol": "2016-08-16",
                                    "(No column name)": "2016-08-16"
                                },
                                {
                                    "nev": "Nyíri Georgij",
                                    "mettol": "2016-08-16",
                                    "(No column name)": "2016-08-16"
                                },
                                {
                                    "nev": "Giliga János",
                                    "mettol": "2016-08-16",
                                    "(No column name)": "2016-08-16"
                                },
                                {
                                    "nev": "Tankó Veronika",
                                    "mettol": "2016-08-16",
                                    "(No column name)": "2016-08-16"
                                },
                                {
                                    "nev": "Iván Róbert",
                                    "mettol": "2016-08-16",
                                    "(No column name)": "2016-08-16"
                                },
                                {
                                    "nev": "Palágyi Polla",
                                    "mettol": "2016-08-16",
                                    "(No column name)": "2016-08-16"
                                },
                                {
                                    "nev": "Pivarcsi Anett",
                                    "mettol": "2016-08-17",
                                    "(No column name)": "2016-08-16"
                                },
                                {
                                    "nev": "Koza Máté",
                                    "mettol": "2016-08-17",
                                    "(No column name)": "2016-08-17"
                                },
                                {
                                    "nev": "Kornseé Gyöngyi",
                                    "mettol": "2016-08-17",
                                    "(No column name)": "2016-08-17"
                                },
                                {
                                    "nev": "Komjáti András",
                                    "mettol": "2016-08-17",
                                    "(No column name)": "2016-08-17"
                                },
                                {
                                    "nev": "Baróti Attila",
                                    "mettol": "2016-08-18",
                                    "(No column name)": "2016-08-17"
                                },
                                {
                                    "nev": "Kazy Tihamér",
                                    "mettol": "2016-08-18",
                                    "(No column name)": "2016-08-18"
                                },
                                {
                                    "nev": "Komjáti András",
                                    "mettol": "2016-08-19",
                                    "(No column name)": "2016-08-18"
                                },
                                {
                                    "nev": "Karasz Sándor",
                                    "mettol": "2016-08-20",
                                    "(No column name)": "2016-08-19"
                                },
                                {
                                    "nev": "Ambrus Dávid",
                                    "mettol": "2016-08-20",
                                    "(No column name)": "2016-08-20"
                                },
                                {
                                    "nev": "Patay Róbert",
                                    "mettol": "2016-08-20",
                                    "(No column name)": "2016-08-20"
                                },
                                {
                                    "nev": "Kiss Ádám",
                                    "mettol": "2016-08-20",
                                    "(No column name)": "2016-08-20"
                                },
                                {
                                    "nev": "Tömböly Dénes",
                                    "mettol": "2016-08-20",
                                    "(No column name)": "2016-08-20"
                                },
                                {
                                    "nev": "Szűcs Balázs",
                                    "mettol": "2016-08-21",
                                    "(No column name)": "2016-08-20"
                                },
                                {
                                    "nev": "Papp Imre",
                                    "mettol": "2016-08-21",
                                    "(No column name)": "2016-08-21"
                                },
                                {
                                    "nev": "Ambrus Dávid",
                                    "mettol": "2016-08-22",
                                    "(No column name)": "2016-08-21"
                                },
                                {
                                    "nev": "Iván Róbert",
                                    "mettol": "2016-08-23",
                                    "(No column name)": "2016-08-22"
                                },
                                {
                                    "nev": "Kiss Andrea",
                                    "mettol": "2016-08-23",
                                    "(No column name)": "2016-08-23"
                                },
                                {
                                    "nev": "Papp Imre",
                                    "mettol": "2016-08-23",
                                    "(No column name)": "2016-08-23"
                                },
                                {
                                    "nev": "Ötvös Árpád",
                                    "mettol": "2016-08-23",
                                    "(No column name)": "2016-08-23"
                                },
                                {
                                    "nev": "Kovács Bernadett",
                                    "mettol": "2016-08-23",
                                    "(No column name)": "2016-08-23"
                                },
                                {
                                    "nev": "Gyuris József",
                                    "mettol": "2016-08-24",
                                    "(No column name)": "2016-08-23"
                                },
                                {
                                    "nev": "Gondos Katalin",
                                    "mettol": "2016-08-24",
                                    "(No column name)": "2016-08-24"
                                },
                                {
                                    "nev": "Bíró Péter",
                                    "mettol": "2016-08-24",
                                    "(No column name)": "2016-08-24"
                                },
                                {
                                    "nev": "Bakódy Balázs",
                                    "mettol": "2016-08-24",
                                    "(No column name)": "2016-08-24"
                                },
                                {
                                    "nev": "Antal Tamás",
                                    "mettol": "2016-08-24",
                                    "(No column name)": "2016-08-24"
                                },
                                {
                                    "nev": "Nádudvari Henrik",
                                    "mettol": "2016-08-24",
                                    "(No column name)": "2016-08-24"
                                },
                                {
                                    "nev": "Kovács Katalin",
                                    "mettol": "2016-08-24",
                                    "(No column name)": "2016-08-24"
                                },
                                {
                                    "nev": "Harangozó János",
                                    "mettol": "2016-08-24",
                                    "(No column name)": "2016-08-24"
                                },
                                {
                                    "nev": "Horváth Krisztina",
                                    "mettol": "2016-08-24",
                                    "(No column name)": "2016-08-24"
                                },
                                {
                                    "nev": "Fodor Zoltán",
                                    "mettol": "2016-08-24",
                                    "(No column name)": "2016-08-24"
                                },
                                {
                                    "nev": "Bagi Beáta",
                                    "mettol": "2016-08-25",
                                    "(No column name)": "2016-08-24"
                                },
                                {
                                    "nev": "Kovács Bernadett",
                                    "mettol": "2016-08-25",
                                    "(No column name)": "2016-08-25"
                                },
                                {
                                    "nev": "Sarodi Dóra",
                                    "mettol": "2016-08-25",
                                    "(No column name)": "2016-08-25"
                                },
                                {
                                    "nev": "Kiss Andrea",
                                    "mettol": "2016-08-26",
                                    "(No column name)": "2016-08-25"
                                },
                                {
                                    "nev": "Simon Anikó",
                                    "mettol": "2016-08-26",
                                    "(No column name)": "2016-08-26"
                                },
                                {
                                    "nev": "Frank Fruzsina",
                                    "mettol": "2016-08-27",
                                    "(No column name)": "2016-08-26"
                                },
                                {
                                    "nev": "Bieniek Ádám",
                                    "mettol": "2016-08-28",
                                    "(No column name)": "2016-08-27"
                                },
                                {
                                    "nev": "Szalai Szilárd",
                                    "mettol": "2016-08-28",
                                    "(No column name)": "2016-08-28"
                                },
                                {
                                    "nev": "Nyíri Georgij",
                                    "mettol": "2016-08-28",
                                    "(No column name)": "2016-08-28"
                                },
                                {
                                    "nev": "Székely Brigitta",
                                    "mettol": "2016-08-28",
                                    "(No column name)": "2016-08-28"
                                },
                                {
                                    "nev": "Pusztai Zsuzsanna",
                                    "mettol": "2016-08-28",
                                    "(No column name)": "2016-08-28"
                                },
                                {
                                    "nev": "Czérna Krisztián",
                                    "mettol": "2016-08-29",
                                    "(No column name)": "2016-08-28"
                                },
                                {
                                    "nev": "Andor Ibolya",
                                    "mettol": "2016-08-29",
                                    "(No column name)": "2016-08-29"
                                },
                                {
                                    "nev": "Papp Imre",
                                    "mettol": "2016-08-29",
                                    "(No column name)": "2016-08-29"
                                },
                                {
                                    "nev": "Vígh András",
                                    "mettol": "2016-08-29",
                                    "(No column name)": "2016-08-29"
                                },
                                {
                                    "nev": "Farkas Béla",
                                    "mettol": "2016-08-29",
                                    "(No column name)": "2016-08-29"
                                },
                                {
                                    "nev": "Juhász Mihály",
                                    "mettol": "2016-08-29",
                                    "(No column name)": "2016-08-29"
                                },
                                {
                                    "nev": "Giliga János",
                                    "mettol": "2016-08-30",
                                    "(No column name)": "2016-08-29"
                                },
                                {
                                    "nev": "Telek Gábor",
                                    "mettol": "2016-08-31",
                                    "(No column name)": "2016-08-30"
                                },
                                {
                                    "nev": "Viktor Éva",
                                    "mettol": "2016-08-31",
                                    "(No column name)": "2016-08-31"
                                },
                                {
                                    "nev": "Boros Vivien",
                                    "mettol": "2016-09-01",
                                    "(No column name)": "2016-08-31"
                                },
                                {
                                    "nev": "Köves Gábor",
                                    "mettol": "2016-09-02",
                                    "(No column name)": "2016-09-01"
                                },
                                {
                                    "nev": "Perlinger Éva",
                                    "mettol": "2016-09-02",
                                    "(No column name)": "2016-09-02"
                                },
                                {
                                    "nev": "Baráth Mária",
                                    "mettol": "2016-09-02",
                                    "(No column name)": "2016-09-02"
                                },
                                {
                                    "nev": "Győrffy Bence",
                                    "mettol": "2016-09-03",
                                    "(No column name)": "2016-09-02"
                                },
                                {
                                    "nev": "Tóth Roland",
                                    "mettol": "2016-09-04",
                                    "(No column name)": "2016-09-03"
                                },
                                {
                                    "nev": "Turcsik Tünde",
                                    "mettol": "2016-09-05",
                                    "(No column name)": "2016-09-04"
                                },
                                {
                                    "nev": "Rácz Rajmond",
                                    "mettol": "2016-09-05",
                                    "(No column name)": "2016-09-05"
                                },
                                {
                                    "nev": "Szűcs Balázs",
                                    "mettol": "2016-05-22",
                                    "(No column name)": "2016-09-05"
                                },
                                {
                                    "nev": "Gyuris József",
                                    "mettol": "2016-05-23",
                                    "(No column name)": "2016-05-22"
                                },
                                {
                                    "nev": "Horváth Nikolett",
                                    "mettol": "2016-05-24",
                                    "(No column name)": "2016-05-23"
                                },
                                {
                                    "nev": "Gyárfás Krisztina",
                                    "mettol": "2016-05-24",
                                    "(No column name)": "2016-05-24"
                                },
                                {
                                    "nev": "Simon Anikó",
                                    "mettol": "2016-05-24",
                                    "(No column name)": "2016-05-24"
                                },
                                {
                                    "nev": "Feró Valentin",
                                    "mettol": "2016-05-24",
                                    "(No column name)": "2016-05-24"
                                },
                                {
                                    "nev": "Lengyel Ágnes",
                                    "mettol": "2016-05-25",
                                    "(No column name)": "2016-05-24"
                                },
                                {
                                    "nev": "Farkas Sándor",
                                    "mettol": "2016-05-25",
                                    "(No column name)": "2016-05-25"
                                },
                                {
                                    "nev": "Keszler Dániel",
                                    "mettol": "2016-05-26",
                                    "(No column name)": "2016-05-25"
                                },
                                {
                                    "nev": "Neizer Andrea",
                                    "mettol": "2016-05-27",
                                    "(No column name)": "2016-05-26"
                                },
                                {
                                    "nev": "Oroszi György",
                                    "mettol": "2016-05-27",
                                    "(No column name)": "2016-05-27"
                                },
                                {
                                    "nev": "Tömböly Dénes",
                                    "mettol": "2016-05-27",
                                    "(No column name)": "2016-05-27"
                                },
                                {
                                    "nev": "Szűcs Balázs",
                                    "mettol": "2016-05-28",
                                    "(No column name)": "2016-05-27"
                                },
                                {
                                    "nev": "Baráth Mária",
                                    "mettol": "2016-05-28",
                                    "(No column name)": "2016-05-28"
                                },
                                {
                                    "nev": "Palágyi Polla",
                                    "mettol": "2016-05-28",
                                    "(No column name)": "2016-05-28"
                                },
                                {
                                    "nev": "Farkas Sára",
                                    "mettol": "2016-05-28",
                                    "(No column name)": "2016-05-28"
                                },
                                {
                                    "nev": "Józsa Zsolt",
                                    "mettol": "2016-05-28",
                                    "(No column name)": "2016-05-28"
                                },
                                {
                                    "nev": "Vajda Zsuzsa",
                                    "mettol": "2016-05-28",
                                    "(No column name)": "2016-05-28"
                                },
                                {
                                    "nev": "Kiss Ádám",
                                    "mettol": "2016-05-28",
                                    "(No column name)": "2016-05-28"
                                },
                                {
                                    "nev": "Tari Szilvia",
                                    "mettol": "2016-05-28",
                                    "(No column name)": "2016-05-28"
                                },
                                {
                                    "nev": "Mile Norbert",
                                    "mettol": "2016-05-29",
                                    "(No column name)": "2016-05-28"
                                },
                                {
                                    "nev": "Győrffy Bence",
                                    "mettol": "2016-05-29",
                                    "(No column name)": "2016-05-29"
                                },
                                {
                                    "nev": "Móricz Árpád",
                                    "mettol": "2016-05-29",
                                    "(No column name)": "2016-05-29"
                                },
                                {
                                    "nev": "Érsek Eszter",
                                    "mettol": "2016-05-30",
                                    "(No column name)": "2016-05-29"
                                },
                                {
                                    "nev": "Juhász Mihály",
                                    "mettol": "2016-05-30",
                                    "(No column name)": "2016-05-30"
                                },
                                {
                                    "nev": "Székely Brigitta",
                                    "mettol": "2016-05-30",
                                    "(No column name)": "2016-05-30"
                                },
                                {
                                    "nev": "Kő Nikoletta",
                                    "mettol": "2016-05-30",
                                    "(No column name)": "2016-05-30"
                                },
                                {
                                    "nev": "Telek Gábor",
                                    "mettol": "2016-05-30",
                                    "(No column name)": "2016-05-30"
                                },
                                {
                                    "nev": "Keresztúri Viktor",
                                    "mettol": "2016-05-30",
                                    "(No column name)": "2016-05-30"
                                },
                                {
                                    "nev": "Vígh András",
                                    "mettol": "2016-05-30",
                                    "(No column name)": "2016-05-30"
                                },
                                {
                                    "nev": "Kazy Tihamér",
                                    "mettol": "2016-05-30",
                                    "(No column name)": "2016-05-30"
                                },
                                {
                                    "nev": "Farkas Sára",
                                    "mettol": "2016-05-30",
                                    "(No column name)": "2016-05-30"
                                },
                                {
                                    "nev": "Tankó Veronika",
                                    "mettol": "2016-05-30",
                                    "(No column name)": "2016-05-30"
                                },
                                {
                                    "nev": "Tóth András",
                                    "mettol": "2016-05-30",
                                    "(No column name)": "2016-05-30"
                                },
                                {
                                    "nev": "Gondos Katalin",
                                    "mettol": "2016-05-31",
                                    "(No column name)": "2016-05-30"
                                },
                                {
                                    "nev": "Pataki Brigitta",
                                    "mettol": "2016-06-01",
                                    "(No column name)": "2016-05-31"
                                },
                                {
                                    "nev": "Oroszi György",
                                    "mettol": "2016-06-01",
                                    "(No column name)": "2016-06-01"
                                },
                                {
                                    "nev": "Lukács Kornél",
                                    "mettol": "2016-06-02",
                                    "(No column name)": "2016-06-01"
                                },
                                {
                                    "nev": "Frank Fruzsina",
                                    "mettol": "2016-06-02",
                                    "(No column name)": "2016-06-02"
                                },
                                {
                                    "nev": "Kornseé Gyöngyi",
                                    "mettol": "2016-06-02",
                                    "(No column name)": "2016-06-02"
                                },
                                {
                                    "nev": "Szilágyi Mátyás",
                                    "mettol": "2016-06-02",
                                    "(No column name)": "2016-06-02"
                                },
                                {
                                    "nev": "Nagy László",
                                    "mettol": "2016-06-03",
                                    "(No column name)": "2016-06-02"
                                },
                                {
                                    "nev": "Barna Zoltán",
                                    "mettol": "2016-06-03",
                                    "(No column name)": "2016-06-03"
                                },
                                {
                                    "nev": "Czérna Krisztián",
                                    "mettol": "2016-06-03",
                                    "(No column name)": "2016-06-03"
                                },
                                {
                                    "nev": "Kazy Tihamér",
                                    "mettol": "2016-06-03",
                                    "(No column name)": "2016-06-03"
                                },
                                {
                                    "nev": "Bagi Beáta",
                                    "mettol": "2016-06-03",
                                    "(No column name)": "2016-06-03"
                                },
                                {
                                    "nev": "Horváth Nikolett",
                                    "mettol": "2016-06-03",
                                    "(No column name)": "2016-06-03"
                                },
                                {
                                    "nev": "Turcsik Tünde",
                                    "mettol": "2016-06-03",
                                    "(No column name)": "2016-06-03"
                                },
                                {
                                    "nev": "Antal László",
                                    "mettol": "2016-06-03",
                                    "(No column name)": "2016-06-03"
                                },
                                {
                                    "nev": "Bajusz Bence",
                                    "mettol": "2016-06-03",
                                    "(No column name)": "2016-06-03"
                                },
                                {
                                    "nev": "Mogyródi Krisztián",
                                    "mettol": "2016-06-04",
                                    "(No column name)": "2016-06-03"
                                },
                                {
                                    "nev": "Kelemen Áron",
                                    "mettol": "2016-06-04",
                                    "(No column name)": "2016-06-04"
                                },
                                {
                                    "nev": "Opra Attila",
                                    "mettol": "2016-06-04",
                                    "(No column name)": "2016-06-04"
                                },
                                {
                                    "nev": "Harangozó János",
                                    "mettol": "2016-06-04",
                                    "(No column name)": "2016-06-04"
                                },
                                {
                                    "nev": "Gyuris József",
                                    "mettol": "2016-06-04",
                                    "(No column name)": "2016-06-04"
                                },
                                {
                                    "nev": "Nagymihály Csongor",
                                    "mettol": "2016-06-04",
                                    "(No column name)": "2016-06-04"
                                },
                                {
                                    "nev": "Pintér Zoltán",
                                    "mettol": "2016-06-05",
                                    "(No column name)": "2016-06-04"
                                },
                                {
                                    "nev": "Ötvös Árpád",
                                    "mettol": "2016-06-05",
                                    "(No column name)": "2016-06-05"
                                },
                                {
                                    "nev": "Vörös Dániel",
                                    "mettol": "2016-06-06",
                                    "(No column name)": "2016-06-05"
                                },
                                {
                                    "nev": "Farkas Sára",
                                    "mettol": "2016-06-06",
                                    "(No column name)": "2016-06-06"
                                },
                                {
                                    "nev": "Zatykó Katalin",
                                    "mettol": "2016-06-06",
                                    "(No column name)": "2016-06-06"
                                },
                                {
                                    "nev": "Horváth Árpád",
                                    "mettol": "2016-06-06",
                                    "(No column name)": "2016-06-06"
                                },
                                {
                                    "nev": "Dusha Tímea",
                                    "mettol": "2016-06-06",
                                    "(No column name)": "2016-06-06"
                                },
                                {
                                    "nev": "Zatykó Katalin",
                                    "mettol": "2016-06-06",
                                    "(No column name)": "2016-06-06"
                                },
                                {
                                    "nev": "Pintér Zoltán",
                                    "mettol": "2016-06-06",
                                    "(No column name)": "2016-06-06"
                                },
                                {
                                    "nev": "Kalacsi Márton",
                                    "mettol": "2016-06-06",
                                    "(No column name)": "2016-06-06"
                                },
                                {
                                    "nev": "Pulai Zsolt",
                                    "mettol": "2016-06-06",
                                    "(No column name)": "2016-06-06"
                                },
                                {
                                    "nev": "Turcsik Tünde",
                                    "mettol": "2016-06-06",
                                    "(No column name)": "2016-06-06"
                                },
                                {
                                    "nev": "Keresztúri Viktor",
                                    "mettol": "2016-06-06",
                                    "(No column name)": "2016-06-06"
                                },
                                {
                                    "nev": "Hídasi Judit",
                                    "mettol": "2016-06-06",
                                    "(No column name)": "2016-06-06"
                                },
                                {
                                    "nev": "Szűcs Annamária",
                                    "mettol": "2016-06-06",
                                    "(No column name)": "2016-06-06"
                                },
                                {
                                    "nev": "Bakó Klaudia",
                                    "mettol": "2016-06-06",
                                    "(No column name)": "2016-06-06"
                                },
                                {
                                    "nev": "Antal László",
                                    "mettol": "2016-06-07",
                                    "(No column name)": "2016-06-06"
                                },
                                {
                                    "nev": "Molnár Bálint",
                                    "mettol": "2016-06-07",
                                    "(No column name)": "2016-06-07"
                                },
                                {
                                    "nev": "Orbán Bernadett",
                                    "mettol": "2016-06-07",
                                    "(No column name)": "2016-06-07"
                                },
                                {
                                    "nev": "Tóth Júlia",
                                    "mettol": "2016-06-07",
                                    "(No column name)": "2016-06-07"
                                },
                                {
                                    "nev": "Komjáti András",
                                    "mettol": "2016-06-07",
                                    "(No column name)": "2016-06-07"
                                },
                                {
                                    "nev": "Tatár Nikoletta",
                                    "mettol": "2016-06-07",
                                    "(No column name)": "2016-06-07"
                                },
                                {
                                    "nev": "Czérna Krisztián",
                                    "mettol": "2016-06-07",
                                    "(No column name)": "2016-06-07"
                                },
                                {
                                    "nev": "Pulai Zsolt",
                                    "mettol": "2016-06-07",
                                    "(No column name)": "2016-06-07"
                                },
                                {
                                    "nev": "Gondos Katalin",
                                    "mettol": "2016-06-07",
                                    "(No column name)": "2016-06-07"
                                },
                                {
                                    "nev": "Kelemen Áron",
                                    "mettol": "2016-06-07",
                                    "(No column name)": "2016-06-07"
                                },
                                {
                                    "nev": "Molnár Bálint",
                                    "mettol": "2016-06-07",
                                    "(No column name)": "2016-06-07"
                                },
                                {
                                    "nev": "Nagy László",
                                    "mettol": "2016-06-08",
                                    "(No column name)": "2016-06-07"
                                },
                                {
                                    "nev": "Gyárfás Krisztina",
                                    "mettol": "2016-06-08",
                                    "(No column name)": "2016-06-08"
                                },
                                {
                                    "nev": "Regős Annamária",
                                    "mettol": "2016-06-08",
                                    "(No column name)": "2016-06-08"
                                },
                                {
                                    "nev": "Bagóczki Alexandra",
                                    "mettol": "2016-06-08",
                                    "(No column name)": "2016-06-08"
                                },
                                {
                                    "nev": "Ambrus Dávid",
                                    "mettol": "2016-06-09",
                                    "(No column name)": "2016-06-08"
                                },
                                {
                                    "nev": "Tóth Roland",
                                    "mettol": "2016-06-09",
                                    "(No column name)": "2016-06-09"
                                },
                                {
                                    "nev": "Rab Sebestyén",
                                    "mettol": "2016-06-09",
                                    "(No column name)": "2016-06-09"
                                },
                                {
                                    "nev": "Kerényi Beatrix",
                                    "mettol": "2016-06-10",
                                    "(No column name)": "2016-06-09"
                                },
                                {
                                    "nev": "Orbán Bernadett",
                                    "mettol": "2016-06-10",
                                    "(No column name)": "2016-06-10"
                                },
                                {
                                    "nev": "Nagymihály Csongor",
                                    "mettol": "2016-06-10",
                                    "(No column name)": "2016-06-10"
                                },
                                {
                                    "nev": "Kerényi Beatrix",
                                    "mettol": "2016-06-10",
                                    "(No column name)": "2016-06-10"
                                },
                                {
                                    "nev": "Kornseé Gyöngyi",
                                    "mettol": "2016-06-10",
                                    "(No column name)": "2016-06-10"
                                },
                                {
                                    "nev": "Oroszi György",
                                    "mettol": "2016-06-10",
                                    "(No column name)": "2016-06-10"
                                },
                                {
                                    "nev": "Antal László",
                                    "mettol": "2016-06-10",
                                    "(No column name)": "2016-06-10"
                                },
                                {
                                    "nev": "Molnár Bálint",
                                    "mettol": "2016-06-10",
                                    "(No column name)": "2016-06-10"
                                },
                                {
                                    "nev": "Vígh András",
                                    "mettol": "2016-06-10",
                                    "(No column name)": "2016-06-10"
                                },
                                {
                                    "nev": "Fényes Tamás",
                                    "mettol": "2016-06-10",
                                    "(No column name)": "2016-06-10"
                                },
                                {
                                    "nev": "Nagymihály Csongor",
                                    "mettol": "2016-06-11",
                                    "(No column name)": "2016-06-10"
                                },
                                {
                                    "nev": "Szekendi Beatrix",
                                    "mettol": "2016-06-11",
                                    "(No column name)": "2016-06-11"
                                },
                                {
                                    "nev": "Simon Bernadett",
                                    "mettol": "2016-06-12",
                                    "(No column name)": "2016-06-11"
                                },
                                {
                                    "nev": "Kovács Katalin",
                                    "mettol": "2016-06-13",
                                    "(No column name)": "2016-06-12"
                                },
                                {
                                    "nev": "Maródi Andrea",
                                    "mettol": "2016-06-13",
                                    "(No column name)": "2016-06-13"
                                },
                                {
                                    "nev": "Kovács Katalin",
                                    "mettol": "2016-06-13",
                                    "(No column name)": "2016-06-13"
                                },
                                {
                                    "nev": "Pataki Brigitta",
                                    "mettol": "2016-06-13",
                                    "(No column name)": "2016-06-13"
                                },
                                {
                                    "nev": "Kispál Márk",
                                    "mettol": "2016-06-13",
                                    "(No column name)": "2016-06-13"
                                },
                                {
                                    "nev": "Antal Tamás",
                                    "mettol": "2016-06-14",
                                    "(No column name)": "2016-06-13"
                                },
                                {
                                    "nev": "Vajda Zsuzsa",
                                    "mettol": "2016-06-15",
                                    "(No column name)": "2016-06-14"
                                },
                                {
                                    "nev": "Nagymihály Lajos",
                                    "mettol": "2016-06-16",
                                    "(No column name)": "2016-06-15"
                                },
                                {
                                    "nev": "Nyíri Georgij",
                                    "mettol": "2016-06-16",
                                    "(No column name)": "2016-06-16"
                                },
                                {
                                    "nev": "Mile Norbert",
                                    "mettol": "2016-06-16",
                                    "(No column name)": "2016-06-16"
                                },
                                {
                                    "nev": "Bori Krisztina",
                                    "mettol": "2016-06-16",
                                    "(No column name)": "2016-06-16"
                                },
                                {
                                    "nev": "Simon Anikó",
                                    "mettol": "2016-06-16",
                                    "(No column name)": "2016-06-16"
                                },
                                {
                                    "nev": "Orosz Ferenc",
                                    "mettol": "2016-06-16",
                                    "(No column name)": "2016-06-16"
                                },
                                {
                                    "nev": "Mile Norbert",
                                    "mettol": "2016-06-16",
                                    "(No column name)": "2016-06-16"
                                },
                                {
                                    "nev": "Molnár Zsófi",
                                    "mettol": "2016-06-16",
                                    "(No column name)": "2016-06-16"
                                },
                                {
                                    "nev": "Kovács Bernadett",
                                    "mettol": "2016-06-17",
                                    "(No column name)": "2016-06-16"
                                },
                                {
                                    "nev": "Józsa Zsolt",
                                    "mettol": "2016-06-17",
                                    "(No column name)": "2016-06-17"
                                },
                                {
                                    "nev": "Miklós Szabolcs",
                                    "mettol": "2016-06-18",
                                    "(No column name)": "2016-06-17"
                                },
                                {
                                    "nev": "Kerényi Beatrix",
                                    "mettol": "2016-06-19",
                                    "(No column name)": "2016-06-18"
                                },
                                {
                                    "nev": "Köves Gábor",
                                    "mettol": "2016-06-20",
                                    "(No column name)": "2016-06-19"
                                },
                                {
                                    "nev": "Csiger Bertalan",
                                    "mettol": "2016-06-20",
                                    "(No column name)": "2016-06-20"
                                },
                                {
                                    "nev": "Molnár András",
                                    "mettol": "2016-06-21",
                                    "(No column name)": "2016-06-20"
                                },
                                {
                                    "nev": "Horváth Nikolett",
                                    "mettol": "2016-06-22",
                                    "(No column name)": "2016-06-21"
                                },
                                {
                                    "nev": "Barna Debóra",
                                    "mettol": "2016-06-22",
                                    "(No column name)": "2016-06-22"
                                },
                                {
                                    "nev": "Tóth Roland",
                                    "mettol": "2016-06-22",
                                    "(No column name)": "2016-06-22"
                                },
                                {
                                    "nev": "Kalacsi Márton",
                                    "mettol": "2016-06-22",
                                    "(No column name)": "2016-06-22"
                                },
                                {
                                    "nev": "Horváth Ágnes",
                                    "mettol": "2016-06-23",
                                    "(No column name)": "2016-06-22"
                                },
                                {
                                    "nev": "Baráth Mária",
                                    "mettol": "2016-06-23",
                                    "(No column name)": "2016-06-23"
                                },
                                {
                                    "nev": "Papp Imre",
                                    "mettol": "2016-06-23",
                                    "(No column name)": "2016-06-23"
                                },
                                {
                                    "nev": "Komjáti András",
                                    "mettol": "2016-06-23",
                                    "(No column name)": "2016-06-23"
                                },
                                {
                                    "nev": "Béres Norbert",
                                    "mettol": "2016-06-24",
                                    "(No column name)": "2016-06-23"
                                },
                                {
                                    "nev": "Szirmai Renáta",
                                    "mettol": "2016-06-24",
                                    "(No column name)": "2016-06-24"
                                },
                                {
                                    "nev": "Tóth Anikó",
                                    "mettol": "2016-06-25",
                                    "(No column name)": "2016-06-24"
                                },
                                {
                                    "nev": "Balla Miklós",
                                    "mettol": "2016-06-26",
                                    "(No column name)": "2016-06-25"
                                },
                                {
                                    "nev": "Simon Anikó",
                                    "mettol": "2016-06-27",
                                    "(No column name)": "2016-06-26"
                                },
                                {
                                    "nev": "Papp Imre",
                                    "mettol": "2016-06-27",
                                    "(No column name)": "2016-06-27"
                                },
                                {
                                    "nev": "Juhász Mihály",
                                    "mettol": "2016-06-27",
                                    "(No column name)": "2016-06-27"
                                },
                                {
                                    "nev": "Fényes Tamás",
                                    "mettol": "2016-06-28",
                                    "(No column name)": "2016-06-27"
                                },
                                {
                                    "nev": "Kő Nikoletta",
                                    "mettol": "2016-06-29",
                                    "(No column name)": "2016-06-28"
                                },
                                {
                                    "nev": "Balogh Eszter",
                                    "mettol": "2016-06-30",
                                    "(No column name)": "2016-06-29"
                                },
                                {
                                    "nev": "Ambrus Dávid",
                                    "mettol": "2016-06-30",
                                    "(No column name)": "2016-06-30"
                                },
                                {
                                    "nev": "Szalai Péter",
                                    "mettol": "2016-06-30",
                                    "(No column name)": "2016-06-30"
                                },
                                {
                                    "nev": "Frank Fruzsina",
                                    "mettol": "2016-07-01",
                                    "(No column name)": "2016-06-30"
                                },
                                {
                                    "nev": "Kertész Katalin",
                                    "mettol": "2016-07-01",
                                    "(No column name)": "2016-07-01"
                                },
                                {
                                    "nev": "Varga István",
                                    "mettol": "2016-07-01",
                                    "(No column name)": "2016-07-01"
                                },
                                {
                                    "nev": "Gondos Katalin",
                                    "mettol": "2016-07-01",
                                    "(No column name)": "2016-07-01"
                                },
                                {
                                    "nev": "Kornseé Gyöngyi",
                                    "mettol": "2016-07-01",
                                    "(No column name)": "2016-07-01"
                                },
                                {
                                    "nev": "Böröcz Anikó",
                                    "mettol": "2016-07-02",
                                    "(No column name)": "2016-07-01"
                                },
                                {
                                    "nev": "Kertész Katalin",
                                    "mettol": "2016-07-03",
                                    "(No column name)": "2016-07-02"
                                },
                                {
                                    "nev": "Kelemen Áron",
                                    "mettol": "2016-07-03",
                                    "(No column name)": "2016-07-03"
                                },
                                {
                                    "nev": "Bozsó Péter",
                                    "mettol": "2016-07-03",
                                    "(No column name)": "2016-07-03"
                                },
                                {
                                    "nev": "Bagi Beáta",
                                    "mettol": "2016-07-03",
                                    "(No column name)": "2016-07-03"
                                },
                                {
                                    "nev": "Gondos Katalin",
                                    "mettol": "2016-07-03",
                                    "(No column name)": "2016-07-03"
                                },
                                {
                                    "nev": "Jakab Áron",
                                    "mettol": "2016-07-04",
                                    "(No column name)": "2016-07-03"
                                },
                                {
                                    "nev": "Fényes Tamás",
                                    "mettol": "2016-07-04",
                                    "(No column name)": "2016-07-04"
                                },
                                {
                                    "nev": "Molnár András",
                                    "mettol": "2016-07-04",
                                    "(No column name)": "2016-07-04"
                                },
                                {
                                    "nev": "Karasz Sándor",
                                    "mettol": "2016-07-04",
                                    "(No column name)": "2016-07-04"
                                },
                                {
                                    "nev": "Pálinkás János",
                                    "mettol": "2016-07-04",
                                    "(No column name)": "2016-07-04"
                                },
                                {
                                    "nev": "Szedlár Krisztina",
                                    "mettol": "2016-07-05",
                                    "(No column name)": "2016-07-04"
                                },
                                {
                                    "nev": "Vajda József",
                                    "mettol": "2016-07-06",
                                    "(No column name)": "2016-07-05"
                                },
                                {
                                    "nev": "Erdei András",
                                    "mettol": "2016-07-06",
                                    "(No column name)": "2016-07-06"
                                },
                                {
                                    "nev": "Horváth Katalin",
                                    "mettol": "2016-07-06",
                                    "(No column name)": "2016-07-06"
                                },
                                {
                                    "nev": "Gondos Katalin",
                                    "mettol": "2016-07-07",
                                    "(No column name)": "2016-07-06"
                                },
                                {
                                    "nev": "Balogh Eszter",
                                    "mettol": "2016-07-08",
                                    "(No column name)": "2016-07-07"
                                },
                                {
                                    "nev": "Szűcs Norbert",
                                    "mettol": "2016-07-08",
                                    "(No column name)": "2016-07-08"
                                },
                                {
                                    "nev": "Szűcs Balázs",
                                    "mettol": "2016-07-08",
                                    "(No column name)": "2016-07-08"
                                },
                                {
                                    "nev": "Mogyródi Krisztián",
                                    "mettol": "2016-07-09",
                                    "(No column name)": "2016-07-08"
                                },
                                {
                                    "nev": "Nagymihály Csongor",
                                    "mettol": "2016-07-09",
                                    "(No column name)": "2016-07-09"
                                },
                                {
                                    "nev": "Nagy Gabriella",
                                    "mettol": "2016-07-10",
                                    "(No column name)": "2016-07-09"
                                },
                                {
                                    "nev": "Szűcs Balázs",
                                    "mettol": "2016-07-10",
                                    "(No column name)": "2016-07-10"
                                },
                                {
                                    "nev": "Vörös Dániel",
                                    "mettol": "2016-07-11",
                                    "(No column name)": "2016-07-10"
                                },
                                {
                                    "nev": "Barta Zsuzsanna",
                                    "mettol": "2016-07-12",
                                    "(No column name)": "2016-07-11"
                                },
                                {
                                    "nev": "Köves Gábor",
                                    "mettol": "2016-07-12",
                                    "(No column name)": "2016-07-12"
                                },
                                {
                                    "nev": "Iván Róbert",
                                    "mettol": "2016-07-12",
                                    "(No column name)": "2016-07-12"
                                },
                                {
                                    "nev": "Hegedűs Norbert",
                                    "mettol": "2016-07-13",
                                    "(No column name)": "2016-07-12"
                                },
                                {
                                    "nev": "Kovács Katalin",
                                    "mettol": "2016-09-05",
                                    "(No column name)": "2016-07-13"
                                },
                                {
                                    "nev": "Fodor Zoltán",
                                    "mettol": "2016-09-05",
                                    "(No column name)": "2016-09-05"
                                },
                                {
                                    "nev": "Böröcz Anikó",
                                    "mettol": "2016-09-05",
                                    "(No column name)": "2016-09-05"
                                },
                                {
                                    "nev": "Móra László",
                                    "mettol": "2016-09-05",
                                    "(No column name)": "2016-09-05"
                                },
                                {
                                    "nev": "Szikszai Réka",
                                    "mettol": "2016-09-05",
                                    "(No column name)": "2016-09-05"
                                },
                                {
                                    "nev": "Bíró Ákos",
                                    "mettol": "2016-09-06",
                                    "(No column name)": "2016-09-05"
                                },
                                {
                                    "nev": "Kovács Bernadett",
                                    "mettol": "2016-09-07",
                                    "(No column name)": "2016-09-06"
                                },
                                {
                                    "nev": "Rácz Dániel",
                                    "mettol": "2016-09-08",
                                    "(No column name)": "2016-09-07"
                                },
                                {
                                    "nev": "Kelemen Áron",
                                    "mettol": "2016-09-08",
                                    "(No column name)": "2016-09-08"
                                },
                                {
                                    "nev": "Pásztor Róbert",
                                    "mettol": "2016-09-08",
                                    "(No column name)": "2016-09-08"
                                },
                                {
                                    "nev": "Vajda József",
                                    "mettol": "2016-09-09",
                                    "(No column name)": "2016-09-08"
                                },
                                {
                                    "nev": "Varsányi Zsuzsa",
                                    "mettol": "2016-09-09",
                                    "(No column name)": "2016-09-09"
                                },
                                {
                                    "nev": "Bucskó Róza",
                                    "mettol": "2016-09-10",
                                    "(No column name)": "2016-09-09"
                                },
                                {
                                    "nev": "Kalacsi Márton",
                                    "mettol": "2016-09-10",
                                    "(No column name)": "2016-09-10"
                                },
                                {
                                    "nev": "Bíró Péter",
                                    "mettol": "2016-09-11",
                                    "(No column name)": "2016-09-10"
                                },
                                {
                                    "nev": "Fényes Tamás",
                                    "mettol": "2016-09-12",
                                    "(No column name)": "2016-09-11"
                                },
                                {
                                    "nev": "Szűcs Balázs",
                                    "mettol": "2016-09-12",
                                    "(No column name)": "2016-09-12"
                                },
                                {
                                    "nev": "Barkóci Ádám",
                                    "mettol": "2016-09-12",
                                    "(No column name)": "2016-09-12"
                                },
                                {
                                    "nev": "Neizer Andrea",
                                    "mettol": "2016-09-13",
                                    "(No column name)": "2016-09-12"
                                },
                                {
                                    "nev": "Szedlár Krisztina",
                                    "mettol": "2016-09-13",
                                    "(No column name)": "2016-09-13"
                                },
                                {
                                    "nev": "Maródi Andrea",
                                    "mettol": "2016-09-13",
                                    "(No column name)": "2016-09-13"
                                },
                                {
                                    "nev": "Gergely József",
                                    "mettol": "2016-09-13",
                                    "(No column name)": "2016-09-13"
                                },
                                {
                                    "nev": "Foltényi Sebastián",
                                    "mettol": "2016-09-14",
                                    "(No column name)": "2016-09-13"
                                },
                                {
                                    "nev": "Horváth Márk",
                                    "mettol": "2016-09-14",
                                    "(No column name)": "2016-09-14"
                                },
                                {
                                    "nev": "Tornyos Andrea",
                                    "mettol": "2016-09-15",
                                    "(No column name)": "2016-09-14"
                                },
                                {
                                    "nev": "Bakódy Balázs",
                                    "mettol": "2016-09-15",
                                    "(No column name)": "2016-09-15"
                                },
                                {
                                    "nev": "Bori Krisztina",
                                    "mettol": "2016-09-15",
                                    "(No column name)": "2016-09-15"
                                },
                                {
                                    "nev": "Horváth Árpád",
                                    "mettol": "2016-09-16",
                                    "(No column name)": "2016-09-15"
                                },
                                {
                                    "nev": "Molnár Bálint",
                                    "mettol": "2016-09-16",
                                    "(No column name)": "2016-09-16"
                                },
                                {
                                    "nev": "Barabás Pál",
                                    "mettol": "2016-09-16",
                                    "(No column name)": "2016-09-16"
                                },
                                {
                                    "nev": "Back András",
                                    "mettol": "2016-09-17",
                                    "(No column name)": "2016-09-16"
                                },
                                {
                                    "nev": "Búza Imre",
                                    "mettol": "2016-09-17",
                                    "(No column name)": "2016-09-17"
                                },
                                {
                                    "nev": "Bittmann Edit",
                                    "mettol": "2016-09-17",
                                    "(No column name)": "2016-09-17"
                                },
                                {
                                    "nev": "Foltényi Sebastián",
                                    "mettol": "2016-09-17",
                                    "(No column name)": "2016-09-17"
                                },
                                {
                                    "nev": "Vajda Zsuzsa",
                                    "mettol": "2016-09-18",
                                    "(No column name)": "2016-09-17"
                                },
                                {
                                    "nev": "Nyíri Georgij",
                                    "mettol": "2016-09-18",
                                    "(No column name)": "2016-09-18"
                                },
                                {
                                    "nev": "Bittmann Edit",
                                    "mettol": "2016-09-18",
                                    "(No column name)": "2016-09-18"
                                },
                                {
                                    "nev": "Horváth Árpád",
                                    "mettol": "2016-09-18",
                                    "(No column name)": "2016-09-18"
                                },
                                {
                                    "nev": "Szedlár Krisztina",
                                    "mettol": "2016-09-19",
                                    "(No column name)": "2016-09-18"
                                },
                                {
                                    "nev": "Vörös Dániel",
                                    "mettol": "2016-09-19",
                                    "(No column name)": "2016-09-19"
                                },
                                {
                                    "nev": "Karasz Sándor",
                                    "mettol": "2016-09-19",
                                    "(No column name)": "2016-09-19"
                                },
                                {
                                    "nev": "Gondos Katalin",
                                    "mettol": "2016-09-19",
                                    "(No column name)": "2016-09-19"
                                },
                                {
                                    "nev": "Szalai Szilárd",
                                    "mettol": "2016-09-20",
                                    "(No column name)": "2016-09-19"
                                },
                                {
                                    "nev": "Sobják Dávid",
                                    "mettol": "2016-09-20",
                                    "(No column name)": "2016-09-20"
                                },
                                {
                                    "nev": "Tatár Nikoletta",
                                    "mettol": "2016-09-21",
                                    "(No column name)": "2016-09-20"
                                },
                                {
                                    "nev": "Komjáti András",
                                    "mettol": "2016-09-22",
                                    "(No column name)": "2016-09-21"
                                },
                                {
                                    "nev": "Regős Annamária",
                                    "mettol": "2016-09-23",
                                    "(No column name)": "2016-09-22"
                                },
                                {
                                    "nev": "Horváth Márk",
                                    "mettol": "2016-09-23",
                                    "(No column name)": "2016-09-23"
                                },
                                {
                                    "nev": "Lukács Kornél",
                                    "mettol": "2016-09-23",
                                    "(No column name)": "2016-09-23"
                                },
                                {
                                    "nev": "Farkas László",
                                    "mettol": "2016-09-23",
                                    "(No column name)": "2016-09-23"
                                },
                                {
                                    "nev": "Dunai Aladár",
                                    "mettol": "2016-09-24",
                                    "(No column name)": "2016-09-23"
                                },
                                {
                                    "nev": "Bíró Péter",
                                    "mettol": "2016-09-25",
                                    "(No column name)": "2016-09-24"
                                },
                                {
                                    "nev": "Tankó Veronika",
                                    "mettol": "2016-09-26",
                                    "(No column name)": "2016-09-25"
                                },
                                {
                                    "nev": "Horváth Márk",
                                    "mettol": "2016-09-26",
                                    "(No column name)": "2016-09-26"
                                },
                                {
                                    "nev": "Kuruc Emese",
                                    "mettol": "2016-09-27",
                                    "(No column name)": "2016-09-26"
                                },
                                {
                                    "nev": "Ötvös Árpád",
                                    "mettol": "2016-09-28",
                                    "(No column name)": "2016-09-27"
                                },
                                {
                                    "nev": "Hamvay-Kovács Anita",
                                    "mettol": "2016-09-28",
                                    "(No column name)": "2016-09-28"
                                },
                                {
                                    "nev": "Varsányi Zsuzsa",
                                    "mettol": "2016-09-28",
                                    "(No column name)": "2016-09-28"
                                },
                                {
                                    "nev": "Varga István",
                                    "mettol": "2016-09-29",
                                    "(No column name)": "2016-09-28"
                                },
                                {
                                    "nev": "Frank Fruzsina",
                                    "mettol": "2016-09-29",
                                    "(No column name)": "2016-09-29"
                                },
                                {
                                    "nev": "Szikszai Réka",
                                    "mettol": "2016-09-30",
                                    "(No column name)": "2016-09-29"
                                },
                                {
                                    "nev": "Csóti Attila",
                                    "mettol": "2016-09-30",
                                    "(No column name)": "2016-09-30"
                                },
                                {
                                    "nev": "Barna Zoltán",
                                    "mettol": "2016-09-30",
                                    "(No column name)": "2016-09-30"
                                },
                                {
                                    "nev": "Tóth András",
                                    "mettol": "2016-09-30",
                                    "(No column name)": "2016-09-30"
                                },
                                {
                                    "nev": "Bíró Péter",
                                    "mettol": "2016-09-30",
                                    "(No column name)": "2016-09-30"
                                },
                                {
                                    "nev": "Komjáti András",
                                    "mettol": "2016-09-30",
                                    "(No column name)": "2016-09-30"
                                },
                                {
                                    "nev": "Horváth Krisztina",
                                    "mettol": "2016-09-30",
                                    "(No column name)": "2016-09-30"
                                },
                                {
                                    "nev": "Poprádi Kristóf",
                                    "mettol": "2016-09-30",
                                    "(No column name)": "2016-09-30"
                                },
                                {
                                    "nev": "Balogh Eszter",
                                    "mettol": "2016-10-01",
                                    "(No column name)": "2016-09-30"
                                },
                                {
                                    "nev": "Szekendi Beatrix",
                                    "mettol": "2016-10-01",
                                    "(No column name)": "2016-10-01"
                                },
                                {
                                    "nev": "Szekendi Beatrix",
                                    "mettol": "2016-10-01",
                                    "(No column name)": "2016-10-01"
                                },
                                {
                                    "nev": "Józsa Zsolt",
                                    "mettol": "2016-10-01",
                                    "(No column name)": "2016-10-01"
                                },
                                {
                                    "nev": "Molnár András",
                                    "mettol": "2016-10-01",
                                    "(No column name)": "2016-10-01"
                                },
                                {
                                    "nev": "Vörös Dániel",
                                    "mettol": "2016-10-01",
                                    "(No column name)": "2016-10-01"
                                },
                                {
                                    "nev": "Boros Vivien",
                                    "mettol": "2016-10-01",
                                    "(No column name)": "2016-10-01"
                                },
                                {
                                    "nev": "Sobják Dávid",
                                    "mettol": "2016-10-01",
                                    "(No column name)": "2016-10-01"
                                },
                                {
                                    "nev": "Horváth Krisztina",
                                    "mettol": "2016-10-01",
                                    "(No column name)": "2016-10-01"
                                },
                                {
                                    "nev": "Bárci Gusztáv",
                                    "mettol": "2016-10-01",
                                    "(No column name)": "2016-10-01"
                                },
                                {
                                    "nev": "Koza Máté",
                                    "mettol": "2016-10-01",
                                    "(No column name)": "2016-10-01"
                                },
                                {
                                    "nev": "Bakó Klaudia",
                                    "mettol": "2016-10-01",
                                    "(No column name)": "2016-10-01"
                                },
                                {
                                    "nev": "Balogh Eszter",
                                    "mettol": "2016-10-01",
                                    "(No column name)": "2016-10-01"
                                },
                                {
                                    "nev": "Szalai Szilárd",
                                    "mettol": "2016-10-01",
                                    "(No column name)": "2016-10-01"
                                },
                                {
                                    "nev": "Nagy László",
                                    "mettol": "2016-10-01",
                                    "(No column name)": "2016-10-01"
                                },
                                {
                                    "nev": "Bagi Beáta",
                                    "mettol": "2016-10-01",
                                    "(No column name)": "2016-10-01"
                                },
                                {
                                    "nev": "Hamvay-Kovács Anita",
                                    "mettol": "2016-10-01",
                                    "(No column name)": "2016-10-01"
                                },
                                {
                                    "nev": "Vida Gabriella",
                                    "mettol": "2016-10-01",
                                    "(No column name)": "2016-10-01"
                                },
                                {
                                    "nev": "Bakó Klaudia",
                                    "mettol": "2016-10-02",
                                    "(No column name)": "2016-10-01"
                                },
                                {
                                    "nev": "Rácz Rajmond",
                                    "mettol": "2016-10-03",
                                    "(No column name)": "2016-10-02"
                                },
                                {
                                    "nev": "Bagi Beáta",
                                    "mettol": "2016-10-03",
                                    "(No column name)": "2016-10-03"
                                },
                                {
                                    "nev": "Harangozó János",
                                    "mettol": "2016-10-03",
                                    "(No column name)": "2016-10-03"
                                },
                                {
                                    "nev": "Molnár Eszter",
                                    "mettol": "2016-10-04",
                                    "(No column name)": "2016-10-03"
                                },
                                {
                                    "nev": "Orbán Bernadett",
                                    "mettol": "2016-10-04",
                                    "(No column name)": "2016-10-04"
                                },
                                {
                                    "nev": "Molnár András",
                                    "mettol": "2016-10-04",
                                    "(No column name)": "2016-10-04"
                                },
                                {
                                    "nev": "Bíró Ákos",
                                    "mettol": "2016-10-05",
                                    "(No column name)": "2016-10-04"
                                },
                                {
                                    "nev": "Mile Norbert",
                                    "mettol": "2016-10-05",
                                    "(No column name)": "2016-10-05"
                                },
                                {
                                    "nev": "Farkas Sára",
                                    "mettol": "2016-10-06",
                                    "(No column name)": "2016-10-05"
                                },
                                {
                                    "nev": "Enyedi Éva",
                                    "mettol": "2016-10-06",
                                    "(No column name)": "2016-10-06"
                                },
                                {
                                    "nev": "Tóth András",
                                    "mettol": "2016-10-07",
                                    "(No column name)": "2016-10-06"
                                },
                                {
                                    "nev": "Soós István",
                                    "mettol": "2016-10-07",
                                    "(No column name)": "2016-10-07"
                                },
                                {
                                    "nev": "Tornyos Andrea",
                                    "mettol": "2016-10-08",
                                    "(No column name)": "2016-10-07"
                                },
                                {
                                    "nev": "Iván Róbert",
                                    "mettol": "2016-10-08",
                                    "(No column name)": "2016-10-08"
                                },
                                {
                                    "nev": "Simon Bernadett",
                                    "mettol": "2016-10-08",
                                    "(No column name)": "2016-10-08"
                                },
                                {
                                    "nev": "Orosz Ferenc",
                                    "mettol": "2016-10-08",
                                    "(No column name)": "2016-10-08"
                                },
                                {
                                    "nev": "Simon Anikó",
                                    "mettol": "2016-10-08",
                                    "(No column name)": "2016-10-08"
                                },
                                {
                                    "nev": "Gergely József",
                                    "mettol": "2016-10-08",
                                    "(No column name)": "2016-10-08"
                                },
                                {
                                    "nev": "Gondos Miklós",
                                    "mettol": "2016-10-08",
                                    "(No column name)": "2016-10-08"
                                },
                                {
                                    "nev": "Gulyás Attila",
                                    "mettol": "2016-10-09",
                                    "(No column name)": "2016-10-08"
                                },
                                {
                                    "nev": "Nagy László",
                                    "mettol": "2016-10-09",
                                    "(No column name)": "2016-10-09"
                                },
                                {
                                    "nev": "Horváth Bálint",
                                    "mettol": "2016-10-09",
                                    "(No column name)": "2016-10-09"
                                },
                                {
                                    "nev": "Farkas Sándor",
                                    "mettol": "2016-10-09",
                                    "(No column name)": "2016-10-09"
                                },
                                {
                                    "nev": "Bíró Péter",
                                    "mettol": "2016-10-09",
                                    "(No column name)": "2016-10-09"
                                },
                                {
                                    "nev": "Sarodi Dóra",
                                    "mettol": "2016-10-09",
                                    "(No column name)": "2016-10-09"
                                },
                                {
                                    "nev": "Iván Róbert",
                                    "mettol": "2016-10-09",
                                    "(No column name)": "2016-10-09"
                                },
                                {
                                    "nev": "Komjáti András",
                                    "mettol": "2016-10-09",
                                    "(No column name)": "2016-10-09"
                                },
                                {
                                    "nev": "Szilágyi Mátyás",
                                    "mettol": "2016-10-09",
                                    "(No column name)": "2016-10-09"
                                },
                                {
                                    "nev": "Tari Szilvia",
                                    "mettol": "2016-10-09",
                                    "(No column name)": "2016-10-09"
                                },
                                {
                                    "nev": "Gombos Tibor",
                                    "mettol": "2016-10-09",
                                    "(No column name)": "2016-10-09"
                                },
                                {
                                    "nev": "Bozsó Péter",
                                    "mettol": "2016-10-10",
                                    "(No column name)": "2016-10-09"
                                },
                                {
                                    "nev": "Pataki Brigitta",
                                    "mettol": "2016-10-10",
                                    "(No column name)": "2016-10-10"
                                },
                                {
                                    "nev": "Farkas Sára",
                                    "mettol": "2016-10-11",
                                    "(No column name)": "2016-10-10"
                                },
                                {
                                    "nev": "Pivarcsi Anett",
                                    "mettol": "2016-10-12",
                                    "(No column name)": "2016-10-11"
                                },
                                {
                                    "nev": "Ötvös Árpád",
                                    "mettol": "2016-10-13",
                                    "(No column name)": "2016-10-12"
                                },
                                {
                                    "nev": "Urbán Viktoria",
                                    "mettol": "2016-10-14",
                                    "(No column name)": "2016-10-13"
                                },
                                {
                                    "nev": "Gulyás Attila",
                                    "mettol": "2016-10-15",
                                    "(No column name)": "2016-10-14"
                                },
                                {
                                    "nev": "Komjáti András",
                                    "mettol": "2016-10-15",
                                    "(No column name)": "2016-10-15"
                                },
                                {
                                    "nev": "Csóti Attila",
                                    "mettol": "2016-10-15",
                                    "(No column name)": "2016-10-15"
                                },
                                {
                                    "nev": "Simon Bernadett",
                                    "mettol": "2016-10-15",
                                    "(No column name)": "2016-10-15"
                                },
                                {
                                    "nev": "Nagy Sándor",
                                    "mettol": "2016-10-15",
                                    "(No column name)": "2016-10-15"
                                },
                                {
                                    "nev": "Viktor Éva",
                                    "mettol": "2016-10-15",
                                    "(No column name)": "2016-10-15"
                                },
                                {
                                    "nev": "Böröcz Anikó",
                                    "mettol": "2016-10-16",
                                    "(No column name)": "2016-10-15"
                                },
                                {
                                    "nev": "Pivarcsi Anett",
                                    "mettol": "2016-10-16",
                                    "(No column name)": "2016-10-16"
                                },
                                {
                                    "nev": "Viktor Éva",
                                    "mettol": "2016-10-16",
                                    "(No column name)": "2016-10-16"
                                },
                                {
                                    "nev": "Czérna Krisztián",
                                    "mettol": "2016-10-17",
                                    "(No column name)": "2016-10-16"
                                },
                                {
                                    "nev": "Kovács Ágnes",
                                    "mettol": "2016-10-17",
                                    "(No column name)": "2016-10-17"
                                },
                                {
                                    "nev": "Miklós Szabolcs",
                                    "mettol": "2016-10-17",
                                    "(No column name)": "2016-10-17"
                                },
                                {
                                    "nev": "Bíró Ákos",
                                    "mettol": "2016-10-18",
                                    "(No column name)": "2016-10-17"
                                },
                                {
                                    "nev": "Kiss Ádám",
                                    "mettol": "2016-10-19",
                                    "(No column name)": "2016-10-18"
                                },
                                {
                                    "nev": "Kazy Tihamér",
                                    "mettol": "2016-10-19",
                                    "(No column name)": "2016-10-19"
                                },
                                {
                                    "nev": "Berendi Péter",
                                    "mettol": "2016-10-19",
                                    "(No column name)": "2016-10-19"
                                },
                                {
                                    "nev": "Pintér Zoltán",
                                    "mettol": "2016-10-19",
                                    "(No column name)": "2016-10-19"
                                },
                                {
                                    "nev": "Köves Gábor",
                                    "mettol": "2016-10-20",
                                    "(No column name)": "2016-10-19"
                                },
                                {
                                    "nev": "Dániel Tibor",
                                    "mettol": "2016-10-20",
                                    "(No column name)": "2016-10-20"
                                },
                                {
                                    "nev": "Balogh Eszter",
                                    "mettol": "2016-10-20",
                                    "(No column name)": "2016-10-20"
                                },
                                {
                                    "nev": "Kispál Márk",
                                    "mettol": "2016-10-20",
                                    "(No column name)": "2016-10-20"
                                },
                                {
                                    "nev": "Kiss Andrea",
                                    "mettol": "2016-10-21",
                                    "(No column name)": "2016-10-20"
                                },
                                {
                                    "nev": "Székely Brigitta",
                                    "mettol": "2016-10-21",
                                    "(No column name)": "2016-10-21"
                                },
                                {
                                    "nev": "Bagóczki Alexandra",
                                    "mettol": "2016-10-21",
                                    "(No column name)": "2016-10-21"
                                },
                                {
                                    "nev": "Barna Zoltán",
                                    "mettol": "2016-10-21",
                                    "(No column name)": "2016-10-21"
                                },
                                {
                                    "nev": "Harangozó János",
                                    "mettol": "2016-10-22",
                                    "(No column name)": "2016-10-21"
                                },
                                {
                                    "nev": "Horváth Nikolett",
                                    "mettol": "2016-10-22",
                                    "(No column name)": "2016-10-22"
                                },
                                {
                                    "nev": "Bajusz Bence",
                                    "mettol": "2016-10-22",
                                    "(No column name)": "2016-10-22"
                                },
                                {
                                    "nev": "Hartyánszky Ágnes",
                                    "mettol": "2016-10-22",
                                    "(No column name)": "2016-10-22"
                                },
                                {
                                    "nev": "Farkas Sándor",
                                    "mettol": "2016-10-23",
                                    "(No column name)": "2016-10-22"
                                },
                                {
                                    "nev": "Jakab Áron",
                                    "mettol": "2016-10-23",
                                    "(No column name)": "2016-10-23"
                                },
                                {
                                    "nev": "Patay Róbert",
                                    "mettol": "2016-10-23",
                                    "(No column name)": "2016-10-23"
                                },
                                {
                                    "nev": "Andor Ibolya",
                                    "mettol": "2016-10-23",
                                    "(No column name)": "2016-10-23"
                                },
                                {
                                    "nev": "Kerényi Beatrix",
                                    "mettol": "2016-10-23",
                                    "(No column name)": "2016-10-23"
                                },
                                {
                                    "nev": "Iván Róbert",
                                    "mettol": "2016-10-23",
                                    "(No column name)": "2016-10-23"
                                },
                                {
                                    "nev": "Balogh Eszter",
                                    "mettol": "2016-10-23",
                                    "(No column name)": "2016-10-23"
                                },
                                {
                                    "nev": "Bíró Péter",
                                    "mettol": "2016-10-24",
                                    "(No column name)": "2016-10-23"
                                },
                                {
                                    "nev": "Turcsik Tünde",
                                    "mettol": "2016-10-24",
                                    "(No column name)": "2016-10-24"
                                },
                                {
                                    "nev": "Szilágyi Mátyás",
                                    "mettol": "2016-10-24",
                                    "(No column name)": "2016-10-24"
                                },
                                {
                                    "nev": "Tari Szilvia",
                                    "mettol": "2016-10-25",
                                    "(No column name)": "2016-10-24"
                                },
                                {
                                    "nev": "Zatykó Katalin",
                                    "mettol": "2016-10-26",
                                    "(No column name)": "2016-10-25"
                                },
                                {
                                    "nev": "Molnár Eszter",
                                    "mettol": "2016-10-26",
                                    "(No column name)": "2016-10-26"
                                },
                                {
                                    "nev": "Barna Zoltán",
                                    "mettol": "2016-10-26",
                                    "(No column name)": "2016-10-26"
                                },
                                {
                                    "nev": "Rab Sebestyén",
                                    "mettol": "2016-10-26",
                                    "(No column name)": "2016-10-26"
                                },
                                {
                                    "nev": "Dusha Tímea",
                                    "mettol": "2016-10-26",
                                    "(No column name)": "2016-10-26"
                                },
                                {
                                    "nev": "Iván Róbert",
                                    "mettol": "2016-10-26",
                                    "(No column name)": "2016-10-26"
                                },
                                {
                                    "nev": "Horváth Katalin",
                                    "mettol": "2016-10-26",
                                    "(No column name)": "2016-10-26"
                                },
                                {
                                    "nev": "Urbán Viktoria",
                                    "mettol": "2016-10-26",
                                    "(No column name)": "2016-10-26"
                                },
                                {
                                    "nev": "Simon Bernadett",
                                    "mettol": "2016-10-26",
                                    "(No column name)": "2016-10-26"
                                },
                                {
                                    "nev": "Kozma Péter",
                                    "mettol": "2016-10-26",
                                    "(No column name)": "2016-10-26"
                                },
                                {
                                    "nev": "Vajda Zsuzsa",
                                    "mettol": "2016-10-26",
                                    "(No column name)": "2016-10-26"
                                },
                                {
                                    "nev": "Feró Valentin",
                                    "mettol": "2016-10-26",
                                    "(No column name)": "2016-10-26"
                                },
                                {
                                    "nev": "Kardos Renáta",
                                    "mettol": "2016-10-27",
                                    "(No column name)": "2016-10-26"
                                },
                                {
                                    "nev": "Bieniek Ádám",
                                    "mettol": "2016-10-27",
                                    "(No column name)": "2016-10-27"
                                },
                                {
                                    "nev": "Varsányi Zsuzsa",
                                    "mettol": "2016-10-27",
                                    "(No column name)": "2016-10-27"
                                },
                                {
                                    "nev": "Tari Szilvia",
                                    "mettol": "2016-10-27",
                                    "(No column name)": "2016-10-27"
                                },
                                {
                                    "nev": "Miklós Szabolcs",
                                    "mettol": "2016-10-28",
                                    "(No column name)": "2016-10-27"
                                },
                                {
                                    "nev": "Búza Imre",
                                    "mettol": "2016-10-28",
                                    "(No column name)": "2016-10-28"
                                },
                                {
                                    "nev": "Simon Bernadett",
                                    "mettol": "2016-10-28",
                                    "(No column name)": "2016-10-28"
                                },
                                {
                                    "nev": "Mile Norbert",
                                    "mettol": "2016-10-28",
                                    "(No column name)": "2016-10-28"
                                },
                                {
                                    "nev": "Farkas Sára",
                                    "mettol": "2016-10-28",
                                    "(No column name)": "2016-10-28"
                                },
                                {
                                    "nev": "Oroszi György",
                                    "mettol": "2016-10-28",
                                    "(No column name)": "2016-10-28"
                                },
                                {
                                    "nev": "Barna Debóra",
                                    "mettol": "2016-10-29",
                                    "(No column name)": "2016-10-28"
                                },
                                {
                                    "nev": "Sarodi Dóra",
                                    "mettol": "2016-10-29",
                                    "(No column name)": "2016-10-29"
                                },
                                {
                                    "nev": "Simon Anikó",
                                    "mettol": "2016-10-29",
                                    "(No column name)": "2016-10-29"
                                },
                                {
                                    "nev": "Bori Krisztina",
                                    "mettol": "2016-10-29",
                                    "(No column name)": "2016-10-29"
                                },
                                {
                                    "nev": "Szabó Julianna",
                                    "mettol": "2016-10-29",
                                    "(No column name)": "2016-10-29"
                                },
                                {
                                    "nev": "Gulyás Attila",
                                    "mettol": "2016-10-30",
                                    "(No column name)": "2016-10-29"
                                },
                                {
                                    "nev": "Győrffy Bence",
                                    "mettol": "2016-10-30",
                                    "(No column name)": "2016-10-30"
                                },
                                {
                                    "nev": "Zatykó Katalin",
                                    "mettol": "2016-10-30",
                                    "(No column name)": "2016-10-30"
                                },
                                {
                                    "nev": "Bíró Péter",
                                    "mettol": "2016-10-30",
                                    "(No column name)": "2016-10-30"
                                },
                                {
                                    "nev": "Nagymihály Lajos",
                                    "mettol": "2016-10-30",
                                    "(No column name)": "2016-10-30"
                                },
                                {
                                    "nev": "Kardos Renáta",
                                    "mettol": "2016-10-30",
                                    "(No column name)": "2016-10-30"
                                },
                                {
                                    "nev": "Horváth Ágnes",
                                    "mettol": "2016-10-30",
                                    "(No column name)": "2016-10-30"
                                },
                                {
                                    "nev": "Szilágyi Mátyás",
                                    "mettol": "2016-10-30",
                                    "(No column name)": "2016-10-30"
                                },
                                {
                                    "nev": "Ambrus Dávid",
                                    "mettol": "2016-10-30",
                                    "(No column name)": "2016-10-30"
                                },
                                {
                                    "nev": "Szalai Péter",
                                    "mettol": "2016-10-30",
                                    "(No column name)": "2016-10-30"
                                },
                                {
                                    "nev": "Kovács Bernadett",
                                    "mettol": "2016-10-30",
                                    "(No column name)": "2016-10-30"
                                },
                                {
                                    "nev": "Barna Zoltán",
                                    "mettol": "2016-10-30",
                                    "(No column name)": "2016-10-30"
                                },
                                {
                                    "nev": "Opra Attila",
                                    "mettol": "2016-10-30",
                                    "(No column name)": "2016-10-30"
                                },
                                {
                                    "nev": "Neizer Andrea",
                                    "mettol": "2016-10-30",
                                    "(No column name)": "2016-10-30"
                                },
                                {
                                    "nev": "Hegedűs Norbert",
                                    "mettol": "2016-10-31",
                                    "(No column name)": "2016-10-30"
                                },
                                {
                                    "nev": "Juhász Mihály",
                                    "mettol": "2016-11-01",
                                    "(No column name)": "2016-10-31"
                                },
                                {
                                    "nev": "Érsek Eszter",
                                    "mettol": "2016-11-01",
                                    "(No column name)": "2016-11-01"
                                },
                                {
                                    "nev": "Bozsó Péter",
                                    "mettol": "2016-11-01",
                                    "(No column name)": "2016-11-01"
                                },
                                {
                                    "nev": "Czérna Krisztián",
                                    "mettol": "2016-11-02",
                                    "(No column name)": "2016-11-01"
                                },
                                {
                                    "nev": "Farkas Béla",
                                    "mettol": "2016-11-03",
                                    "(No column name)": "2016-11-02"
                                },
                                {
                                    "nev": "Szűcs Balázs",
                                    "mettol": "2016-11-03",
                                    "(No column name)": "2016-11-03"
                                },
                                {
                                    "nev": "Kelemen Áron",
                                    "mettol": "2016-11-03",
                                    "(No column name)": "2016-11-03"
                                },
                                {
                                    "nev": "Csiger Bertalan",
                                    "mettol": "2016-11-03",
                                    "(No column name)": "2016-11-03"
                                },
                                {
                                    "nev": "Fő Nándor",
                                    "mettol": "2016-11-03",
                                    "(No column name)": "2016-11-03"
                                },
                                {
                                    "nev": "Pataki Brigitta",
                                    "mettol": "2016-11-03",
                                    "(No column name)": "2016-11-03"
                                },
                                {
                                    "nev": "Szabó Julianna",
                                    "mettol": "2016-11-03",
                                    "(No column name)": "2016-11-03"
                                },
                                {
                                    "nev": "Bosnyák Ilona",
                                    "mettol": "2016-11-04",
                                    "(No column name)": "2016-11-03"
                                },
                                {
                                    "nev": "Balogh Eszter",
                                    "mettol": "2016-11-05",
                                    "(No column name)": "2016-11-04"
                                },
                                {
                                    "nev": "Kovács Katalin",
                                    "mettol": "2016-11-05",
                                    "(No column name)": "2016-11-05"
                                },
                                {
                                    "nev": "Kelemen Áron",
                                    "mettol": "2016-11-05",
                                    "(No column name)": "2016-11-05"
                                },
                                {
                                    "nev": "Jakab Áron",
                                    "mettol": "2016-11-05",
                                    "(No column name)": "2016-11-05"
                                },
                                {
                                    "nev": "Kuruc Emese",
                                    "mettol": "2016-11-05",
                                    "(No column name)": "2016-11-05"
                                },
                                {
                                    "nev": "Gombos Tibor",
                                    "mettol": "2016-11-05",
                                    "(No column name)": "2016-11-05"
                                },
                                {
                                    "nev": "Béres Norbert",
                                    "mettol": "2016-11-05",
                                    "(No column name)": "2016-11-05"
                                },
                                {
                                    "nev": "Ferencz Roland",
                                    "mettol": "2016-11-05",
                                    "(No column name)": "2016-11-05"
                                },
                                {
                                    "nev": "Tömböly Dénes",
                                    "mettol": "2016-11-06",
                                    "(No column name)": "2016-11-05"
                                },
                                {
                                    "nev": "Perlinger Éva",
                                    "mettol": "2016-11-06",
                                    "(No column name)": "2016-11-06"
                                },
                                {
                                    "nev": "Ötvös Árpád",
                                    "mettol": "2016-11-06",
                                    "(No column name)": "2016-11-06"
                                },
                                {
                                    "nev": "Molnár Bálint",
                                    "mettol": "2016-11-07",
                                    "(No column name)": "2016-11-06"
                                },
                                {
                                    "nev": "Nagy Júlia",
                                    "mettol": "2016-11-07",
                                    "(No column name)": "2016-11-07"
                                },
                                {
                                    "nev": "Giliga János",
                                    "mettol": "2016-11-07",
                                    "(No column name)": "2016-11-07"
                                },
                                {
                                    "nev": "Telek Gábor",
                                    "mettol": "2016-11-07",
                                    "(No column name)": "2016-11-07"
                                },
                                {
                                    "nev": "Lengyel Ágnes",
                                    "mettol": "2016-11-07",
                                    "(No column name)": "2016-11-07"
                                },
                                {
                                    "nev": "Orosz Ferenc",
                                    "mettol": "2016-11-07",
                                    "(No column name)": "2016-11-07"
                                },
                                {
                                    "nev": "Rácz Rajmond",
                                    "mettol": "2016-11-08",
                                    "(No column name)": "2016-11-07"
                                },
                                {
                                    "nev": "Baráth Mária",
                                    "mettol": "2016-11-08",
                                    "(No column name)": "2016-11-08"
                                },
                                {
                                    "nev": "Kornseé Gyöngyi",
                                    "mettol": "2016-11-08",
                                    "(No column name)": "2016-11-08"
                                },
                                {
                                    "nev": "Szedlár Krisztina",
                                    "mettol": "2016-11-08",
                                    "(No column name)": "2016-11-08"
                                },
                                {
                                    "nev": "Mohos Mónika",
                                    "mettol": "2016-11-09",
                                    "(No column name)": "2016-11-08"
                                },
                                {
                                    "nev": "Móricz Árpád",
                                    "mettol": "2016-11-09",
                                    "(No column name)": "2016-11-09"
                                },
                                {
                                    "nev": "Keszler Dániel",
                                    "mettol": "2016-11-09",
                                    "(No column name)": "2016-11-09"
                                },
                                {
                                    "nev": "Gulyás Attila",
                                    "mettol": "2016-11-10",
                                    "(No column name)": "2016-11-09"
                                },
                                {
                                    "nev": "Simon Anikó",
                                    "mettol": "2016-11-10",
                                    "(No column name)": "2016-11-10"
                                },
                                {
                                    "nev": "Farkas Sándor",
                                    "mettol": "2016-11-10",
                                    "(No column name)": "2016-11-10"
                                },
                                {
                                    "nev": "Bíró Péter",
                                    "mettol": "2016-11-10",
                                    "(No column name)": "2016-11-10"
                                },
                                {
                                    "nev": "Regős Annamária",
                                    "mettol": "2016-11-11",
                                    "(No column name)": "2016-11-10"
                                },
                                {
                                    "nev": "Feró Valentin",
                                    "mettol": "2016-11-11",
                                    "(No column name)": "2016-11-11"
                                },
                                {
                                    "nev": "Miklós Szabolcs",
                                    "mettol": "2016-11-12",
                                    "(No column name)": "2016-11-11"
                                },
                                {
                                    "nev": "Nagymihály Csongor",
                                    "mettol": "2016-11-12",
                                    "(No column name)": "2016-11-12"
                                },
                                {
                                    "nev": "Rácz Dániel",
                                    "mettol": "2016-11-13",
                                    "(No column name)": "2016-11-12"
                                },
                                {
                                    "nev": "Kerényi Beatrix",
                                    "mettol": "2016-11-14",
                                    "(No column name)": "2016-11-13"
                                },
                                {
                                    "nev": "Miklós Tamara",
                                    "mettol": "2016-11-15",
                                    "(No column name)": "2016-11-14"
                                },
                                {
                                    "nev": "Bieniek Ádám",
                                    "mettol": "2016-11-15",
                                    "(No column name)": "2016-11-15"
                                },
                                {
                                    "nev": "Bozsó Péter",
                                    "mettol": "2016-11-15",
                                    "(No column name)": "2016-11-15"
                                },
                                {
                                    "nev": "Gondos Miklós",
                                    "mettol": "2016-11-16",
                                    "(No column name)": "2016-11-15"
                                },
                                {
                                    "nev": "Rácz Rajmond",
                                    "mettol": "2016-11-16",
                                    "(No column name)": "2016-11-16"
                                },
                                {
                                    "nev": "Szűcs Norbert",
                                    "mettol": "2016-11-16",
                                    "(No column name)": "2016-11-16"
                                },
                                {
                                    "nev": "Maródi Andrea",
                                    "mettol": "2016-11-16",
                                    "(No column name)": "2016-11-16"
                                },
                                {
                                    "nev": "Berendi Péter",
                                    "mettol": "2016-11-17",
                                    "(No column name)": "2016-11-16"
                                },
                                {
                                    "nev": "Boros Vivien",
                                    "mettol": "2016-11-17",
                                    "(No column name)": "2016-11-17"
                                },
                                {
                                    "nev": "Farkas Sára",
                                    "mettol": "2016-11-18",
                                    "(No column name)": "2016-11-17"
                                },
                                {
                                    "nev": "Turcsik Tünde",
                                    "mettol": "2016-11-19",
                                    "(No column name)": "2016-11-18"
                                },
                                {
                                    "nev": "Köves Gábor",
                                    "mettol": "2016-11-19",
                                    "(No column name)": "2016-11-19"
                                },
                                {
                                    "nev": "Barna Zoltán",
                                    "mettol": "2016-11-19",
                                    "(No column name)": "2016-11-19"
                                },
                                {
                                    "nev": "Kispál Márk",
                                    "mettol": "2016-11-19",
                                    "(No column name)": "2016-11-19"
                                },
                                {
                                    "nev": "Tóth Roland",
                                    "mettol": "2016-11-19",
                                    "(No column name)": "2016-11-19"
                                },
                                {
                                    "nev": "Szomor Andrea",
                                    "mettol": "2016-11-19",
                                    "(No column name)": "2016-11-19"
                                },
                                {
                                    "nev": "Sobják Dávid",
                                    "mettol": "2016-11-19",
                                    "(No column name)": "2016-11-19"
                                },
                                {
                                    "nev": "Erdei András",
                                    "mettol": "2016-11-19",
                                    "(No column name)": "2016-11-19"
                                },
                                {
                                    "nev": "Komjáti András",
                                    "mettol": "2016-11-20",
                                    "(No column name)": "2016-11-19"
                                },
                                {
                                    "nev": "Bíró Ákos",
                                    "mettol": "2016-11-21",
                                    "(No column name)": "2016-11-20"
                                },
                                {
                                    "nev": "Vajda Zsuzsa",
                                    "mettol": "2016-11-21",
                                    "(No column name)": "2016-11-21"
                                },
                                {
                                    "nev": "Soós István",
                                    "mettol": "2016-11-22",
                                    "(No column name)": "2016-11-21"
                                },
                                {
                                    "nev": "Dunai Aladár",
                                    "mettol": "2016-11-22",
                                    "(No column name)": "2016-11-22"
                                },
                                {
                                    "nev": "Vörös Dániel",
                                    "mettol": "2016-11-22",
                                    "(No column name)": "2016-11-22"
                                },
                                {
                                    "nev": "Sarodi Dóra",
                                    "mettol": "2016-11-22",
                                    "(No column name)": "2016-11-22"
                                },
                                {
                                    "nev": "Frank Fruzsina",
                                    "mettol": "2016-11-22",
                                    "(No column name)": "2016-11-22"
                                },
                                {
                                    "nev": "Szedlár Krisztina",
                                    "mettol": "2016-11-22",
                                    "(No column name)": "2016-11-22"
                                },
                                {
                                    "nev": "Vajda József",
                                    "mettol": "2016-11-23",
                                    "(No column name)": "2016-11-22"
                                },
                                {
                                    "nev": "Komjáti András",
                                    "mettol": "2016-11-23",
                                    "(No column name)": "2016-11-23"
                                },
                                {
                                    "nev": "Keszler Dániel",
                                    "mettol": "2016-11-23",
                                    "(No column name)": "2016-11-23"
                                },
                                {
                                    "nev": "Molnár András",
                                    "mettol": "2016-11-23",
                                    "(No column name)": "2016-11-23"
                                },
                                {
                                    "nev": "Farkas Sára",
                                    "mettol": "2016-11-23",
                                    "(No column name)": "2016-11-23"
                                },
                                {
                                    "nev": "Kardos Renáta",
                                    "mettol": "2016-11-23",
                                    "(No column name)": "2016-11-23"
                                },
                                {
                                    "nev": "Kuruc Emese",
                                    "mettol": "2016-11-23",
                                    "(No column name)": "2016-11-23"
                                },
                                {
                                    "nev": "Pálinkás János",
                                    "mettol": "2016-11-23",
                                    "(No column name)": "2016-11-23"
                                },
                                {
                                    "nev": "Horváth Bálint",
                                    "mettol": "2016-11-24",
                                    "(No column name)": "2016-11-23"
                                },
                                {
                                    "nev": "Bíró Péter",
                                    "mettol": "2016-11-25",
                                    "(No column name)": "2016-11-24"
                                },
                                {
                                    "nev": "Back András",
                                    "mettol": "2016-11-25",
                                    "(No column name)": "2016-11-25"
                                },
                                {
                                    "nev": "Pálinkás János",
                                    "mettol": "2016-11-25",
                                    "(No column name)": "2016-11-25"
                                },
                                {
                                    "nev": "Nagy András",
                                    "mettol": "2016-11-25",
                                    "(No column name)": "2016-11-25"
                                },
                                {
                                    "nev": "Móra László",
                                    "mettol": "2016-11-25",
                                    "(No column name)": "2016-11-25"
                                },
                                {
                                    "nev": "Vajda József",
                                    "mettol": "2016-11-25",
                                    "(No column name)": "2016-11-25"
                                },
                                {
                                    "nev": "Csiger Bertalan",
                                    "mettol": "2016-11-26",
                                    "(No column name)": "2016-11-25"
                                },
                                {
                                    "nev": "Szabó Julianna",
                                    "mettol": "2016-11-27",
                                    "(No column name)": "2016-11-26"
                                },
                                {
                                    "nev": "Dusha Tímea",
                                    "mettol": "2016-11-27",
                                    "(No column name)": "2016-11-27"
                                },
                                {
                                    "nev": "Kertész Katalin",
                                    "mettol": "2016-11-27",
                                    "(No column name)": "2016-11-27"
                                },
                                {
                                    "nev": "Bajusz Bence",
                                    "mettol": "2016-11-28",
                                    "(No column name)": "2016-11-27"
                                },
                                {
                                    "nev": "Pusztai Zsuzsanna",
                                    "mettol": "2016-11-28",
                                    "(No column name)": "2016-11-28"
                                },
                                {
                                    "nev": "Vígh András",
                                    "mettol": "2016-11-28",
                                    "(No column name)": "2016-11-28"
                                },
                                {
                                    "nev": "Nagy László",
                                    "mettol": "2016-11-29",
                                    "(No column name)": "2016-11-28"
                                },
                                {
                                    "nev": "Erdei András",
                                    "mettol": "2016-11-29",
                                    "(No column name)": "2016-11-29"
                                },
                                {
                                    "nev": "Nagy Sándor",
                                    "mettol": "2016-11-29",
                                    "(No column name)": "2016-11-29"
                                },
                                {
                                    "nev": "Bagóczki Alexandra",
                                    "mettol": "2016-11-29",
                                    "(No column name)": "2016-11-29"
                                },
                                {
                                    "nev": "Mile Norbert",
                                    "mettol": "2016-11-30",
                                    "(No column name)": "2016-11-29"
                                },
                                {
                                    "nev": "Feró Valentin",
                                    "mettol": "2016-12-01",
                                    "(No column name)": "2016-11-30"
                                },
                                {
                                    "nev": "Kornseé Gyöngyi",
                                    "mettol": "2016-12-01",
                                    "(No column name)": "2016-12-01"
                                },
                                {
                                    "nev": "Balogh Eszter",
                                    "mettol": "2016-12-02",
                                    "(No column name)": "2016-12-01"
                                },
                                {
                                    "nev": "Farkas Béla",
                                    "mettol": "2016-12-02",
                                    "(No column name)": "2016-12-02"
                                },
                                {
                                    "nev": "Fényes Tamás",
                                    "mettol": "2016-12-02",
                                    "(No column name)": "2016-12-02"
                                },
                                {
                                    "nev": "Nagy Sándor",
                                    "mettol": "2016-12-03",
                                    "(No column name)": "2016-12-02"
                                },
                                {
                                    "nev": "Kertész Katalin",
                                    "mettol": "2016-12-04",
                                    "(No column name)": "2016-12-03"
                                },
                                {
                                    "nev": "Vukasinovity Bálint",
                                    "mettol": "2016-12-04",
                                    "(No column name)": "2016-12-04"
                                },
                                {
                                    "nev": "Horváth Árpád",
                                    "mettol": "2016-12-04",
                                    "(No column name)": "2016-12-04"
                                },
                                {
                                    "nev": "Bodor Szabolcs",
                                    "mettol": "2016-12-05",
                                    "(No column name)": "2016-12-04"
                                },
                                {
                                    "nev": "Balla Miklós",
                                    "mettol": "2016-12-05",
                                    "(No column name)": "2016-12-05"
                                },
                                {
                                    "nev": "Balogh Eszter",
                                    "mettol": "2016-12-05",
                                    "(No column name)": "2016-12-05"
                                },
                                {
                                    "nev": "Bakódy Balázs",
                                    "mettol": "2016-12-05",
                                    "(No column name)": "2016-12-05"
                                },
                                {
                                    "nev": "Bieniek Ádám",
                                    "mettol": "2016-12-06",
                                    "(No column name)": "2016-12-05"
                                },
                                {
                                    "nev": "Gergely József",
                                    "mettol": "2016-12-06",
                                    "(No column name)": "2016-12-06"
                                },
                                {
                                    "nev": "Perlinger Éva",
                                    "mettol": "2016-12-06",
                                    "(No column name)": "2016-12-06"
                                },
                                {
                                    "nev": "Farkas Béla",
                                    "mettol": "2016-12-06",
                                    "(No column name)": "2016-12-06"
                                },
                                {
                                    "nev": "Farkas Sára",
                                    "mettol": "2016-12-06",
                                    "(No column name)": "2016-12-06"
                                },
                                {
                                    "nev": "Pintér Zoltán",
                                    "mettol": "2016-12-07",
                                    "(No column name)": "2016-12-06"
                                },
                                {
                                    "nev": "Kelemen Áron",
                                    "mettol": "2016-12-07",
                                    "(No column name)": "2016-12-07"
                                },
                                {
                                    "nev": "Kuruc Emese",
                                    "mettol": "2016-12-07",
                                    "(No column name)": "2016-12-07"
                                },
                                {
                                    "nev": "Kő Nikoletta",
                                    "mettol": "2016-12-08",
                                    "(No column name)": "2016-12-07"
                                },
                                {
                                    "nev": "Botka Mátyás",
                                    "mettol": "2016-12-09",
                                    "(No column name)": "2016-12-08"
                                },
                                {
                                    "nev": "Fényes Tamás",
                                    "mettol": "2016-12-10",
                                    "(No column name)": "2016-12-09"
                                },
                                {
                                    "nev": "Czérna Krisztián",
                                    "mettol": "2016-12-11",
                                    "(No column name)": "2016-12-10"
                                },
                                {
                                    "nev": "Kerényi Beatrix",
                                    "mettol": "2016-12-12",
                                    "(No column name)": "2016-12-11"
                                },
                                {
                                    "nev": "Horváth Katalin",
                                    "mettol": "2016-12-13",
                                    "(No column name)": "2016-12-12"
                                },
                                {
                                    "nev": "Móricz Árpád",
                                    "mettol": "2016-12-14",
                                    "(No column name)": "2016-12-13"
                                },
                                {
                                    "nev": "Dusha Tímea",
                                    "mettol": "2016-12-14",
                                    "(No column name)": "2016-12-14"
                                },
                                {
                                    "nev": "Turcsik Tünde",
                                    "mettol": "2016-12-15",
                                    "(No column name)": "2016-12-14"
                                },
                                {
                                    "nev": "Bíró Ákos",
                                    "mettol": "2016-12-15",
                                    "(No column name)": "2016-12-15"
                                },
                                {
                                    "nev": "Szűcs Norbert",
                                    "mettol": "2016-12-15",
                                    "(No column name)": "2016-12-15"
                                },
                                {
                                    "nev": "Frank Fruzsina",
                                    "mettol": "2016-12-16",
                                    "(No column name)": "2016-12-15"
                                },
                                {
                                    "nev": "Kovács Bernadett",
                                    "mettol": "2016-12-17",
                                    "(No column name)": "2016-12-16"
                                },
                                {
                                    "nev": "Győrffy Bence",
                                    "mettol": "2016-12-17",
                                    "(No column name)": "2016-12-17"
                                },
                                {
                                    "nev": "Barabás Pál",
                                    "mettol": "2016-12-17",
                                    "(No column name)": "2016-12-17"
                                },
                                {
                                    "nev": "Kerényi Beatrix",
                                    "mettol": "2016-12-17",
                                    "(No column name)": "2016-12-17"
                                },
                                {
                                    "nev": "Kovács Ágnes",
                                    "mettol": "2016-12-17",
                                    "(No column name)": "2016-12-17"
                                },
                                {
                                    "nev": "Horváth Katalin",
                                    "mettol": "2016-12-17",
                                    "(No column name)": "2016-12-17"
                                },
                                {
                                    "nev": "Székely Brigitta",
                                    "mettol": "2016-12-17",
                                    "(No column name)": "2016-12-17"
                                },
                                {
                                    "nev": "Patay Róbert",
                                    "mettol": "2016-12-17",
                                    "(No column name)": "2016-12-17"
                                },
                                {
                                    "nev": "Boros Vivien",
                                    "mettol": "2016-12-17",
                                    "(No column name)": "2016-12-17"
                                },
                                {
                                    "nev": "Molnár Bálint",
                                    "mettol": "2016-12-17",
                                    "(No column name)": "2016-12-17"
                                },
                                {
                                    "nev": "Horváth Árpád",
                                    "mettol": "2016-12-18",
                                    "(No column name)": "2016-12-17"
                                },
                                {
                                    "nev": "Pálinkás János",
                                    "mettol": "2016-12-18",
                                    "(No column name)": "2016-12-18"
                                },
                                {
                                    "nev": "Hídasi Judit",
                                    "mettol": "2016-12-19",
                                    "(No column name)": "2016-12-18"
                                },
                                {
                                    "nev": "Szilágyi Mátyás",
                                    "mettol": "2016-12-20",
                                    "(No column name)": "2016-12-19"
                                },
                                {
                                    "nev": "Szekendi Beatrix",
                                    "mettol": "2016-12-21",
                                    "(No column name)": "2016-12-20"
                                },
                                {
                                    "nev": "Endresz Bálint",
                                    "mettol": "2016-12-22",
                                    "(No column name)": "2016-12-21"
                                },
                                {
                                    "nev": "Csóti Attila",
                                    "mettol": "2016-12-22",
                                    "(No column name)": "2016-12-22"
                                },
                                {
                                    "nev": "Ferencz Roland",
                                    "mettol": "2016-12-22",
                                    "(No column name)": "2016-12-22"
                                },
                                {
                                    "nev": "Molnár Eszter",
                                    "mettol": "2016-12-23",
                                    "(No column name)": "2016-12-22"
                                },
                                {
                                    "nev": "Boros Vivien",
                                    "mettol": "2016-12-24",
                                    "(No column name)": "2016-12-23"
                                },
                                {
                                    "nev": "Ötvös Árpád",
                                    "mettol": "2016-12-24",
                                    "(No column name)": "2016-12-24"
                                },
                                {
                                    "nev": "Horváth Katalin",
                                    "mettol": "2016-12-24",
                                    "(No column name)": "2016-12-24"
                                },
                                {
                                    "nev": "Kazy Tihamér",
                                    "mettol": "2016-12-25",
                                    "(No column name)": "2016-12-24"
                                },
                                {
                                    "nev": "Farkas Sára",
                                    "mettol": "2016-12-25",
                                    "(No column name)": "2016-12-25"
                                },
                                {
                                    "nev": "Tari Szilvia",
                                    "mettol": "2016-12-25",
                                    "(No column name)": "2016-12-25"
                                },
                                {
                                    "nev": "Mogyródi Krisztián",
                                    "mettol": "2016-12-25",
                                    "(No column name)": "2016-12-25"
                                },
                                {
                                    "nev": "Bosnyák Ilona",
                                    "mettol": "2016-12-25",
                                    "(No column name)": "2016-12-25"
                                },
                                {
                                    "nev": "Kiss Lajos",
                                    "mettol": "2016-12-25",
                                    "(No column name)": "2016-12-25"
                                },
                                {
                                    "nev": "Rácz Dániel",
                                    "mettol": "2016-12-25",
                                    "(No column name)": "2016-12-25"
                                },
                                {
                                    "nev": "Szalai Péter",
                                    "mettol": "2016-12-25",
                                    "(No column name)": "2016-12-25"
                                },
                                {
                                    "nev": "Pintér Zoltán",
                                    "mettol": "2016-12-25",
                                    "(No column name)": "2016-12-25"
                                },
                                {
                                    "nev": "Papós Tímea",
                                    "mettol": "2016-12-26",
                                    "(No column name)": "2016-12-25"
                                },
                                {
                                    "nev": "Bozsik Balázs",
                                    "mettol": "2016-12-26",
                                    "(No column name)": "2016-12-26"
                                },
                                {
                                    "nev": "Győrffy Bence",
                                    "mettol": "2016-12-26",
                                    "(No column name)": "2016-12-26"
                                },
                                {
                                    "nev": "Tari Szilvia",
                                    "mettol": "2016-12-27",
                                    "(No column name)": "2016-12-26"
                                },
                                {
                                    "nev": "Giliga János",
                                    "mettol": "2016-12-28",
                                    "(No column name)": "2016-12-27"
                                },
                                {
                                    "nev": "Barna Zoltán",
                                    "mettol": "2016-12-29",
                                    "(No column name)": "2016-12-28"
                                },
                                {
                                    "nev": "Molnár Bálint",
                                    "mettol": "2016-12-29",
                                    "(No column name)": "2016-12-29"
                                },
                                {
                                    "nev": "Nádudvari Henrik",
                                    "mettol": "2016-12-29",
                                    "(No column name)": "2016-12-29"
                                },
                                {
                                    "nev": "Bíró Ákos",
                                    "mettol": "2016-12-29",
                                    "(No column name)": "2016-12-29"
                                },
                                {
                                    "nev": "Sobják Dávid",
                                    "mettol": "2016-12-30",
                                    "(No column name)": "2016-12-29"
                                },
                                {
                                    "nev": "Baróti Attila",
                                    "mettol": "2016-12-31",
                                    "(No column name)": "2016-12-30"
                                },
                                {
                                    "nev": "Barna Zoltán",
                                    "mettol": "2017-01-01",
                                    "(No column name)": "2016-12-31"
                                },
                                {
                                    "nev": "Bozsik Balázs",
                                    "mettol": "2017-01-01",
                                    "(No column name)": "2017-01-01"
                                },
                                {
                                    "nev": "Orbán Bernadett",
                                    "mettol": "2017-01-01",
                                    "(No column name)": "2017-01-01"
                                },
                                {
                                    "nev": "Kelemen Áron",
                                    "mettol": "2017-01-01",
                                    "(No column name)": "2017-01-01"
                                },
                                {
                                    "nev": "Soós István",
                                    "mettol": "2017-01-02",
                                    "(No column name)": "2017-01-01"
                                },
                                {
                                    "nev": "Kovács Katalin",
                                    "mettol": "2017-01-02",
                                    "(No column name)": "2017-01-02"
                                },
                                {
                                    "nev": "Turcsik Tünde",
                                    "mettol": "2017-01-03",
                                    "(No column name)": "2017-01-02"
                                },
                                {
                                    "nev": "Molnár Bálint",
                                    "mettol": "2017-01-03",
                                    "(No column name)": "2017-01-03"
                                },
                                {
                                    "nev": "Horváth Ágnes",
                                    "mettol": "2017-01-03",
                                    "(No column name)": "2017-01-03"
                                },
                                {
                                    "nev": "Ferencz Roland",
                                    "mettol": "2017-01-04",
                                    "(No column name)": "2017-01-03"
                                },
                                {
                                    "nev": "Keszler Dániel",
                                    "mettol": "2017-01-05",
                                    "(No column name)": "2017-01-04"
                                },
                                {
                                    "nev": "Móricz Árpád",
                                    "mettol": "2017-01-05",
                                    "(No column name)": "2017-01-05"
                                },
                                {
                                    "nev": "Fülöp Eszter",
                                    "mettol": "2017-01-05",
                                    "(No column name)": "2017-01-05"
                                },
                                {
                                    "nev": "Czérna Krisztián",
                                    "mettol": "2017-01-06",
                                    "(No column name)": "2017-01-05"
                                },
                                {
                                    "nev": "Perlinger Éva",
                                    "mettol": "2017-01-06",
                                    "(No column name)": "2017-01-06"
                                },
                                {
                                    "nev": "Miklós Szabolcs",
                                    "mettol": "2017-01-07",
                                    "(No column name)": "2017-01-06"
                                },
                                {
                                    "nev": "Nagymihály Lajos",
                                    "mettol": "2017-01-08",
                                    "(No column name)": "2017-01-07"
                                },
                                {
                                    "nev": "Gyuris József",
                                    "mettol": "2017-01-09",
                                    "(No column name)": "2017-01-08"
                                },
                                {
                                    "nev": "Back András",
                                    "mettol": "2017-01-09",
                                    "(No column name)": "2017-01-09"
                                },
                                {
                                    "nev": "Barta Zsuzsanna",
                                    "mettol": "2017-01-09",
                                    "(No column name)": "2017-01-09"
                                },
                                {
                                    "nev": "Szilágyi Mátyás",
                                    "mettol": "2017-01-09",
                                    "(No column name)": "2017-01-09"
                                },
                                {
                                    "nev": "Rácz Dániel",
                                    "mettol": "2017-01-09",
                                    "(No column name)": "2017-01-09"
                                },
                                {
                                    "nev": "Giliga János",
                                    "mettol": "2017-01-10",
                                    "(No column name)": "2017-01-09"
                                },
                                {
                                    "nev": "Regős Annamária",
                                    "mettol": "2017-01-10",
                                    "(No column name)": "2017-01-10"
                                },
                                {
                                    "nev": "Bucskó Róza",
                                    "mettol": "2017-01-11",
                                    "(No column name)": "2017-01-10"
                                },
                                {
                                    "nev": "Szalai Péter",
                                    "mettol": "2017-01-12",
                                    "(No column name)": "2017-01-11"
                                },
                                {
                                    "nev": "Bieniek Ádám",
                                    "mettol": "2017-01-12",
                                    "(No column name)": "2017-01-12"
                                },
                                {
                                    "nev": "Bagóczki Alexandra",
                                    "mettol": "2017-01-13",
                                    "(No column name)": "2017-01-12"
                                },
                                {
                                    "nev": "Maródi Andrea",
                                    "mettol": "2017-01-13",
                                    "(No column name)": "2017-01-13"
                                },
                                {
                                    "nev": "Enyedi Éva",
                                    "mettol": "2017-01-14",
                                    "(No column name)": "2017-01-13"
                                },
                                {
                                    "nev": "Gondos Katalin",
                                    "mettol": "2017-01-15",
                                    "(No column name)": "2017-01-14"
                                },
                                {
                                    "nev": "Bittmann Edit",
                                    "mettol": "2017-01-15",
                                    "(No column name)": "2017-01-15"
                                },
                                {
                                    "nev": "Horváth Ágnes",
                                    "mettol": "2017-01-16",
                                    "(No column name)": "2017-01-15"
                                },
                                {
                                    "nev": "Szalai Szilárd",
                                    "mettol": "2017-01-16",
                                    "(No column name)": "2017-01-16"
                                },
                                {
                                    "nev": "Mogyródi Krisztián",
                                    "mettol": "2017-01-16",
                                    "(No column name)": "2017-01-16"
                                },
                                {
                                    "nev": "Barta Zsuzsanna",
                                    "mettol": "2017-01-16",
                                    "(No column name)": "2017-01-16"
                                },
                                {
                                    "nev": "Czérna Krisztián",
                                    "mettol": "2017-01-16",
                                    "(No column name)": "2017-01-16"
                                },
                                {
                                    "nev": "Koza Máté",
                                    "mettol": "2017-01-16",
                                    "(No column name)": "2017-01-16"
                                },
                                {
                                    "nev": "Tóth Zoltán",
                                    "mettol": "2017-01-16",
                                    "(No column name)": "2017-01-16"
                                },
                                {
                                    "nev": "Ferencz Roland",
                                    "mettol": "2017-01-16",
                                    "(No column name)": "2017-01-16"
                                },
                                {
                                    "nev": "Nagymihály Lajos",
                                    "mettol": "2017-01-17",
                                    "(No column name)": "2017-01-16"
                                },
                                {
                                    "nev": "Mohos Mónika",
                                    "mettol": "2017-01-17",
                                    "(No column name)": "2017-01-17"
                                },
                                {
                                    "nev": "Vörös Dániel",
                                    "mettol": "2017-01-17",
                                    "(No column name)": "2017-01-17"
                                },
                                {
                                    "nev": "Andor Ibolya",
                                    "mettol": "2017-01-17",
                                    "(No column name)": "2017-01-17"
                                },
                                {
                                    "nev": "Jakab Áron",
                                    "mettol": "2017-01-17",
                                    "(No column name)": "2017-01-17"
                                },
                                {
                                    "nev": "Ambrus Dávid",
                                    "mettol": "2017-01-18",
                                    "(No column name)": "2017-01-17"
                                },
                                {
                                    "nev": "Kertész Katalin",
                                    "mettol": "2017-01-18",
                                    "(No column name)": "2017-01-18"
                                },
                                {
                                    "nev": "Tankó Veronika",
                                    "mettol": "2017-01-19",
                                    "(No column name)": "2017-01-18"
                                },
                                {
                                    "nev": "Bagóczki Alexandra",
                                    "mettol": "2017-01-19",
                                    "(No column name)": "2017-01-19"
                                },
                                {
                                    "nev": "Kovács Katalin",
                                    "mettol": "2017-01-19",
                                    "(No column name)": "2017-01-19"
                                },
                                {
                                    "nev": "Bakódy Balázs",
                                    "mettol": "2017-01-20",
                                    "(No column name)": "2017-01-19"
                                },
                                {
                                    "nev": "Bori Krisztina",
                                    "mettol": "2017-01-21",
                                    "(No column name)": "2017-01-20"
                                },
                                {
                                    "nev": "Gyuris József",
                                    "mettol": "2017-01-22",
                                    "(No column name)": "2017-01-21"
                                },
                                {
                                    "nev": "Horváth Márk",
                                    "mettol": "2017-01-22",
                                    "(No column name)": "2017-01-22"
                                },
                                {
                                    "nev": "Kornseé Gyöngyi",
                                    "mettol": "2017-01-22",
                                    "(No column name)": "2017-01-22"
                                },
                                {
                                    "nev": "Neizer Andrea",
                                    "mettol": "2017-01-22",
                                    "(No column name)": "2017-01-22"
                                },
                                {
                                    "nev": "Nagy Sándor",
                                    "mettol": "2017-01-22",
                                    "(No column name)": "2017-01-22"
                                },
                                {
                                    "nev": "Vörös Dániel",
                                    "mettol": "2017-01-22",
                                    "(No column name)": "2017-01-22"
                                },
                                {
                                    "nev": "Frank Fruzsina",
                                    "mettol": "2017-01-22",
                                    "(No column name)": "2017-01-22"
                                },
                                {
                                    "nev": "Gulyás Attila",
                                    "mettol": "2017-01-23",
                                    "(No column name)": "2017-01-22"
                                },
                                {
                                    "nev": "Székely Brigitta",
                                    "mettol": "2017-01-23",
                                    "(No column name)": "2017-01-23"
                                },
                                {
                                    "nev": "Barna Debóra",
                                    "mettol": "2017-01-23",
                                    "(No column name)": "2017-01-23"
                                },
                                {
                                    "nev": "Kardos Renáta",
                                    "mettol": "2017-01-23",
                                    "(No column name)": "2017-01-23"
                                },
                                {
                                    "nev": "Kovács Bernadett",
                                    "mettol": "2017-01-24",
                                    "(No column name)": "2017-01-23"
                                },
                                {
                                    "nev": "Kertész Katalin",
                                    "mettol": "2017-01-24",
                                    "(No column name)": "2017-01-24"
                                },
                                {
                                    "nev": "Gyárfás Krisztina",
                                    "mettol": "2017-01-25",
                                    "(No column name)": "2017-01-24"
                                },
                                {
                                    "nev": "Fülöp Eszter",
                                    "mettol": "2017-01-26",
                                    "(No column name)": "2017-01-25"
                                },
                                {
                                    "nev": "Nádudvari Henrik",
                                    "mettol": "2017-01-27",
                                    "(No column name)": "2017-01-26"
                                },
                                {
                                    "nev": "Orbán Bernadett",
                                    "mettol": "2017-01-28",
                                    "(No column name)": "2017-01-27"
                                },
                                {
                                    "nev": "Molnár András",
                                    "mettol": "2017-01-28",
                                    "(No column name)": "2017-01-28"
                                },
                                {
                                    "nev": "Tari Szilvia",
                                    "mettol": "2017-01-28",
                                    "(No column name)": "2017-01-28"
                                },
                                {
                                    "nev": "Balogh Eszter",
                                    "mettol": "2016-12-29",
                                    "(No column name)": "2017-01-28"
                                },
                                {
                                    "nev": "Palágyi Polla",
                                    "mettol": "2017-01-29",
                                    "(No column name)": "2016-12-29"
                                },
                                {
                                    "nev": "Hegedűs Norbert",
                                    "mettol": "2017-01-29",
                                    "(No column name)": "2017-01-29"
                                },
                                {
                                    "nev": "Szűcs Annamária",
                                    "mettol": "2017-01-30",
                                    "(No column name)": "2017-01-29"
                                },
                                {
                                    "nev": "Kuruc Emese",
                                    "mettol": "2017-01-30",
                                    "(No column name)": "2017-01-30"
                                },
                                {
                                    "nev": "Kelemen Áron",
                                    "mettol": "2017-01-30",
                                    "(No column name)": "2017-01-30"
                                },
                                {
                                    "nev": "Giliga János",
                                    "mettol": "2017-01-31",
                                    "(No column name)": "2017-01-30"
                                },
                                {
                                    "nev": "Papp Imre",
                                    "mettol": "2017-02-01",
                                    "(No column name)": "2017-01-31"
                                },
                                {
                                    "nev": "Kő Nikoletta",
                                    "mettol": "2017-02-01",
                                    "(No column name)": "2017-02-01"
                                },
                                {
                                    "nev": "Vígh András",
                                    "mettol": "2017-02-02",
                                    "(No column name)": "2017-02-01"
                                },
                                {
                                    "nev": "Szekendi Beatrix",
                                    "mettol": "2017-02-03",
                                    "(No column name)": "2017-02-02"
                                },
                                {
                                    "nev": "Tankó Veronika",
                                    "mettol": "2017-02-03",
                                    "(No column name)": "2017-02-03"
                                },
                                {
                                    "nev": "Bárci Gusztáv",
                                    "mettol": "2017-02-03",
                                    "(No column name)": "2017-02-03"
                                },
                                {
                                    "nev": "Nagy Júlia",
                                    "mettol": "2017-02-04",
                                    "(No column name)": "2017-02-03"
                                },
                                {
                                    "nev": "Barna Debóra",
                                    "mettol": "2017-02-04",
                                    "(No column name)": "2017-02-04"
                                },
                                {
                                    "nev": "Viktor Éva",
                                    "mettol": "2017-02-04",
                                    "(No column name)": "2017-02-04"
                                },
                                {
                                    "nev": "Nagy Gabriella",
                                    "mettol": "2017-02-04",
                                    "(No column name)": "2017-02-04"
                                },
                                {
                                    "nev": "Miklós Szabolcs",
                                    "mettol": "2017-02-04",
                                    "(No column name)": "2017-02-04"
                                },
                                {
                                    "nev": "Horváth Krisztina",
                                    "mettol": "2017-02-04",
                                    "(No column name)": "2017-02-04"
                                },
                                {
                                    "nev": "Papp Imre",
                                    "mettol": "2017-02-05",
                                    "(No column name)": "2017-02-04"
                                },
                                {
                                    "nev": "Bíró Péter",
                                    "mettol": "2017-02-05",
                                    "(No column name)": "2017-02-05"
                                },
                                {
                                    "nev": "Győrffy Bence",
                                    "mettol": "2017-02-05",
                                    "(No column name)": "2017-02-05"
                                },
                                {
                                    "nev": "Szedlár Krisztina",
                                    "mettol": "2017-02-05",
                                    "(No column name)": "2017-02-05"
                                },
                                {
                                    "nev": "Fő Nándor",
                                    "mettol": "2017-02-05",
                                    "(No column name)": "2017-02-05"
                                },
                                {
                                    "nev": "Barkóci Ádám",
                                    "mettol": "2017-02-06",
                                    "(No column name)": "2017-02-05"
                                },
                                {
                                    "nev": "Juhász Mihály",
                                    "mettol": "2017-02-06",
                                    "(No column name)": "2017-02-06"
                                },
                                {
                                    "nev": "Mohos Mónika",
                                    "mettol": "2017-02-06",
                                    "(No column name)": "2017-02-06"
                                },
                                {
                                    "nev": "Vizi István",
                                    "mettol": "2017-02-07",
                                    "(No column name)": "2017-02-06"
                                },
                                {
                                    "nev": "Szalai Szilárd",
                                    "mettol": "2017-02-08",
                                    "(No column name)": "2017-02-07"
                                },
                                {
                                    "nev": "Bittmann Edit",
                                    "mettol": "2017-02-08",
                                    "(No column name)": "2017-02-08"
                                },
                                {
                                    "nev": "Antal László",
                                    "mettol": "2017-02-08",
                                    "(No column name)": "2017-02-08"
                                },
                                {
                                    "nev": "Tóth András",
                                    "mettol": "2017-02-08",
                                    "(No column name)": "2017-02-08"
                                },
                                {
                                    "nev": "Kerényi Beatrix",
                                    "mettol": "2017-02-08",
                                    "(No column name)": "2017-02-08"
                                },
                                {
                                    "nev": "Pataki Brigitta",
                                    "mettol": "2017-02-09",
                                    "(No column name)": "2017-02-08"
                                },
                                {
                                    "nev": "Kiss Andrea",
                                    "mettol": "2017-02-09",
                                    "(No column name)": "2017-02-09"
                                },
                                {
                                    "nev": "Bozsik Balázs",
                                    "mettol": "2017-02-10",
                                    "(No column name)": "2017-02-09"
                                },
                                {
                                    "nev": "Érsek Eszter",
                                    "mettol": "2017-02-10",
                                    "(No column name)": "2017-02-10"
                                },
                                {
                                    "nev": "Palágyi Polla",
                                    "mettol": "2017-02-11",
                                    "(No column name)": "2017-02-10"
                                },
                                {
                                    "nev": "Bozsik Balázs",
                                    "mettol": "2017-02-12",
                                    "(No column name)": "2017-02-11"
                                },
                                {
                                    "nev": "Tóth Anikó",
                                    "mettol": "2017-02-12",
                                    "(No column name)": "2017-02-12"
                                },
                                {
                                    "nev": "Rácz Dániel",
                                    "mettol": "2017-02-12",
                                    "(No column name)": "2017-02-12"
                                },
                                {
                                    "nev": "Bajusz Bence",
                                    "mettol": "2017-02-12",
                                    "(No column name)": "2017-02-12"
                                },
                                {
                                    "nev": "Móricz Árpád",
                                    "mettol": "2017-02-12",
                                    "(No column name)": "2017-02-12"
                                },
                                {
                                    "nev": "Kiss Lajos",
                                    "mettol": "2017-02-12",
                                    "(No column name)": "2017-02-12"
                                },
                                {
                                    "nev": "Nagy Gabriella",
                                    "mettol": "2017-02-12",
                                    "(No column name)": "2017-02-12"
                                },
                                {
                                    "nev": "Fényes Tamás",
                                    "mettol": "2017-02-12",
                                    "(No column name)": "2017-02-12"
                                },
                                {
                                    "nev": "Harangozó János",
                                    "mettol": "2017-02-12",
                                    "(No column name)": "2017-02-12"
                                },
                                {
                                    "nev": "Oroszi György",
                                    "mettol": "2017-02-13",
                                    "(No column name)": "2017-02-12"
                                },
                                {
                                    "nev": "Szűcs Norbert",
                                    "mettol": "2017-02-13",
                                    "(No column name)": "2017-02-13"
                                },
                                {
                                    "nev": "Szirmai Renáta",
                                    "mettol": "2017-02-13",
                                    "(No column name)": "2017-02-13"
                                },
                                {
                                    "nev": "Barabás Pál",
                                    "mettol": "2017-02-13",
                                    "(No column name)": "2017-02-13"
                                },
                                {
                                    "nev": "Nagymihály Csongor",
                                    "mettol": "2017-02-13",
                                    "(No column name)": "2017-02-13"
                                },
                                {
                                    "nev": "Szirmai Renáta",
                                    "mettol": "2017-02-14",
                                    "(No column name)": "2017-02-13"
                                },
                                {
                                    "nev": "Simon Bernadett",
                                    "mettol": "2017-02-14",
                                    "(No column name)": "2017-02-14"
                                },
                                {
                                    "nev": "Antal Tamás",
                                    "mettol": "2017-02-14",
                                    "(No column name)": "2017-02-14"
                                },
                                {
                                    "nev": "Baróti Attila",
                                    "mettol": "2017-02-15",
                                    "(No column name)": "2017-02-14"
                                },
                                {
                                    "nev": "Csiger Bertalan",
                                    "mettol": "2017-02-16",
                                    "(No column name)": "2017-02-15"
                                },
                                {
                                    "nev": "Fényes Tamás",
                                    "mettol": "2017-02-16",
                                    "(No column name)": "2017-02-16"
                                },
                                {
                                    "nev": "Horváth Árpád",
                                    "mettol": "2017-02-16",
                                    "(No column name)": "2017-02-16"
                                },
                                {
                                    "nev": "Regős Annamária",
                                    "mettol": "2017-02-16",
                                    "(No column name)": "2017-02-16"
                                },
                                {
                                    "nev": "Berta Dávid",
                                    "mettol": "2017-02-16",
                                    "(No column name)": "2017-02-16"
                                },
                                {
                                    "nev": "Mile Norbert",
                                    "mettol": "2017-02-16",
                                    "(No column name)": "2017-02-16"
                                },
                                {
                                    "nev": "Szedlár Krisztina",
                                    "mettol": "2017-02-16",
                                    "(No column name)": "2017-02-16"
                                },
                                {
                                    "nev": "Kardos Renáta",
                                    "mettol": "2017-02-16",
                                    "(No column name)": "2017-02-16"
                                },
                                {
                                    "nev": "Hartyánszky Ágnes",
                                    "mettol": "2017-02-16",
                                    "(No column name)": "2017-02-16"
                                },
                                {
                                    "nev": "Iván Róbert",
                                    "mettol": "2017-02-17",
                                    "(No column name)": "2017-02-16"
                                },
                                {
                                    "nev": "Sobják Dávid",
                                    "mettol": "2017-02-17",
                                    "(No column name)": "2017-02-17"
                                },
                                {
                                    "nev": "Molnár Zsófi",
                                    "mettol": "2017-02-18",
                                    "(No column name)": "2017-02-17"
                                },
                                {
                                    "nev": "Nagy László",
                                    "mettol": "2017-02-18",
                                    "(No column name)": "2017-02-18"
                                },
                                {
                                    "nev": "Bucskó Róza",
                                    "mettol": "2017-02-18",
                                    "(No column name)": "2017-02-18"
                                },
                                {
                                    "nev": "Ötvös Árpád",
                                    "mettol": "2017-02-18",
                                    "(No column name)": "2017-02-18"
                                },
                                {
                                    "nev": "Hamvay-Kovács Anita",
                                    "mettol": "2017-02-19",
                                    "(No column name)": "2017-02-18"
                                },
                                {
                                    "nev": "Barabás Pál",
                                    "mettol": "2017-02-20",
                                    "(No column name)": "2017-02-19"
                                },
                                {
                                    "nev": "Hamvay-Kovács Anita",
                                    "mettol": "2017-02-20",
                                    "(No column name)": "2017-02-20"
                                },
                                {
                                    "nev": "Rácz Dániel",
                                    "mettol": "2017-02-20",
                                    "(No column name)": "2017-02-20"
                                },
                                {
                                    "nev": "Csiger Bertalan",
                                    "mettol": "2017-02-20",
                                    "(No column name)": "2017-02-20"
                                },
                                {
                                    "nev": "Nagy Gabriella",
                                    "mettol": "2017-02-21",
                                    "(No column name)": "2017-02-20"
                                },
                                {
                                    "nev": "Szalai Péter",
                                    "mettol": "2017-02-21",
                                    "(No column name)": "2017-02-21"
                                },
                                {
                                    "nev": "Kelemen Áron",
                                    "mettol": "2017-02-21",
                                    "(No column name)": "2017-02-21"
                                },
                                {
                                    "nev": "Opra Attila",
                                    "mettol": "2017-02-22",
                                    "(No column name)": "2017-02-21"
                                },
                                {
                                    "nev": "Tóth Anikó",
                                    "mettol": "2017-02-23",
                                    "(No column name)": "2017-02-22"
                                },
                                {
                                    "nev": "Bieniek Ádám",
                                    "mettol": "2017-02-23",
                                    "(No column name)": "2017-02-23"
                                },
                                {
                                    "nev": "Mohos Mónika",
                                    "mettol": "2017-02-23",
                                    "(No column name)": "2017-02-23"
                                },
                                {
                                    "nev": "Bárci Gusztáv",
                                    "mettol": "2017-02-23",
                                    "(No column name)": "2017-02-23"
                                },
                                {
                                    "nev": "Czérna Krisztián",
                                    "mettol": "2017-02-23",
                                    "(No column name)": "2017-02-23"
                                },
                                {
                                    "nev": "Kozma Péter",
                                    "mettol": "2017-02-23",
                                    "(No column name)": "2017-02-23"
                                },
                                {
                                    "nev": "Oroszi György",
                                    "mettol": "2017-02-24",
                                    "(No column name)": "2017-02-23"
                                },
                                {
                                    "nev": "Baráth Mária",
                                    "mettol": "2017-02-24",
                                    "(No column name)": "2017-02-24"
                                },
                                {
                                    "nev": "Simon Bernadett",
                                    "mettol": "2017-02-24",
                                    "(No column name)": "2017-02-24"
                                },
                                {
                                    "nev": "Gyuris József",
                                    "mettol": "2017-02-24",
                                    "(No column name)": "2017-02-24"
                                },
                                {
                                    "nev": "Horváth Katalin",
                                    "mettol": "2017-02-24",
                                    "(No column name)": "2017-02-24"
                                },
                                {
                                    "nev": "Vörös Dániel",
                                    "mettol": "2017-02-25",
                                    "(No column name)": "2017-02-24"
                                },
                                {
                                    "nev": "Sobják Dávid",
                                    "mettol": "2017-02-25",
                                    "(No column name)": "2017-02-25"
                                },
                                {
                                    "nev": "Jakab Áron",
                                    "mettol": "2017-02-26",
                                    "(No column name)": "2017-02-25"
                                },
                                {
                                    "nev": "Fülöp Eszter",
                                    "mettol": "2017-02-26",
                                    "(No column name)": "2017-02-26"
                                },
                                {
                                    "nev": "Szikszai Réka",
                                    "mettol": "2017-02-26",
                                    "(No column name)": "2017-02-26"
                                },
                                {
                                    "nev": "Szűcs Norbert",
                                    "mettol": "2017-02-26",
                                    "(No column name)": "2017-02-26"
                                },
                                {
                                    "nev": "Tóth Júlia",
                                    "mettol": "2017-02-27",
                                    "(No column name)": "2017-02-26"
                                },
                                {
                                    "nev": "Szűcs Balázs",
                                    "mettol": "2017-02-27",
                                    "(No column name)": "2017-02-27"
                                },
                                {
                                    "nev": "Kozma Péter",
                                    "mettol": "2017-02-28",
                                    "(No column name)": "2017-02-27"
                                },
                                {
                                    "nev": "Keszler Dániel",
                                    "mettol": "2017-03-01",
                                    "(No column name)": "2017-02-28"
                                },
                                {
                                    "nev": "Kardos Renáta",
                                    "mettol": "2017-03-01",
                                    "(No column name)": "2017-03-01"
                                },
                                {
                                    "nev": "Kalacsi Márton",
                                    "mettol": "2017-03-02",
                                    "(No column name)": "2017-03-01"
                                },
                                {
                                    "nev": "Mile Norbert",
                                    "mettol": "2017-03-03",
                                    "(No column name)": "2017-03-02"
                                },
                                {
                                    "nev": "Horváth Krisztina",
                                    "mettol": "2017-03-03",
                                    "(No column name)": "2017-03-03"
                                }
                            ]
                        },
                        "text/html": [
                            "<table>",
                            "<tr><th>nev</th><th>mettol</th><th>(No column name)</th><th>(No column name)</th></tr>",
                            "<tr><td>Fő Nándor</td><td>2016-04-06</td><td>3</td><td>NULL</td></tr>",
                            "<tr><td>Kelemen Áron</td><td>2016-04-06</td><td>2</td><td>2016-04-06</td></tr>",
                            "<tr><td>Foltényi Sebastián</td><td>2016-04-06</td><td>2</td><td>2016-04-06</td></tr>",
                            "<tr><td>Móra László</td><td>2016-04-06</td><td>2</td><td>2016-04-06</td></tr>",
                            "<tr><td>Berendi Péter</td><td>2016-04-06</td><td>1</td><td>2016-04-06</td></tr>",
                            "<tr><td>Rab Sebestyén</td><td>2016-04-07</td><td>4</td><td>2016-04-06</td></tr>",
                            "<tr><td>Kő Nikoletta</td><td>2016-04-08</td><td>2</td><td>2016-04-07</td></tr>",
                            "<tr><td>Poprádi Kristóf</td><td>2016-04-08</td><td>2</td><td>2016-04-08</td></tr>",
                            "<tr><td>Mogyródi Krisztián</td><td>2016-04-09</td><td>2</td><td>2016-04-08</td></tr>",
                            "<tr><td>Pivarcsi Anett</td><td>2016-04-10</td><td>1</td><td>2016-04-09</td></tr>",
                            "<tr><td>Gondos Katalin</td><td>2016-04-10</td><td>2</td><td>2016-04-10</td></tr>",
                            "<tr><td>Mile Norbert</td><td>2016-04-10</td><td>2</td><td>2016-04-10</td></tr>",
                            "<tr><td>Orbán Bernadett</td><td>2016-04-10</td><td>2</td><td>2016-04-10</td></tr>",
                            "<tr><td>Horváth Ágnes</td><td>2016-04-10</td><td>2</td><td>2016-04-10</td></tr>",
                            "<tr><td>Horváth Katalin</td><td>2016-04-10</td><td>2</td><td>2016-04-10</td></tr>",
                            "<tr><td>Keszler Dániel</td><td>2016-04-10</td><td>2</td><td>2016-04-10</td></tr>",
                            "<tr><td>Kovács Katalin</td><td>2016-04-10</td><td>2</td><td>2016-04-10</td></tr>",
                            "<tr><td>Rácz Dániel</td><td>2016-04-10</td><td>4</td><td>2016-04-10</td></tr>",
                            "<tr><td>Jakab Áron</td><td>2016-04-11</td><td>3</td><td>2016-04-10</td></tr>",
                            "<tr><td>Bíró Péter</td><td>2016-04-12</td><td>3</td><td>2016-04-11</td></tr>",
                            "<tr><td>Pivarcsi Anett</td><td>2016-04-13</td><td>3</td><td>2016-04-12</td></tr>",
                            "<tr><td>Vajda Zsuzsa</td><td>2016-04-14</td><td>2</td><td>2016-04-13</td></tr>",
                            "<tr><td>Pulai Zsolt</td><td>2016-04-14</td><td>2</td><td>2016-04-14</td></tr>",
                            "<tr><td>Pivarcsi Anett</td><td>2016-04-15</td><td>3</td><td>2016-04-14</td></tr>",
                            "<tr><td>Szűcs Balázs</td><td>2016-04-16</td><td>2</td><td>2016-04-15</td></tr>",
                            "<tr><td>Vizi István</td><td>2016-04-16</td><td>3</td><td>2016-04-16</td></tr>",
                            "<tr><td>Orbán Bernadett</td><td>2016-04-17</td><td>2</td><td>2016-04-16</td></tr>",
                            "<tr><td>Palágyi Polla</td><td>2016-04-17</td><td>3</td><td>2016-04-17</td></tr>",
                            "<tr><td>Szekendi Beatrix</td><td>2016-04-18</td><td>1</td><td>2016-04-17</td></tr>",
                            "<tr><td>Hegedűs Norbert</td><td>2016-04-19</td><td>1</td><td>2016-04-18</td></tr>",
                            "<tr><td>Kispál Márk</td><td>2016-04-19</td><td>4</td><td>2016-04-19</td></tr>",
                            "<tr><td>Gondos Miklós</td><td>2016-04-19</td><td>3</td><td>2016-04-19</td></tr>",
                            "<tr><td>Simon Anikó</td><td>2016-04-19</td><td>2</td><td>2016-04-19</td></tr>",
                            "<tr><td>Bagi Beáta</td><td>2016-04-20</td><td>2</td><td>2016-04-19</td></tr>",
                            "<tr><td>Tóth Júlia</td><td>2016-04-21</td><td>2</td><td>2016-04-20</td></tr>",
                            "<tr><td>Nagy Gabriella</td><td>2016-04-21</td><td>3</td><td>2016-04-21</td></tr>",
                            "<tr><td>Rácz Dániel</td><td>2016-04-22</td><td>2</td><td>2016-04-21</td></tr>",
                            "<tr><td>Horváth Bálint</td><td>2016-04-22</td><td>2</td><td>2016-04-22</td></tr>",
                            "<tr><td>Szalai Szilárd</td><td>2016-04-23</td><td>3</td><td>2016-04-22</td></tr>",
                            "<tr><td>Gyárfás Krisztina</td><td>2016-04-23</td><td>2</td><td>2016-04-23</td></tr>",
                            "<tr><td>Józsa Zsolt</td><td>2016-04-24</td><td>4</td><td>2016-04-23</td></tr>",
                            "<tr><td>Vizi István</td><td>2016-04-24</td><td>3</td><td>2016-04-24</td></tr>",
                            "<tr><td>Erdei András</td><td>2016-04-24</td><td>1</td><td>2016-04-24</td></tr>",
                            "<tr><td>Gondos Katalin</td><td>2016-04-25</td><td>1</td><td>2016-04-24</td></tr>",
                            "<tr><td>Rab Sebestyén</td><td>2016-04-26</td><td>4</td><td>2016-04-25</td></tr>",
                            "<tr><td>Telek Gábor</td><td>2016-04-26</td><td>3</td><td>2016-04-26</td></tr>",
                            "<tr><td>Móra László</td><td>2016-04-27</td><td>2</td><td>2016-04-26</td></tr>",
                            "<tr><td>Kalacsi Márton</td><td>2016-04-27</td><td>3</td><td>2016-04-27</td></tr>",
                            "<tr><td>Horváth Ágnes</td><td>2016-04-27</td><td>4</td><td>2016-04-27</td></tr>",
                            "<tr><td>Pivarcsi Anett</td><td>2016-04-28</td><td>3</td><td>2016-04-27</td></tr>",
                            "<tr><td>Bori Krisztina</td><td>2016-04-28</td><td>2</td><td>2016-04-28</td></tr>",
                            "<tr><td>Mohos Mónika</td><td>2016-04-29</td><td>2</td><td>2016-04-28</td></tr>",
                            "<tr><td>Urbán Viktoria</td><td>2016-04-30</td><td>1</td><td>2016-04-29</td></tr>",
                            "<tr><td>Vígh András</td><td>2016-05-01</td><td>2</td><td>2016-04-30</td></tr>",
                            "<tr><td>Kovács Bernadett</td><td>2016-05-01</td><td>2</td><td>2016-05-01</td></tr>",
                            "<tr><td>Nagymihály Csongor</td><td>2016-05-01</td><td>2</td><td>2016-05-01</td></tr>",
                            "<tr><td>Viktor Éva</td><td>2016-05-01</td><td>3</td><td>2016-05-01</td></tr>",
                            "<tr><td>Tóth Zoltán</td><td>2016-05-01</td><td>3</td><td>2016-05-01</td></tr>",
                            "<tr><td>Gyuris József</td><td>2016-05-02</td><td>2</td><td>2016-05-01</td></tr>",
                            "<tr><td>Boros Vivien</td><td>2016-05-02</td><td>3</td><td>2016-05-02</td></tr>",
                            "<tr><td>Fényes Tamás</td><td>2016-05-03</td><td>2</td><td>2016-05-02</td></tr>",
                            "<tr><td>Szirmai Renáta</td><td>2016-05-04</td><td>2</td><td>2016-05-03</td></tr>",
                            "<tr><td>Kalacsi Márton</td><td>2016-05-05</td><td>1</td><td>2016-05-04</td></tr>",
                            "<tr><td>Bárci Gusztáv</td><td>2016-05-06</td><td>2</td><td>2016-05-05</td></tr>",
                            "<tr><td>Bozsik Balázs</td><td>2016-05-07</td><td>2</td><td>2016-05-06</td></tr>",
                            "<tr><td>Nagymihály Csongor</td><td>2016-05-08</td><td>3</td><td>2016-05-07</td></tr>",
                            "<tr><td>Maródi Andrea</td><td>2016-05-08</td><td>4</td><td>2016-05-08</td></tr>",
                            "<tr><td>Orosz Ferenc</td><td>2016-05-08</td><td>2</td><td>2016-05-08</td></tr>",
                            "<tr><td>Győrffy Bence</td><td>2016-05-08</td><td>2</td><td>2016-05-08</td></tr>",
                            "<tr><td>Lukács Kornél</td><td>2016-05-08</td><td>3</td><td>2016-05-08</td></tr>",
                            "<tr><td>Lengyel Ágnes</td><td>2016-05-09</td><td>3</td><td>2016-05-08</td></tr>",
                            "<tr><td>Rácz Dániel</td><td>2016-05-09</td><td>3</td><td>2016-05-09</td></tr>",
                            "<tr><td>Józsa Zsolt</td><td>2016-05-09</td><td>2</td><td>2016-05-09</td></tr>",
                            "<tr><td>Giliga János</td><td>2016-05-09</td><td>1</td><td>2016-05-09</td></tr>",
                            "<tr><td>Hegedűs Norbert</td><td>2016-05-09</td><td>2</td><td>2016-05-09</td></tr>",
                            "<tr><td>Kovács Katalin</td><td>2016-05-09</td><td>3</td><td>2016-05-09</td></tr>",
                            "<tr><td>Kő Nikoletta</td><td>2016-05-09</td><td>2</td><td>2016-05-09</td></tr>",
                            "<tr><td>Keszler Dániel</td><td>2016-05-10</td><td>4</td><td>2016-05-09</td></tr>",
                            "<tr><td>Szilágyi Mátyás</td><td>2016-05-10</td><td>2</td><td>2016-05-10</td></tr>",
                            "<tr><td>Szirmai Renáta</td><td>2016-05-11</td><td>2</td><td>2016-05-10</td></tr>",
                            "<tr><td>Tóth Júlia</td><td>2016-05-12</td><td>1</td><td>2016-05-11</td></tr>",
                            "<tr><td>Barna Zoltán</td><td>2016-05-12</td><td>3</td><td>2016-05-12</td></tr>",
                            "<tr><td>Farkas Sándor</td><td>2016-05-12</td><td>2</td><td>2016-05-12</td></tr>",
                            "<tr><td>Barna Zoltán</td><td>2016-05-13</td><td>3</td><td>2016-05-12</td></tr>",
                            "<tr><td>Baráth Mária</td><td>2016-05-13</td><td>2</td><td>2016-05-13</td></tr>",
                            "<tr><td>Komjáti András</td><td>2016-05-14</td><td>2</td><td>2016-05-13</td></tr>",
                            "<tr><td>Tari Szilvia</td><td>2016-05-14</td><td>2</td><td>2016-05-14</td></tr>",
                            "<tr><td>Kelemen Áron</td><td>2016-05-14</td><td>4</td><td>2016-05-14</td></tr>",
                            "<tr><td>Bajusz Bence</td><td>2016-05-14</td><td>3</td><td>2016-05-14</td></tr>",
                            "<tr><td>Patay Róbert</td><td>2016-05-15</td><td>2</td><td>2016-05-14</td></tr>",
                            "<tr><td>Bori Krisztina</td><td>2016-05-16</td><td>1</td><td>2016-05-15</td></tr>",
                            "<tr><td>Antal Tamás</td><td>2016-05-17</td><td>2</td><td>2016-05-16</td></tr>",
                            "<tr><td>Barta Zsuzsanna</td><td>2016-05-17</td><td>2</td><td>2016-05-17</td></tr>",
                            "<tr><td>Dunai Aladár</td><td>2016-05-17</td><td>1</td><td>2016-05-17</td></tr>",
                            "<tr><td>Baráth Mária</td><td>2016-05-18</td><td>1</td><td>2016-05-17</td></tr>",
                            "<tr><td>Ambrus Dávid</td><td>2016-05-18</td><td>2</td><td>2016-05-18</td></tr>",
                            "<tr><td>Csiger Bertalan</td><td>2016-05-18</td><td>2</td><td>2016-05-18</td></tr>",
                            "<tr><td>Bíró Ákos</td><td>2016-05-18</td><td>2</td><td>2016-05-18</td></tr>",
                            "<tr><td>Horváth Krisztina</td><td>2016-05-19</td><td>2</td><td>2016-05-18</td></tr>",
                            "<tr><td>Gulyás Attila</td><td>2016-05-20</td><td>1</td><td>2016-05-19</td></tr>",
                            "<tr><td>Bagóczki Alexandra</td><td>2016-05-21</td><td>3</td><td>2016-05-20</td></tr>",
                            "<tr><td>Szedlár Krisztina</td><td>2016-05-21</td><td>2</td><td>2016-05-21</td></tr>",
                            "<tr><td>Opra Attila</td><td>2016-05-21</td><td>3</td><td>2016-05-21</td></tr>",
                            "<tr><td>Horváth Katalin</td><td>2016-05-21</td><td>1</td><td>2016-05-21</td></tr>",
                            "<tr><td>Komjáti András</td><td>2016-05-21</td><td>4</td><td>2016-05-21</td></tr>",
                            "<tr><td>Tatár Nikoletta</td><td>2016-05-22</td><td>4</td><td>2016-05-21</td></tr>",
                            "<tr><td>Botka Mátyás</td><td>2016-07-13</td><td>2</td><td>2016-05-22</td></tr>",
                            "<tr><td>Zatykó Katalin</td><td>2016-07-13</td><td>2</td><td>2016-07-13</td></tr>",
                            "<tr><td>Lengyel Ágnes</td><td>2016-07-13</td><td>3</td><td>2016-07-13</td></tr>",
                            "<tr><td>Frank Fruzsina</td><td>2016-07-13</td><td>3</td><td>2016-07-13</td></tr>",
                            "<tr><td>Tóth Zoltán</td><td>2016-07-14</td><td>3</td><td>2016-07-13</td></tr>",
                            "<tr><td>Turcsik Tünde</td><td>2016-07-14</td><td>1</td><td>2016-07-14</td></tr>",
                            "<tr><td>Horváth Árpád</td><td>2016-07-14</td><td>2</td><td>2016-07-14</td></tr>",
                            "<tr><td>Kozma Péter</td><td>2016-07-14</td><td>3</td><td>2016-07-14</td></tr>",
                            "<tr><td>Bittmann Edit</td><td>2016-07-14</td><td>3</td><td>2016-07-14</td></tr>",
                            "<tr><td>Bíró Ákos</td><td>2016-07-14</td><td>2</td><td>2016-07-14</td></tr>",
                            "<tr><td>Vígh András</td><td>2016-07-15</td><td>3</td><td>2016-07-14</td></tr>",
                            "<tr><td>Farkas Sára</td><td>2016-07-15</td><td>3</td><td>2016-07-15</td></tr>",
                            "<tr><td>Bíró Ákos</td><td>2016-07-16</td><td>2</td><td>2016-07-15</td></tr>",
                            "<tr><td>Vajda József</td><td>2016-07-16</td><td>3</td><td>2016-07-16</td></tr>",
                            "<tr><td>Bakódy Balázs</td><td>2016-07-17</td><td>2</td><td>2016-07-16</td></tr>",
                            "<tr><td>Simon Anikó</td><td>2016-07-17</td><td>3</td><td>2016-07-17</td></tr>",
                            "<tr><td>Foltényi Sebastián</td><td>2016-07-17</td><td>2</td><td>2016-07-17</td></tr>",
                            "<tr><td>Ambrus Dávid</td><td>2016-07-18</td><td>2</td><td>2016-07-17</td></tr>",
                            "<tr><td>Kiss Lajos</td><td>2016-07-18</td><td>2</td><td>2016-07-18</td></tr>",
                            "<tr><td>Oroszi György</td><td>2016-07-18</td><td>2</td><td>2016-07-18</td></tr>",
                            "<tr><td>Regős Annamária</td><td>2016-07-18</td><td>1</td><td>2016-07-18</td></tr>",
                            "<tr><td>Józsa Zsolt</td><td>2016-07-18</td><td>2</td><td>2016-07-18</td></tr>",
                            "<tr><td>Karasz Sándor</td><td>2016-07-18</td><td>2</td><td>2016-07-18</td></tr>",
                            "<tr><td>Balla Miklós</td><td>2016-07-18</td><td>2</td><td>2016-07-18</td></tr>",
                            "<tr><td>Érsek Eszter</td><td>2016-07-19</td><td>2</td><td>2016-07-18</td></tr>",
                            "<tr><td>Vizi István</td><td>2016-07-19</td><td>1</td><td>2016-07-19</td></tr>",
                            "<tr><td>Tömböly Dénes</td><td>2016-07-19</td><td>2</td><td>2016-07-19</td></tr>",
                            "<tr><td>Szűcs Balázs</td><td>2016-07-20</td><td>2</td><td>2016-07-19</td></tr>",
                            "<tr><td>Szabó Julianna</td><td>2016-07-20</td><td>2</td><td>2016-07-20</td></tr>",
                            "<tr><td>Tóth András</td><td>2016-07-20</td><td>2</td><td>2016-07-20</td></tr>",
                            "<tr><td>Berendi Péter</td><td>2016-07-20</td><td>2</td><td>2016-07-20</td></tr>",
                            "<tr><td>Tankó Veronika</td><td>2016-07-20</td><td>3</td><td>2016-07-20</td></tr>",
                            "<tr><td>Nagymihály Lajos</td><td>2016-07-20</td><td>3</td><td>2016-07-20</td></tr>",
                            "<tr><td>Molnár András</td><td>2016-07-20</td><td>1</td><td>2016-07-20</td></tr>",
                            "<tr><td>Kazy Tihamér</td><td>2016-07-20</td><td>3</td><td>2016-07-20</td></tr>",
                            "<tr><td>Tóth Júlia</td><td>2016-07-20</td><td>2</td><td>2016-07-20</td></tr>",
                            "<tr><td>Pintér Zoltán</td><td>2016-07-20</td><td>3</td><td>2016-07-20</td></tr>",
                            "<tr><td>Vígh András</td><td>2016-07-21</td><td>2</td><td>2016-07-20</td></tr>",
                            "<tr><td>Vukasinovity Bálint</td><td>2016-07-21</td><td>1</td><td>2016-07-21</td></tr>",
                            "<tr><td>Bozsik Balázs</td><td>2016-07-22</td><td>4</td><td>2016-07-21</td></tr>",
                            "<tr><td>Böröcz Anikó</td><td>2016-07-22</td><td>3</td><td>2016-07-22</td></tr>",
                            "<tr><td>Bíró Ákos</td><td>2016-07-22</td><td>1</td><td>2016-07-22</td></tr>",
                            "<tr><td>Kuruc Emese</td><td>2016-07-22</td><td>2</td><td>2016-07-22</td></tr>",
                            "<tr><td>Szilágyi Mátyás</td><td>2016-07-23</td><td>3</td><td>2016-07-22</td></tr>",
                            "<tr><td>Mohos Mónika</td><td>2016-07-23</td><td>1</td><td>2016-07-23</td></tr>",
                            "<tr><td>Feró Valentin</td><td>2016-07-24</td><td>1</td><td>2016-07-23</td></tr>",
                            "<tr><td>Nagy Gabriella</td><td>2016-07-24</td><td>2</td><td>2016-07-24</td></tr>",
                            "<tr><td>Farkas Sára</td><td>2016-07-24</td><td>3</td><td>2016-07-24</td></tr>",
                            "<tr><td>Pusztai Zsuzsanna</td><td>2016-07-24</td><td>3</td><td>2016-07-24</td></tr>",
                            "<tr><td>Győrffy Bence</td><td>2016-07-24</td><td>2</td><td>2016-07-24</td></tr>",
                            "<tr><td>Győrffy Bence</td><td>2016-07-25</td><td>3</td><td>2016-07-24</td></tr>",
                            "<tr><td>Tari Szilvia</td><td>2016-07-25</td><td>2</td><td>2016-07-25</td></tr>",
                            "<tr><td>Nagymihály Lajos</td><td>2016-07-26</td><td>3</td><td>2016-07-25</td></tr>",
                            "<tr><td>Molnár Bálint</td><td>2016-07-26</td><td>2</td><td>2016-07-26</td></tr>",
                            "<tr><td>Szalai Szilárd</td><td>2016-07-27</td><td>5</td><td>2016-07-26</td></tr>",
                            "<tr><td>Farkas Béla</td><td>2016-07-27</td><td>3</td><td>2016-07-27</td></tr>",
                            "<tr><td>Tatár Nikoletta</td><td>2016-07-27</td><td>4</td><td>2016-07-27</td></tr>",
                            "<tr><td>Szikszai Réka</td><td>2016-07-27</td><td>2</td><td>2016-07-27</td></tr>",
                            "<tr><td>Kiss Andrea</td><td>2016-07-27</td><td>2</td><td>2016-07-27</td></tr>",
                            "<tr><td>Zatykó Katalin</td><td>2016-07-27</td><td>2</td><td>2016-07-27</td></tr>",
                            "<tr><td>Hegedűs Norbert</td><td>2016-07-27</td><td>2</td><td>2016-07-27</td></tr>",
                            "<tr><td>Tornyos Andrea</td><td>2016-07-27</td><td>2</td><td>2016-07-27</td></tr>",
                            "<tr><td>Szalai Péter</td><td>2016-07-27</td><td>4</td><td>2016-07-27</td></tr>",
                            "<tr><td>Bagóczki Alexandra</td><td>2016-07-27</td><td>2</td><td>2016-07-27</td></tr>",
                            "<tr><td>Bakódy Balázs</td><td>2016-07-27</td><td>4</td><td>2016-07-27</td></tr>",
                            "<tr><td>Hídasi Judit</td><td>2016-07-28</td><td>2</td><td>2016-07-27</td></tr>",
                            "<tr><td>Köves Gábor</td><td>2016-07-28</td><td>2</td><td>2016-07-28</td></tr>",
                            "<tr><td>Komjáti András</td><td>2016-07-28</td><td>3</td><td>2016-07-28</td></tr>",
                            "<tr><td>Czérna Krisztián</td><td>2016-07-28</td><td>2</td><td>2016-07-28</td></tr>",
                            "<tr><td>Horváth Katalin</td><td>2016-07-28</td><td>1</td><td>2016-07-28</td></tr>",
                            "<tr><td>Oroszi György</td><td>2016-07-28</td><td>3</td><td>2016-07-28</td></tr>",
                            "<tr><td>Miklós Szabolcs</td><td>2016-07-28</td><td>2</td><td>2016-07-28</td></tr>",
                            "<tr><td>Kovács Ágnes</td><td>2016-07-29</td><td>3</td><td>2016-07-28</td></tr>",
                            "<tr><td>Farkas Béla</td><td>2016-07-29</td><td>2</td><td>2016-07-29</td></tr>",
                            "<tr><td>Lengyel Ágnes</td><td>2016-07-30</td><td>3</td><td>2016-07-29</td></tr>",
                            "<tr><td>Pásztor Róbert</td><td>2016-07-30</td><td>2</td><td>2016-07-30</td></tr>",
                            "<tr><td>Varsányi Zsuzsa</td><td>2016-07-30</td><td>2</td><td>2016-07-30</td></tr>",
                            "<tr><td>Foltényi Sebastián</td><td>2016-07-30</td><td>4</td><td>2016-07-30</td></tr>",
                            "<tr><td>Bosnyák Ilona</td><td>2016-07-31</td><td>2</td><td>2016-07-30</td></tr>",
                            "<tr><td>Pulai Zsolt</td><td>2016-07-31</td><td>2</td><td>2016-07-31</td></tr>",
                            "<tr><td>Kiss Andrea</td><td>2016-08-01</td><td>2</td><td>2016-07-31</td></tr>",
                            "<tr><td>Bajusz Bence</td><td>2016-08-01</td><td>2</td><td>2016-08-01</td></tr>",
                            "<tr><td>Tömböly Dénes</td><td>2016-08-01</td><td>3</td><td>2016-08-01</td></tr>",
                            "<tr><td>Czérna Krisztián</td><td>2016-08-01</td><td>3</td><td>2016-08-01</td></tr>",
                            "<tr><td>Szikszai Réka</td><td>2016-08-02</td><td>4</td><td>2016-08-01</td></tr>",
                            "<tr><td>Mogyródi Krisztián</td><td>2016-08-02</td><td>4</td><td>2016-08-02</td></tr>",
                            "<tr><td>Bittmann Edit</td><td>2016-08-03</td><td>4</td><td>2016-08-02</td></tr>",
                            "<tr><td>Zatykó Katalin</td><td>2016-08-03</td><td>2</td><td>2016-08-03</td></tr>",
                            "<tr><td>Molnár Bálint</td><td>2016-08-03</td><td>2</td><td>2016-08-03</td></tr>",
                            "<tr><td>Urbán Viktoria</td><td>2016-08-03</td><td>2</td><td>2016-08-03</td></tr>",
                            "<tr><td>Bosnyák Ilona</td><td>2016-08-04</td><td>3</td><td>2016-08-03</td></tr>",
                            "<tr><td>Hartyánszky Ágnes</td><td>2016-08-04</td><td>1</td><td>2016-08-04</td></tr>",
                            "<tr><td>Bárci Gusztáv</td><td>2016-08-05</td><td>3</td><td>2016-08-04</td></tr>",
                            "<tr><td>Ambrus Dávid</td><td>2016-08-05</td><td>1</td><td>2016-08-05</td></tr>",
                            "<tr><td>Kelemen Áron</td><td>2016-08-05</td><td>4</td><td>2016-08-05</td></tr>",
                            "<tr><td>Bíró Péter</td><td>2016-08-06</td><td>2</td><td>2016-08-05</td></tr>",
                            "<tr><td>Endresz Bálint</td><td>2016-08-06</td><td>2</td><td>2016-08-06</td></tr>",
                            "<tr><td>Vörös Dániel</td><td>2016-08-06</td><td>2</td><td>2016-08-06</td></tr>",
                            "<tr><td>Dusha Tímea</td><td>2016-08-07</td><td>3</td><td>2016-08-06</td></tr>",
                            "<tr><td>Gyárfás Krisztina</td><td>2016-08-08</td><td>3</td><td>2016-08-07</td></tr>",
                            "<tr><td>Kispál Márk</td><td>2016-08-09</td><td>3</td><td>2016-08-08</td></tr>",
                            "<tr><td>Kuruc Emese</td><td>2016-08-09</td><td>2</td><td>2016-08-09</td></tr>",
                            "<tr><td>Béres Norbert</td><td>2016-08-10</td><td>2</td><td>2016-08-09</td></tr>",
                            "<tr><td>Baráth Mária</td><td>2016-08-11</td><td>3</td><td>2016-08-10</td></tr>",
                            "<tr><td>Kerényi Beatrix</td><td>2016-08-12</td><td>4</td><td>2016-08-11</td></tr>",
                            "<tr><td>Kalacsi Márton</td><td>2016-08-12</td><td>2</td><td>2016-08-12</td></tr>",
                            "<tr><td>Miklós Tamara</td><td>2016-08-12</td><td>3</td><td>2016-08-12</td></tr>",
                            "<tr><td>Móricz Árpád</td><td>2016-08-12</td><td>2</td><td>2016-08-12</td></tr>",
                            "<tr><td>Molnár Eszter</td><td>2016-08-12</td><td>3</td><td>2016-08-12</td></tr>",
                            "<tr><td>Bittmann Edit</td><td>2016-08-12</td><td>2</td><td>2016-08-12</td></tr>",
                            "<tr><td>Boros Vivien</td><td>2016-08-13</td><td>2</td><td>2016-08-12</td></tr>",
                            "<tr><td>Kő Nikoletta</td><td>2016-08-13</td><td>3</td><td>2016-08-13</td></tr>",
                            "<tr><td>Barabás Pál</td><td>2016-08-14</td><td>3</td><td>2016-08-13</td></tr>",
                            "<tr><td>Palágyi Polla</td><td>2016-08-14</td><td>2</td><td>2016-08-14</td></tr>",
                            "<tr><td>Móra László</td><td>2016-08-14</td><td>3</td><td>2016-08-14</td></tr>",
                            "<tr><td>Barna Zoltán</td><td>2016-08-15</td><td>1</td><td>2016-08-14</td></tr>",
                            "<tr><td>Pivarcsi Anett</td><td>2016-08-15</td><td>2</td><td>2016-08-15</td></tr>",
                            "<tr><td>Berendi Péter</td><td>2016-08-16</td><td>1</td><td>2016-08-15</td></tr>",
                            "<tr><td>Hegedűs Norbert</td><td>2016-08-16</td><td>1</td><td>2016-08-16</td></tr>",
                            "<tr><td>Tömböly Dénes</td><td>2016-08-16</td><td>2</td><td>2016-08-16</td></tr>",
                            "<tr><td>Barna Zoltán</td><td>2016-08-16</td><td>2</td><td>2016-08-16</td></tr>",
                            "<tr><td>Sarodi Dóra</td><td>2016-08-16</td><td>4</td><td>2016-08-16</td></tr>",
                            "<tr><td>Erdei András</td><td>2016-08-16</td><td>2</td><td>2016-08-16</td></tr>",
                            "<tr><td>Czérna Krisztián</td><td>2016-08-16</td><td>1</td><td>2016-08-16</td></tr>",
                            "<tr><td>Nyíri Georgij</td><td>2016-08-16</td><td>4</td><td>2016-08-16</td></tr>",
                            "<tr><td>Giliga János</td><td>2016-08-16</td><td>3</td><td>2016-08-16</td></tr>",
                            "<tr><td>Tankó Veronika</td><td>2016-08-16</td><td>1</td><td>2016-08-16</td></tr>",
                            "<tr><td>Iván Róbert</td><td>2016-08-16</td><td>2</td><td>2016-08-16</td></tr>",
                            "<tr><td>Palágyi Polla</td><td>2016-08-16</td><td>4</td><td>2016-08-16</td></tr>",
                            "<tr><td>Pivarcsi Anett</td><td>2016-08-17</td><td>3</td><td>2016-08-16</td></tr>",
                            "<tr><td>Koza Máté</td><td>2016-08-17</td><td>4</td><td>2016-08-17</td></tr>",
                            "<tr><td>Kornseé Gyöngyi</td><td>2016-08-17</td><td>3</td><td>2016-08-17</td></tr>",
                            "<tr><td>Komjáti András</td><td>2016-08-17</td><td>3</td><td>2016-08-17</td></tr>",
                            "<tr><td>Baróti Attila</td><td>2016-08-18</td><td>4</td><td>2016-08-17</td></tr>",
                            "<tr><td>Kazy Tihamér</td><td>2016-08-18</td><td>3</td><td>2016-08-18</td></tr>",
                            "<tr><td>Komjáti András</td><td>2016-08-19</td><td>1</td><td>2016-08-18</td></tr>",
                            "<tr><td>Karasz Sándor</td><td>2016-08-20</td><td>2</td><td>2016-08-19</td></tr>",
                            "<tr><td>Ambrus Dávid</td><td>2016-08-20</td><td>3</td><td>2016-08-20</td></tr>",
                            "<tr><td>Patay Róbert</td><td>2016-08-20</td><td>2</td><td>2016-08-20</td></tr>",
                            "<tr><td>Kiss Ádám</td><td>2016-08-20</td><td>1</td><td>2016-08-20</td></tr>",
                            "<tr><td>Tömböly Dénes</td><td>2016-08-20</td><td>3</td><td>2016-08-20</td></tr>",
                            "<tr><td>Szűcs Balázs</td><td>2016-08-21</td><td>3</td><td>2016-08-20</td></tr>",
                            "<tr><td>Papp Imre</td><td>2016-08-21</td><td>2</td><td>2016-08-21</td></tr>",
                            "<tr><td>Ambrus Dávid</td><td>2016-08-22</td><td>3</td><td>2016-08-21</td></tr>",
                            "<tr><td>Iván Róbert</td><td>2016-08-23</td><td>2</td><td>2016-08-22</td></tr>",
                            "<tr><td>Kiss Andrea</td><td>2016-08-23</td><td>3</td><td>2016-08-23</td></tr>",
                            "<tr><td>Papp Imre</td><td>2016-08-23</td><td>3</td><td>2016-08-23</td></tr>",
                            "<tr><td>Ötvös Árpád</td><td>2016-08-23</td><td>2</td><td>2016-08-23</td></tr>",
                            "<tr><td>Kovács Bernadett</td><td>2016-08-23</td><td>2</td><td>2016-08-23</td></tr>",
                            "<tr><td>Gyuris József</td><td>2016-08-24</td><td>3</td><td>2016-08-23</td></tr>",
                            "<tr><td>Gondos Katalin</td><td>2016-08-24</td><td>3</td><td>2016-08-24</td></tr>",
                            "<tr><td>Bíró Péter</td><td>2016-08-24</td><td>3</td><td>2016-08-24</td></tr>",
                            "<tr><td>Bakódy Balázs</td><td>2016-08-24</td><td>3</td><td>2016-08-24</td></tr>",
                            "<tr><td>Antal Tamás</td><td>2016-08-24</td><td>3</td><td>2016-08-24</td></tr>",
                            "<tr><td>Nádudvari Henrik</td><td>2016-08-24</td><td>1</td><td>2016-08-24</td></tr>",
                            "<tr><td>Kovács Katalin</td><td>2016-08-24</td><td>2</td><td>2016-08-24</td></tr>",
                            "<tr><td>Harangozó János</td><td>2016-08-24</td><td>3</td><td>2016-08-24</td></tr>",
                            "<tr><td>Horváth Krisztina</td><td>2016-08-24</td><td>3</td><td>2016-08-24</td></tr>",
                            "<tr><td>Fodor Zoltán</td><td>2016-08-24</td><td>2</td><td>2016-08-24</td></tr>",
                            "<tr><td>Bagi Beáta</td><td>2016-08-25</td><td>3</td><td>2016-08-24</td></tr>",
                            "<tr><td>Kovács Bernadett</td><td>2016-08-25</td><td>3</td><td>2016-08-25</td></tr>",
                            "<tr><td>Sarodi Dóra</td><td>2016-08-25</td><td>3</td><td>2016-08-25</td></tr>",
                            "<tr><td>Kiss Andrea</td><td>2016-08-26</td><td>2</td><td>2016-08-25</td></tr>",
                            "<tr><td>Simon Anikó</td><td>2016-08-26</td><td>2</td><td>2016-08-26</td></tr>",
                            "<tr><td>Frank Fruzsina</td><td>2016-08-27</td><td>4</td><td>2016-08-26</td></tr>",
                            "<tr><td>Bieniek Ádám</td><td>2016-08-28</td><td>3</td><td>2016-08-27</td></tr>",
                            "<tr><td>Szalai Szilárd</td><td>2016-08-28</td><td>4</td><td>2016-08-28</td></tr>",
                            "<tr><td>Nyíri Georgij</td><td>2016-08-28</td><td>2</td><td>2016-08-28</td></tr>",
                            "<tr><td>Székely Brigitta</td><td>2016-08-28</td><td>3</td><td>2016-08-28</td></tr>",
                            "<tr><td>Pusztai Zsuzsanna</td><td>2016-08-28</td><td>2</td><td>2016-08-28</td></tr>",
                            "<tr><td>Czérna Krisztián</td><td>2016-08-29</td><td>1</td><td>2016-08-28</td></tr>",
                            "<tr><td>Andor Ibolya</td><td>2016-08-29</td><td>5</td><td>2016-08-29</td></tr>",
                            "<tr><td>Papp Imre</td><td>2016-08-29</td><td>2</td><td>2016-08-29</td></tr>",
                            "<tr><td>Vígh András</td><td>2016-08-29</td><td>3</td><td>2016-08-29</td></tr>",
                            "<tr><td>Farkas Béla</td><td>2016-08-29</td><td>2</td><td>2016-08-29</td></tr>",
                            "<tr><td>Juhász Mihály</td><td>2016-08-29</td><td>1</td><td>2016-08-29</td></tr>",
                            "<tr><td>Giliga János</td><td>2016-08-30</td><td>3</td><td>2016-08-29</td></tr>",
                            "<tr><td>Telek Gábor</td><td>2016-08-31</td><td>4</td><td>2016-08-30</td></tr>",
                            "<tr><td>Viktor Éva</td><td>2016-08-31</td><td>2</td><td>2016-08-31</td></tr>",
                            "<tr><td>Boros Vivien</td><td>2016-09-01</td><td>2</td><td>2016-08-31</td></tr>",
                            "<tr><td>Köves Gábor</td><td>2016-09-02</td><td>3</td><td>2016-09-01</td></tr>",
                            "<tr><td>Perlinger Éva</td><td>2016-09-02</td><td>1</td><td>2016-09-02</td></tr>",
                            "<tr><td>Baráth Mária</td><td>2016-09-02</td><td>1</td><td>2016-09-02</td></tr>",
                            "<tr><td>Győrffy Bence</td><td>2016-09-03</td><td>3</td><td>2016-09-02</td></tr>",
                            "<tr><td>Tóth Roland</td><td>2016-09-04</td><td>2</td><td>2016-09-03</td></tr>",
                            "<tr><td>Turcsik Tünde</td><td>2016-09-05</td><td>2</td><td>2016-09-04</td></tr>",
                            "<tr><td>Rácz Rajmond</td><td>2016-09-05</td><td>3</td><td>2016-09-05</td></tr>",
                            "<tr><td>Szűcs Balázs</td><td>2016-05-22</td><td>3</td><td>2016-09-05</td></tr>",
                            "<tr><td>Gyuris József</td><td>2016-05-23</td><td>1</td><td>2016-05-22</td></tr>",
                            "<tr><td>Horváth Nikolett</td><td>2016-05-24</td><td>2</td><td>2016-05-23</td></tr>",
                            "<tr><td>Gyárfás Krisztina</td><td>2016-05-24</td><td>1</td><td>2016-05-24</td></tr>",
                            "<tr><td>Simon Anikó</td><td>2016-05-24</td><td>3</td><td>2016-05-24</td></tr>",
                            "<tr><td>Feró Valentin</td><td>2016-05-24</td><td>4</td><td>2016-05-24</td></tr>",
                            "<tr><td>Lengyel Ágnes</td><td>2016-05-25</td><td>1</td><td>2016-05-24</td></tr>",
                            "<tr><td>Farkas Sándor</td><td>2016-05-25</td><td>1</td><td>2016-05-25</td></tr>",
                            "<tr><td>Keszler Dániel</td><td>2016-05-26</td><td>3</td><td>2016-05-25</td></tr>",
                            "<tr><td>Neizer Andrea</td><td>2016-05-27</td><td>1</td><td>2016-05-26</td></tr>",
                            "<tr><td>Oroszi György</td><td>2016-05-27</td><td>3</td><td>2016-05-27</td></tr>",
                            "<tr><td>Tömböly Dénes</td><td>2016-05-27</td><td>3</td><td>2016-05-27</td></tr>",
                            "<tr><td>Szűcs Balázs</td><td>2016-05-28</td><td>3</td><td>2016-05-27</td></tr>",
                            "<tr><td>Baráth Mária</td><td>2016-05-28</td><td>2</td><td>2016-05-28</td></tr>",
                            "<tr><td>Palágyi Polla</td><td>2016-05-28</td><td>2</td><td>2016-05-28</td></tr>",
                            "<tr><td>Farkas Sára</td><td>2016-05-28</td><td>2</td><td>2016-05-28</td></tr>",
                            "<tr><td>Józsa Zsolt</td><td>2016-05-28</td><td>1</td><td>2016-05-28</td></tr>",
                            "<tr><td>Vajda Zsuzsa</td><td>2016-05-28</td><td>4</td><td>2016-05-28</td></tr>",
                            "<tr><td>Kiss Ádám</td><td>2016-05-28</td><td>3</td><td>2016-05-28</td></tr>",
                            "<tr><td>Tari Szilvia</td><td>2016-05-28</td><td>2</td><td>2016-05-28</td></tr>",
                            "<tr><td>Mile Norbert</td><td>2016-05-29</td><td>3</td><td>2016-05-28</td></tr>",
                            "<tr><td>Győrffy Bence</td><td>2016-05-29</td><td>1</td><td>2016-05-29</td></tr>",
                            "<tr><td>Móricz Árpád</td><td>2016-05-29</td><td>2</td><td>2016-05-29</td></tr>",
                            "<tr><td>Érsek Eszter</td><td>2016-05-30</td><td>2</td><td>2016-05-29</td></tr>",
                            "<tr><td>Juhász Mihály</td><td>2016-05-30</td><td>2</td><td>2016-05-30</td></tr>",
                            "<tr><td>Székely Brigitta</td><td>2016-05-30</td><td>3</td><td>2016-05-30</td></tr>",
                            "<tr><td>Kő Nikoletta</td><td>2016-05-30</td><td>3</td><td>2016-05-30</td></tr>",
                            "<tr><td>Telek Gábor</td><td>2016-05-30</td><td>1</td><td>2016-05-30</td></tr>",
                            "<tr><td>Keresztúri Viktor</td><td>2016-05-30</td><td>2</td><td>2016-05-30</td></tr>",
                            "<tr><td>Vígh András</td><td>2016-05-30</td><td>1</td><td>2016-05-30</td></tr>",
                            "<tr><td>Kazy Tihamér</td><td>2016-05-30</td><td>1</td><td>2016-05-30</td></tr>",
                            "<tr><td>Farkas Sára</td><td>2016-05-30</td><td>2</td><td>2016-05-30</td></tr>",
                            "<tr><td>Tankó Veronika</td><td>2016-05-30</td><td>2</td><td>2016-05-30</td></tr>",
                            "<tr><td>Tóth András</td><td>2016-05-30</td><td>1</td><td>2016-05-30</td></tr>",
                            "<tr><td>Gondos Katalin</td><td>2016-05-31</td><td>3</td><td>2016-05-30</td></tr>",
                            "<tr><td>Pataki Brigitta</td><td>2016-06-01</td><td>2</td><td>2016-05-31</td></tr>",
                            "<tr><td>Oroszi György</td><td>2016-06-01</td><td>2</td><td>2016-06-01</td></tr>",
                            "<tr><td>Lukács Kornél</td><td>2016-06-02</td><td>3</td><td>2016-06-01</td></tr>",
                            "<tr><td>Frank Fruzsina</td><td>2016-06-02</td><td>2</td><td>2016-06-02</td></tr>",
                            "<tr><td>Kornseé Gyöngyi</td><td>2016-06-02</td><td>3</td><td>2016-06-02</td></tr>",
                            "<tr><td>Szilágyi Mátyás</td><td>2016-06-02</td><td>1</td><td>2016-06-02</td></tr>",
                            "<tr><td>Nagy László</td><td>2016-06-03</td><td>1</td><td>2016-06-02</td></tr>",
                            "<tr><td>Barna Zoltán</td><td>2016-06-03</td><td>1</td><td>2016-06-03</td></tr>",
                            "<tr><td>Czérna Krisztián</td><td>2016-06-03</td><td>2</td><td>2016-06-03</td></tr>",
                            "<tr><td>Kazy Tihamér</td><td>2016-06-03</td><td>5</td><td>2016-06-03</td></tr>",
                            "<tr><td>Bagi Beáta</td><td>2016-06-03</td><td>2</td><td>2016-06-03</td></tr>",
                            "<tr><td>Horváth Nikolett</td><td>2016-06-03</td><td>1</td><td>2016-06-03</td></tr>",
                            "<tr><td>Turcsik Tünde</td><td>2016-06-03</td><td>3</td><td>2016-06-03</td></tr>",
                            "<tr><td>Antal László</td><td>2016-06-03</td><td>2</td><td>2016-06-03</td></tr>",
                            "<tr><td>Bajusz Bence</td><td>2016-06-03</td><td>2</td><td>2016-06-03</td></tr>",
                            "<tr><td>Mogyródi Krisztián</td><td>2016-06-04</td><td>2</td><td>2016-06-03</td></tr>",
                            "<tr><td>Kelemen Áron</td><td>2016-06-04</td><td>2</td><td>2016-06-04</td></tr>",
                            "<tr><td>Opra Attila</td><td>2016-06-04</td><td>3</td><td>2016-06-04</td></tr>",
                            "<tr><td>Harangozó János</td><td>2016-06-04</td><td>1</td><td>2016-06-04</td></tr>",
                            "<tr><td>Gyuris József</td><td>2016-06-04</td><td>4</td><td>2016-06-04</td></tr>",
                            "<tr><td>Nagymihály Csongor</td><td>2016-06-04</td><td>2</td><td>2016-06-04</td></tr>",
                            "<tr><td>Pintér Zoltán</td><td>2016-06-05</td><td>2</td><td>2016-06-04</td></tr>",
                            "<tr><td>Ötvös Árpád</td><td>2016-06-05</td><td>2</td><td>2016-06-05</td></tr>",
                            "<tr><td>Vörös Dániel</td><td>2016-06-06</td><td>3</td><td>2016-06-05</td></tr>",
                            "<tr><td>Farkas Sára</td><td>2016-06-06</td><td>2</td><td>2016-06-06</td></tr>",
                            "<tr><td>Zatykó Katalin</td><td>2016-06-06</td><td>2</td><td>2016-06-06</td></tr>",
                            "<tr><td>Horváth Árpád</td><td>2016-06-06</td><td>3</td><td>2016-06-06</td></tr>",
                            "<tr><td>Dusha Tímea</td><td>2016-06-06</td><td>2</td><td>2016-06-06</td></tr>",
                            "<tr><td>Zatykó Katalin</td><td>2016-06-06</td><td>3</td><td>2016-06-06</td></tr>",
                            "<tr><td>Pintér Zoltán</td><td>2016-06-06</td><td>2</td><td>2016-06-06</td></tr>",
                            "<tr><td>Kalacsi Márton</td><td>2016-06-06</td><td>3</td><td>2016-06-06</td></tr>",
                            "<tr><td>Pulai Zsolt</td><td>2016-06-06</td><td>2</td><td>2016-06-06</td></tr>",
                            "<tr><td>Turcsik Tünde</td><td>2016-06-06</td><td>3</td><td>2016-06-06</td></tr>",
                            "<tr><td>Keresztúri Viktor</td><td>2016-06-06</td><td>4</td><td>2016-06-06</td></tr>",
                            "<tr><td>Hídasi Judit</td><td>2016-06-06</td><td>2</td><td>2016-06-06</td></tr>",
                            "<tr><td>Szűcs Annamária</td><td>2016-06-06</td><td>3</td><td>2016-06-06</td></tr>",
                            "<tr><td>Bakó Klaudia</td><td>2016-06-06</td><td>4</td><td>2016-06-06</td></tr>",
                            "<tr><td>Antal László</td><td>2016-06-07</td><td>1</td><td>2016-06-06</td></tr>",
                            "<tr><td>Molnár Bálint</td><td>2016-06-07</td><td>3</td><td>2016-06-07</td></tr>",
                            "<tr><td>Orbán Bernadett</td><td>2016-06-07</td><td>3</td><td>2016-06-07</td></tr>",
                            "<tr><td>Tóth Júlia</td><td>2016-06-07</td><td>5</td><td>2016-06-07</td></tr>",
                            "<tr><td>Komjáti András</td><td>2016-06-07</td><td>3</td><td>2016-06-07</td></tr>",
                            "<tr><td>Tatár Nikoletta</td><td>2016-06-07</td><td>2</td><td>2016-06-07</td></tr>",
                            "<tr><td>Czérna Krisztián</td><td>2016-06-07</td><td>2</td><td>2016-06-07</td></tr>",
                            "<tr><td>Pulai Zsolt</td><td>2016-06-07</td><td>4</td><td>2016-06-07</td></tr>",
                            "<tr><td>Gondos Katalin</td><td>2016-06-07</td><td>2</td><td>2016-06-07</td></tr>",
                            "<tr><td>Kelemen Áron</td><td>2016-06-07</td><td>3</td><td>2016-06-07</td></tr>",
                            "<tr><td>Molnár Bálint</td><td>2016-06-07</td><td>3</td><td>2016-06-07</td></tr>",
                            "<tr><td>Nagy László</td><td>2016-06-08</td><td>2</td><td>2016-06-07</td></tr>",
                            "<tr><td>Gyárfás Krisztina</td><td>2016-06-08</td><td>1</td><td>2016-06-08</td></tr>",
                            "<tr><td>Regős Annamária</td><td>2016-06-08</td><td>2</td><td>2016-06-08</td></tr>",
                            "<tr><td>Bagóczki Alexandra</td><td>2016-06-08</td><td>3</td><td>2016-06-08</td></tr>",
                            "<tr><td>Ambrus Dávid</td><td>2016-06-09</td><td>2</td><td>2016-06-08</td></tr>",
                            "<tr><td>Tóth Roland</td><td>2016-06-09</td><td>3</td><td>2016-06-09</td></tr>",
                            "<tr><td>Rab Sebestyén</td><td>2016-06-09</td><td>4</td><td>2016-06-09</td></tr>",
                            "<tr><td>Kerényi Beatrix</td><td>2016-06-10</td><td>2</td><td>2016-06-09</td></tr>",
                            "<tr><td>Orbán Bernadett</td><td>2016-06-10</td><td>4</td><td>2016-06-10</td></tr>",
                            "<tr><td>Nagymihály Csongor</td><td>2016-06-10</td><td>3</td><td>2016-06-10</td></tr>",
                            "<tr><td>Kerényi Beatrix</td><td>2016-06-10</td><td>2</td><td>2016-06-10</td></tr>",
                            "<tr><td>Kornseé Gyöngyi</td><td>2016-06-10</td><td>1</td><td>2016-06-10</td></tr>",
                            "<tr><td>Oroszi György</td><td>2016-06-10</td><td>2</td><td>2016-06-10</td></tr>",
                            "<tr><td>Antal László</td><td>2016-06-10</td><td>3</td><td>2016-06-10</td></tr>",
                            "<tr><td>Molnár Bálint</td><td>2016-06-10</td><td>1</td><td>2016-06-10</td></tr>",
                            "<tr><td>Vígh András</td><td>2016-06-10</td><td>1</td><td>2016-06-10</td></tr>",
                            "<tr><td>Fényes Tamás</td><td>2016-06-10</td><td>3</td><td>2016-06-10</td></tr>",
                            "<tr><td>Nagymihály Csongor</td><td>2016-06-11</td><td>2</td><td>2016-06-10</td></tr>",
                            "<tr><td>Szekendi Beatrix</td><td>2016-06-11</td><td>3</td><td>2016-06-11</td></tr>",
                            "<tr><td>Simon Bernadett</td><td>2016-06-12</td><td>3</td><td>2016-06-11</td></tr>",
                            "<tr><td>Kovács Katalin</td><td>2016-06-13</td><td>1</td><td>2016-06-12</td></tr>",
                            "<tr><td>Maródi Andrea</td><td>2016-06-13</td><td>1</td><td>2016-06-13</td></tr>",
                            "<tr><td>Kovács Katalin</td><td>2016-06-13</td><td>4</td><td>2016-06-13</td></tr>",
                            "<tr><td>Pataki Brigitta</td><td>2016-06-13</td><td>3</td><td>2016-06-13</td></tr>",
                            "<tr><td>Kispál Márk</td><td>2016-06-13</td><td>3</td><td>2016-06-13</td></tr>",
                            "<tr><td>Antal Tamás</td><td>2016-06-14</td><td>2</td><td>2016-06-13</td></tr>",
                            "<tr><td>Vajda Zsuzsa</td><td>2016-06-15</td><td>3</td><td>2016-06-14</td></tr>",
                            "<tr><td>Nagymihály Lajos</td><td>2016-06-16</td><td>2</td><td>2016-06-15</td></tr>",
                            "<tr><td>Nyíri Georgij</td><td>2016-06-16</td><td>3</td><td>2016-06-16</td></tr>",
                            "<tr><td>Mile Norbert</td><td>2016-06-16</td><td>4</td><td>2016-06-16</td></tr>",
                            "<tr><td>Bori Krisztina</td><td>2016-06-16</td><td>2</td><td>2016-06-16</td></tr>",
                            "<tr><td>Simon Anikó</td><td>2016-06-16</td><td>1</td><td>2016-06-16</td></tr>",
                            "<tr><td>Orosz Ferenc</td><td>2016-06-16</td><td>2</td><td>2016-06-16</td></tr>",
                            "<tr><td>Mile Norbert</td><td>2016-06-16</td><td>3</td><td>2016-06-16</td></tr>",
                            "<tr><td>Molnár Zsófi</td><td>2016-06-16</td><td>2</td><td>2016-06-16</td></tr>",
                            "<tr><td>Kovács Bernadett</td><td>2016-06-17</td><td>3</td><td>2016-06-16</td></tr>",
                            "<tr><td>Józsa Zsolt</td><td>2016-06-17</td><td>2</td><td>2016-06-17</td></tr>",
                            "<tr><td>Miklós Szabolcs</td><td>2016-06-18</td><td>3</td><td>2016-06-17</td></tr>",
                            "<tr><td>Kerényi Beatrix</td><td>2016-06-19</td><td>3</td><td>2016-06-18</td></tr>",
                            "<tr><td>Köves Gábor</td><td>2016-06-20</td><td>4</td><td>2016-06-19</td></tr>",
                            "<tr><td>Csiger Bertalan</td><td>2016-06-20</td><td>1</td><td>2016-06-20</td></tr>",
                            "<tr><td>Molnár András</td><td>2016-06-21</td><td>2</td><td>2016-06-20</td></tr>",
                            "<tr><td>Horváth Nikolett</td><td>2016-06-22</td><td>1</td><td>2016-06-21</td></tr>",
                            "<tr><td>Barna Debóra</td><td>2016-06-22</td><td>5</td><td>2016-06-22</td></tr>",
                            "<tr><td>Tóth Roland</td><td>2016-06-22</td><td>3</td><td>2016-06-22</td></tr>",
                            "<tr><td>Kalacsi Márton</td><td>2016-06-22</td><td>2</td><td>2016-06-22</td></tr>",
                            "<tr><td>Horváth Ágnes</td><td>2016-06-23</td><td>1</td><td>2016-06-22</td></tr>",
                            "<tr><td>Baráth Mária</td><td>2016-06-23</td><td>1</td><td>2016-06-23</td></tr>",
                            "<tr><td>Papp Imre</td><td>2016-06-23</td><td>4</td><td>2016-06-23</td></tr>",
                            "<tr><td>Komjáti András</td><td>2016-06-23</td><td>2</td><td>2016-06-23</td></tr>",
                            "<tr><td>Béres Norbert</td><td>2016-06-24</td><td>2</td><td>2016-06-23</td></tr>",
                            "<tr><td>Szirmai Renáta</td><td>2016-06-24</td><td>5</td><td>2016-06-24</td></tr>",
                            "<tr><td>Tóth Anikó</td><td>2016-06-25</td><td>3</td><td>2016-06-24</td></tr>",
                            "<tr><td>Balla Miklós</td><td>2016-06-26</td><td>2</td><td>2016-06-25</td></tr>",
                            "<tr><td>Simon Anikó</td><td>2016-06-27</td><td>2</td><td>2016-06-26</td></tr>",
                            "<tr><td>Papp Imre</td><td>2016-06-27</td><td>2</td><td>2016-06-27</td></tr>",
                            "<tr><td>Juhász Mihály</td><td>2016-06-27</td><td>1</td><td>2016-06-27</td></tr>",
                            "<tr><td>Fényes Tamás</td><td>2016-06-28</td><td>3</td><td>2016-06-27</td></tr>",
                            "<tr><td>Kő Nikoletta</td><td>2016-06-29</td><td>2</td><td>2016-06-28</td></tr>",
                            "<tr><td>Balogh Eszter</td><td>2016-06-30</td><td>3</td><td>2016-06-29</td></tr>",
                            "<tr><td>Ambrus Dávid</td><td>2016-06-30</td><td>2</td><td>2016-06-30</td></tr>",
                            "<tr><td>Szalai Péter</td><td>2016-06-30</td><td>3</td><td>2016-06-30</td></tr>",
                            "<tr><td>Frank Fruzsina</td><td>2016-07-01</td><td>3</td><td>2016-06-30</td></tr>",
                            "<tr><td>Kertész Katalin</td><td>2016-07-01</td><td>1</td><td>2016-07-01</td></tr>",
                            "<tr><td>Varga István</td><td>2016-07-01</td><td>4</td><td>2016-07-01</td></tr>",
                            "<tr><td>Gondos Katalin</td><td>2016-07-01</td><td>2</td><td>2016-07-01</td></tr>",
                            "<tr><td>Kornseé Gyöngyi</td><td>2016-07-01</td><td>2</td><td>2016-07-01</td></tr>",
                            "<tr><td>Böröcz Anikó</td><td>2016-07-02</td><td>1</td><td>2016-07-01</td></tr>",
                            "<tr><td>Kertész Katalin</td><td>2016-07-03</td><td>4</td><td>2016-07-02</td></tr>",
                            "<tr><td>Kelemen Áron</td><td>2016-07-03</td><td>2</td><td>2016-07-03</td></tr>",
                            "<tr><td>Bozsó Péter</td><td>2016-07-03</td><td>2</td><td>2016-07-03</td></tr>",
                            "<tr><td>Bagi Beáta</td><td>2016-07-03</td><td>1</td><td>2016-07-03</td></tr>",
                            "<tr><td>Gondos Katalin</td><td>2016-07-03</td><td>1</td><td>2016-07-03</td></tr>",
                            "<tr><td>Jakab Áron</td><td>2016-07-04</td><td>3</td><td>2016-07-03</td></tr>",
                            "<tr><td>Fényes Tamás</td><td>2016-07-04</td><td>2</td><td>2016-07-04</td></tr>",
                            "<tr><td>Molnár András</td><td>2016-07-04</td><td>3</td><td>2016-07-04</td></tr>",
                            "<tr><td>Karasz Sándor</td><td>2016-07-04</td><td>2</td><td>2016-07-04</td></tr>",
                            "<tr><td>Pálinkás János</td><td>2016-07-04</td><td>3</td><td>2016-07-04</td></tr>",
                            "<tr><td>Szedlár Krisztina</td><td>2016-07-05</td><td>3</td><td>2016-07-04</td></tr>",
                            "<tr><td>Vajda József</td><td>2016-07-06</td><td>2</td><td>2016-07-05</td></tr>",
                            "<tr><td>Erdei András</td><td>2016-07-06</td><td>2</td><td>2016-07-06</td></tr>",
                            "<tr><td>Horváth Katalin</td><td>2016-07-06</td><td>1</td><td>2016-07-06</td></tr>",
                            "<tr><td>Gondos Katalin</td><td>2016-07-07</td><td>3</td><td>2016-07-06</td></tr>",
                            "<tr><td>Balogh Eszter</td><td>2016-07-08</td><td>1</td><td>2016-07-07</td></tr>",
                            "<tr><td>Szűcs Norbert</td><td>2016-07-08</td><td>1</td><td>2016-07-08</td></tr>",
                            "<tr><td>Szűcs Balázs</td><td>2016-07-08</td><td>3</td><td>2016-07-08</td></tr>",
                            "<tr><td>Mogyródi Krisztián</td><td>2016-07-09</td><td>3</td><td>2016-07-08</td></tr>",
                            "<tr><td>Nagymihály Csongor</td><td>2016-07-09</td><td>4</td><td>2016-07-09</td></tr>",
                            "<tr><td>Nagy Gabriella</td><td>2016-07-10</td><td>3</td><td>2016-07-09</td></tr>",
                            "<tr><td>Szűcs Balázs</td><td>2016-07-10</td><td>3</td><td>2016-07-10</td></tr>",
                            "<tr><td>Vörös Dániel</td><td>2016-07-11</td><td>3</td><td>2016-07-10</td></tr>",
                            "<tr><td>Barta Zsuzsanna</td><td>2016-07-12</td><td>2</td><td>2016-07-11</td></tr>",
                            "<tr><td>Köves Gábor</td><td>2016-07-12</td><td>1</td><td>2016-07-12</td></tr>",
                            "<tr><td>Iván Róbert</td><td>2016-07-12</td><td>4</td><td>2016-07-12</td></tr>",
                            "<tr><td>Hegedűs Norbert</td><td>2016-07-13</td><td>3</td><td>2016-07-12</td></tr>",
                            "<tr><td>Kovács Katalin</td><td>2016-09-05</td><td>4</td><td>2016-07-13</td></tr>",
                            "<tr><td>Fodor Zoltán</td><td>2016-09-05</td><td>3</td><td>2016-09-05</td></tr>",
                            "<tr><td>Böröcz Anikó</td><td>2016-09-05</td><td>4</td><td>2016-09-05</td></tr>",
                            "<tr><td>Móra László</td><td>2016-09-05</td><td>3</td><td>2016-09-05</td></tr>",
                            "<tr><td>Szikszai Réka</td><td>2016-09-05</td><td>3</td><td>2016-09-05</td></tr>",
                            "<tr><td>Bíró Ákos</td><td>2016-09-06</td><td>1</td><td>2016-09-05</td></tr>",
                            "<tr><td>Kovács Bernadett</td><td>2016-09-07</td><td>3</td><td>2016-09-06</td></tr>",
                            "<tr><td>Rácz Dániel</td><td>2016-09-08</td><td>4</td><td>2016-09-07</td></tr>",
                            "<tr><td>Kelemen Áron</td><td>2016-09-08</td><td>2</td><td>2016-09-08</td></tr>",
                            "<tr><td>Pásztor Róbert</td><td>2016-09-08</td><td>4</td><td>2016-09-08</td></tr>",
                            "<tr><td>Vajda József</td><td>2016-09-09</td><td>2</td><td>2016-09-08</td></tr>",
                            "<tr><td>Varsányi Zsuzsa</td><td>2016-09-09</td><td>2</td><td>2016-09-09</td></tr>",
                            "<tr><td>Bucskó Róza</td><td>2016-09-10</td><td>2</td><td>2016-09-09</td></tr>",
                            "<tr><td>Kalacsi Márton</td><td>2016-09-10</td><td>2</td><td>2016-09-10</td></tr>",
                            "<tr><td>Bíró Péter</td><td>2016-09-11</td><td>4</td><td>2016-09-10</td></tr>",
                            "<tr><td>Fényes Tamás</td><td>2016-09-12</td><td>3</td><td>2016-09-11</td></tr>",
                            "<tr><td>Szűcs Balázs</td><td>2016-09-12</td><td>3</td><td>2016-09-12</td></tr>",
                            "<tr><td>Barkóci Ádám</td><td>2016-09-12</td><td>2</td><td>2016-09-12</td></tr>",
                            "<tr><td>Neizer Andrea</td><td>2016-09-13</td><td>2</td><td>2016-09-12</td></tr>",
                            "<tr><td>Szedlár Krisztina</td><td>2016-09-13</td><td>1</td><td>2016-09-13</td></tr>",
                            "<tr><td>Maródi Andrea</td><td>2016-09-13</td><td>2</td><td>2016-09-13</td></tr>",
                            "<tr><td>Gergely József</td><td>2016-09-13</td><td>2</td><td>2016-09-13</td></tr>",
                            "<tr><td>Foltényi Sebastián</td><td>2016-09-14</td><td>3</td><td>2016-09-13</td></tr>",
                            "<tr><td>Horváth Márk</td><td>2016-09-14</td><td>3</td><td>2016-09-14</td></tr>",
                            "<tr><td>Tornyos Andrea</td><td>2016-09-15</td><td>2</td><td>2016-09-14</td></tr>",
                            "<tr><td>Bakódy Balázs</td><td>2016-09-15</td><td>3</td><td>2016-09-15</td></tr>",
                            "<tr><td>Bori Krisztina</td><td>2016-09-15</td><td>3</td><td>2016-09-15</td></tr>",
                            "<tr><td>Horváth Árpád</td><td>2016-09-16</td><td>1</td><td>2016-09-15</td></tr>",
                            "<tr><td>Molnár Bálint</td><td>2016-09-16</td><td>1</td><td>2016-09-16</td></tr>",
                            "<tr><td>Barabás Pál</td><td>2016-09-16</td><td>2</td><td>2016-09-16</td></tr>",
                            "<tr><td>Back András</td><td>2016-09-17</td><td>2</td><td>2016-09-16</td></tr>",
                            "<tr><td>Búza Imre</td><td>2016-09-17</td><td>3</td><td>2016-09-17</td></tr>",
                            "<tr><td>Bittmann Edit</td><td>2016-09-17</td><td>2</td><td>2016-09-17</td></tr>",
                            "<tr><td>Foltényi Sebastián</td><td>2016-09-17</td><td>3</td><td>2016-09-17</td></tr>",
                            "<tr><td>Vajda Zsuzsa</td><td>2016-09-18</td><td>2</td><td>2016-09-17</td></tr>",
                            "<tr><td>Nyíri Georgij</td><td>2016-09-18</td><td>3</td><td>2016-09-18</td></tr>",
                            "<tr><td>Bittmann Edit</td><td>2016-09-18</td><td>3</td><td>2016-09-18</td></tr>",
                            "<tr><td>Horváth Árpád</td><td>2016-09-18</td><td>1</td><td>2016-09-18</td></tr>",
                            "<tr><td>Szedlár Krisztina</td><td>2016-09-19</td><td>2</td><td>2016-09-18</td></tr>",
                            "<tr><td>Vörös Dániel</td><td>2016-09-19</td><td>4</td><td>2016-09-19</td></tr>",
                            "<tr><td>Karasz Sándor</td><td>2016-09-19</td><td>4</td><td>2016-09-19</td></tr>",
                            "<tr><td>Gondos Katalin</td><td>2016-09-19</td><td>3</td><td>2016-09-19</td></tr>",
                            "<tr><td>Szalai Szilárd</td><td>2016-09-20</td><td>3</td><td>2016-09-19</td></tr>",
                            "<tr><td>Sobják Dávid</td><td>2016-09-20</td><td>2</td><td>2016-09-20</td></tr>",
                            "<tr><td>Tatár Nikoletta</td><td>2016-09-21</td><td>2</td><td>2016-09-20</td></tr>",
                            "<tr><td>Komjáti András</td><td>2016-09-22</td><td>1</td><td>2016-09-21</td></tr>",
                            "<tr><td>Regős Annamária</td><td>2016-09-23</td><td>2</td><td>2016-09-22</td></tr>",
                            "<tr><td>Horváth Márk</td><td>2016-09-23</td><td>2</td><td>2016-09-23</td></tr>",
                            "<tr><td>Lukács Kornél</td><td>2016-09-23</td><td>3</td><td>2016-09-23</td></tr>",
                            "<tr><td>Farkas László</td><td>2016-09-23</td><td>3</td><td>2016-09-23</td></tr>",
                            "<tr><td>Dunai Aladár</td><td>2016-09-24</td><td>1</td><td>2016-09-23</td></tr>",
                            "<tr><td>Bíró Péter</td><td>2016-09-25</td><td>3</td><td>2016-09-24</td></tr>",
                            "<tr><td>Tankó Veronika</td><td>2016-09-26</td><td>2</td><td>2016-09-25</td></tr>",
                            "<tr><td>Horváth Márk</td><td>2016-09-26</td><td>4</td><td>2016-09-26</td></tr>",
                            "<tr><td>Kuruc Emese</td><td>2016-09-27</td><td>3</td><td>2016-09-26</td></tr>",
                            "<tr><td>Ötvös Árpád</td><td>2016-09-28</td><td>2</td><td>2016-09-27</td></tr>",
                            "<tr><td>Hamvay-Kovács Anita</td><td>2016-09-28</td><td>4</td><td>2016-09-28</td></tr>",
                            "<tr><td>Varsányi Zsuzsa</td><td>2016-09-28</td><td>2</td><td>2016-09-28</td></tr>",
                            "<tr><td>Varga István</td><td>2016-09-29</td><td>3</td><td>2016-09-28</td></tr>",
                            "<tr><td>Frank Fruzsina</td><td>2016-09-29</td><td>3</td><td>2016-09-29</td></tr>",
                            "<tr><td>Szikszai Réka</td><td>2016-09-30</td><td>2</td><td>2016-09-29</td></tr>",
                            "<tr><td>Csóti Attila</td><td>2016-09-30</td><td>3</td><td>2016-09-30</td></tr>",
                            "<tr><td>Barna Zoltán</td><td>2016-09-30</td><td>3</td><td>2016-09-30</td></tr>",
                            "<tr><td>Tóth András</td><td>2016-09-30</td><td>2</td><td>2016-09-30</td></tr>",
                            "<tr><td>Bíró Péter</td><td>2016-09-30</td><td>3</td><td>2016-09-30</td></tr>",
                            "<tr><td>Komjáti András</td><td>2016-09-30</td><td>2</td><td>2016-09-30</td></tr>",
                            "<tr><td>Horváth Krisztina</td><td>2016-09-30</td><td>3</td><td>2016-09-30</td></tr>",
                            "<tr><td>Poprádi Kristóf</td><td>2016-09-30</td><td>2</td><td>2016-09-30</td></tr>",
                            "<tr><td>Balogh Eszter</td><td>2016-10-01</td><td>3</td><td>2016-09-30</td></tr>",
                            "<tr><td>Szekendi Beatrix</td><td>2016-10-01</td><td>3</td><td>2016-10-01</td></tr>",
                            "<tr><td>Szekendi Beatrix</td><td>2016-10-01</td><td>3</td><td>2016-10-01</td></tr>",
                            "<tr><td>Józsa Zsolt</td><td>2016-10-01</td><td>2</td><td>2016-10-01</td></tr>",
                            "<tr><td>Molnár András</td><td>2016-10-01</td><td>3</td><td>2016-10-01</td></tr>",
                            "<tr><td>Vörös Dániel</td><td>2016-10-01</td><td>1</td><td>2016-10-01</td></tr>",
                            "<tr><td>Boros Vivien</td><td>2016-10-01</td><td>1</td><td>2016-10-01</td></tr>",
                            "<tr><td>Sobják Dávid</td><td>2016-10-01</td><td>2</td><td>2016-10-01</td></tr>",
                            "<tr><td>Horváth Krisztina</td><td>2016-10-01</td><td>3</td><td>2016-10-01</td></tr>",
                            "<tr><td>Bárci Gusztáv</td><td>2016-10-01</td><td>3</td><td>2016-10-01</td></tr>",
                            "<tr><td>Koza Máté</td><td>2016-10-01</td><td>2</td><td>2016-10-01</td></tr>",
                            "<tr><td>Bakó Klaudia</td><td>2016-10-01</td><td>2</td><td>2016-10-01</td></tr>",
                            "<tr><td>Balogh Eszter</td><td>2016-10-01</td><td>1</td><td>2016-10-01</td></tr>",
                            "<tr><td>Szalai Szilárd</td><td>2016-10-01</td><td>3</td><td>2016-10-01</td></tr>",
                            "<tr><td>Nagy László</td><td>2016-10-01</td><td>3</td><td>2016-10-01</td></tr>",
                            "<tr><td>Bagi Beáta</td><td>2016-10-01</td><td>1</td><td>2016-10-01</td></tr>",
                            "<tr><td>Hamvay-Kovács Anita</td><td>2016-10-01</td><td>2</td><td>2016-10-01</td></tr>",
                            "<tr><td>Vida Gabriella</td><td>2016-10-01</td><td>3</td><td>2016-10-01</td></tr>",
                            "<tr><td>Bakó Klaudia</td><td>2016-10-02</td><td>2</td><td>2016-10-01</td></tr>",
                            "<tr><td>Rácz Rajmond</td><td>2016-10-03</td><td>3</td><td>2016-10-02</td></tr>",
                            "<tr><td>Bagi Beáta</td><td>2016-10-03</td><td>3</td><td>2016-10-03</td></tr>",
                            "<tr><td>Harangozó János</td><td>2016-10-03</td><td>3</td><td>2016-10-03</td></tr>",
                            "<tr><td>Molnár Eszter</td><td>2016-10-04</td><td>3</td><td>2016-10-03</td></tr>",
                            "<tr><td>Orbán Bernadett</td><td>2016-10-04</td><td>2</td><td>2016-10-04</td></tr>",
                            "<tr><td>Molnár András</td><td>2016-10-04</td><td>3</td><td>2016-10-04</td></tr>",
                            "<tr><td>Bíró Ákos</td><td>2016-10-05</td><td>2</td><td>2016-10-04</td></tr>",
                            "<tr><td>Mile Norbert</td><td>2016-10-05</td><td>3</td><td>2016-10-05</td></tr>",
                            "<tr><td>Farkas Sára</td><td>2016-10-06</td><td>3</td><td>2016-10-05</td></tr>",
                            "<tr><td>Enyedi Éva</td><td>2016-10-06</td><td>3</td><td>2016-10-06</td></tr>",
                            "<tr><td>Tóth András</td><td>2016-10-07</td><td>3</td><td>2016-10-06</td></tr>",
                            "<tr><td>Soós István</td><td>2016-10-07</td><td>2</td><td>2016-10-07</td></tr>",
                            "<tr><td>Tornyos Andrea</td><td>2016-10-08</td><td>3</td><td>2016-10-07</td></tr>",
                            "<tr><td>Iván Róbert</td><td>2016-10-08</td><td>3</td><td>2016-10-08</td></tr>",
                            "<tr><td>Simon Bernadett</td><td>2016-10-08</td><td>4</td><td>2016-10-08</td></tr>",
                            "<tr><td>Orosz Ferenc</td><td>2016-10-08</td><td>2</td><td>2016-10-08</td></tr>",
                            "<tr><td>Simon Anikó</td><td>2016-10-08</td><td>2</td><td>2016-10-08</td></tr>",
                            "<tr><td>Gergely József</td><td>2016-10-08</td><td>2</td><td>2016-10-08</td></tr>",
                            "<tr><td>Gondos Miklós</td><td>2016-10-08</td><td>1</td><td>2016-10-08</td></tr>",
                            "<tr><td>Gulyás Attila</td><td>2016-10-09</td><td>2</td><td>2016-10-08</td></tr>",
                            "<tr><td>Nagy László</td><td>2016-10-09</td><td>1</td><td>2016-10-09</td></tr>",
                            "<tr><td>Horváth Bálint</td><td>2016-10-09</td><td>2</td><td>2016-10-09</td></tr>",
                            "<tr><td>Farkas Sándor</td><td>2016-10-09</td><td>2</td><td>2016-10-09</td></tr>",
                            "<tr><td>Bíró Péter</td><td>2016-10-09</td><td>3</td><td>2016-10-09</td></tr>",
                            "<tr><td>Sarodi Dóra</td><td>2016-10-09</td><td>3</td><td>2016-10-09</td></tr>",
                            "<tr><td>Iván Róbert</td><td>2016-10-09</td><td>2</td><td>2016-10-09</td></tr>",
                            "<tr><td>Komjáti András</td><td>2016-10-09</td><td>2</td><td>2016-10-09</td></tr>",
                            "<tr><td>Szilágyi Mátyás</td><td>2016-10-09</td><td>3</td><td>2016-10-09</td></tr>",
                            "<tr><td>Tari Szilvia</td><td>2016-10-09</td><td>3</td><td>2016-10-09</td></tr>",
                            "<tr><td>Gombos Tibor</td><td>2016-10-09</td><td>2</td><td>2016-10-09</td></tr>",
                            "<tr><td>Bozsó Péter</td><td>2016-10-10</td><td>2</td><td>2016-10-09</td></tr>",
                            "<tr><td>Pataki Brigitta</td><td>2016-10-10</td><td>2</td><td>2016-10-10</td></tr>",
                            "<tr><td>Farkas Sára</td><td>2016-10-11</td><td>3</td><td>2016-10-10</td></tr>",
                            "<tr><td>Pivarcsi Anett</td><td>2016-10-12</td><td>3</td><td>2016-10-11</td></tr>",
                            "<tr><td>Ötvös Árpád</td><td>2016-10-13</td><td>3</td><td>2016-10-12</td></tr>",
                            "<tr><td>Urbán Viktoria</td><td>2016-10-14</td><td>3</td><td>2016-10-13</td></tr>",
                            "<tr><td>Gulyás Attila</td><td>2016-10-15</td><td>3</td><td>2016-10-14</td></tr>",
                            "<tr><td>Komjáti András</td><td>2016-10-15</td><td>3</td><td>2016-10-15</td></tr>",
                            "<tr><td>Csóti Attila</td><td>2016-10-15</td><td>1</td><td>2016-10-15</td></tr>",
                            "<tr><td>Simon Bernadett</td><td>2016-10-15</td><td>3</td><td>2016-10-15</td></tr>",
                            "<tr><td>Nagy Sándor</td><td>2016-10-15</td><td>1</td><td>2016-10-15</td></tr>",
                            "<tr><td>Viktor Éva</td><td>2016-10-15</td><td>3</td><td>2016-10-15</td></tr>",
                            "<tr><td>Böröcz Anikó</td><td>2016-10-16</td><td>3</td><td>2016-10-15</td></tr>",
                            "<tr><td>Pivarcsi Anett</td><td>2016-10-16</td><td>1</td><td>2016-10-16</td></tr>",
                            "<tr><td>Viktor Éva</td><td>2016-10-16</td><td>2</td><td>2016-10-16</td></tr>",
                            "<tr><td>Czérna Krisztián</td><td>2016-10-17</td><td>3</td><td>2016-10-16</td></tr>",
                            "<tr><td>Kovács Ágnes</td><td>2016-10-17</td><td>2</td><td>2016-10-17</td></tr>",
                            "<tr><td>Miklós Szabolcs</td><td>2016-10-17</td><td>2</td><td>2016-10-17</td></tr>",
                            "<tr><td>Bíró Ákos</td><td>2016-10-18</td><td>2</td><td>2016-10-17</td></tr>",
                            "<tr><td>Kiss Ádám</td><td>2016-10-19</td><td>2</td><td>2016-10-18</td></tr>",
                            "<tr><td>Kazy Tihamér</td><td>2016-10-19</td><td>2</td><td>2016-10-19</td></tr>",
                            "<tr><td>Berendi Péter</td><td>2016-10-19</td><td>4</td><td>2016-10-19</td></tr>",
                            "<tr><td>Pintér Zoltán</td><td>2016-10-19</td><td>2</td><td>2016-10-19</td></tr>",
                            "<tr><td>Köves Gábor</td><td>2016-10-20</td><td>1</td><td>2016-10-19</td></tr>",
                            "<tr><td>Dániel Tibor</td><td>2016-10-20</td><td>2</td><td>2016-10-20</td></tr>",
                            "<tr><td>Balogh Eszter</td><td>2016-10-20</td><td>1</td><td>2016-10-20</td></tr>",
                            "<tr><td>Kispál Márk</td><td>2016-10-20</td><td>1</td><td>2016-10-20</td></tr>",
                            "<tr><td>Kiss Andrea</td><td>2016-10-21</td><td>4</td><td>2016-10-20</td></tr>",
                            "<tr><td>Székely Brigitta</td><td>2016-10-21</td><td>3</td><td>2016-10-21</td></tr>",
                            "<tr><td>Bagóczki Alexandra</td><td>2016-10-21</td><td>2</td><td>2016-10-21</td></tr>",
                            "<tr><td>Barna Zoltán</td><td>2016-10-21</td><td>5</td><td>2016-10-21</td></tr>",
                            "<tr><td>Harangozó János</td><td>2016-10-22</td><td>1</td><td>2016-10-21</td></tr>",
                            "<tr><td>Horváth Nikolett</td><td>2016-10-22</td><td>3</td><td>2016-10-22</td></tr>",
                            "<tr><td>Bajusz Bence</td><td>2016-10-22</td><td>3</td><td>2016-10-22</td></tr>",
                            "<tr><td>Hartyánszky Ágnes</td><td>2016-10-22</td><td>3</td><td>2016-10-22</td></tr>",
                            "<tr><td>Farkas Sándor</td><td>2016-10-23</td><td>3</td><td>2016-10-22</td></tr>",
                            "<tr><td>Jakab Áron</td><td>2016-10-23</td><td>2</td><td>2016-10-23</td></tr>",
                            "<tr><td>Patay Róbert</td><td>2016-10-23</td><td>3</td><td>2016-10-23</td></tr>",
                            "<tr><td>Andor Ibolya</td><td>2016-10-23</td><td>2</td><td>2016-10-23</td></tr>",
                            "<tr><td>Kerényi Beatrix</td><td>2016-10-23</td><td>2</td><td>2016-10-23</td></tr>",
                            "<tr><td>Iván Róbert</td><td>2016-10-23</td><td>1</td><td>2016-10-23</td></tr>",
                            "<tr><td>Balogh Eszter</td><td>2016-10-23</td><td>1</td><td>2016-10-23</td></tr>",
                            "<tr><td>Bíró Péter</td><td>2016-10-24</td><td>2</td><td>2016-10-23</td></tr>",
                            "<tr><td>Turcsik Tünde</td><td>2016-10-24</td><td>3</td><td>2016-10-24</td></tr>",
                            "<tr><td>Szilágyi Mátyás</td><td>2016-10-24</td><td>1</td><td>2016-10-24</td></tr>",
                            "<tr><td>Tari Szilvia</td><td>2016-10-25</td><td>3</td><td>2016-10-24</td></tr>",
                            "<tr><td>Zatykó Katalin</td><td>2016-10-26</td><td>2</td><td>2016-10-25</td></tr>",
                            "<tr><td>Molnár Eszter</td><td>2016-10-26</td><td>3</td><td>2016-10-26</td></tr>",
                            "<tr><td>Barna Zoltán</td><td>2016-10-26</td><td>2</td><td>2016-10-26</td></tr>",
                            "<tr><td>Rab Sebestyén</td><td>2016-10-26</td><td>5</td><td>2016-10-26</td></tr>",
                            "<tr><td>Dusha Tímea</td><td>2016-10-26</td><td>3</td><td>2016-10-26</td></tr>",
                            "<tr><td>Iván Róbert</td><td>2016-10-26</td><td>2</td><td>2016-10-26</td></tr>",
                            "<tr><td>Horváth Katalin</td><td>2016-10-26</td><td>2</td><td>2016-10-26</td></tr>",
                            "<tr><td>Urbán Viktoria</td><td>2016-10-26</td><td>4</td><td>2016-10-26</td></tr>",
                            "<tr><td>Simon Bernadett</td><td>2016-10-26</td><td>3</td><td>2016-10-26</td></tr>",
                            "<tr><td>Kozma Péter</td><td>2016-10-26</td><td>3</td><td>2016-10-26</td></tr>",
                            "<tr><td>Vajda Zsuzsa</td><td>2016-10-26</td><td>1</td><td>2016-10-26</td></tr>",
                            "<tr><td>Feró Valentin</td><td>2016-10-26</td><td>3</td><td>2016-10-26</td></tr>",
                            "<tr><td>Kardos Renáta</td><td>2016-10-27</td><td>4</td><td>2016-10-26</td></tr>",
                            "<tr><td>Bieniek Ádám</td><td>2016-10-27</td><td>3</td><td>2016-10-27</td></tr>",
                            "<tr><td>Varsányi Zsuzsa</td><td>2016-10-27</td><td>4</td><td>2016-10-27</td></tr>",
                            "<tr><td>Tari Szilvia</td><td>2016-10-27</td><td>2</td><td>2016-10-27</td></tr>",
                            "<tr><td>Miklós Szabolcs</td><td>2016-10-28</td><td>3</td><td>2016-10-27</td></tr>",
                            "<tr><td>Búza Imre</td><td>2016-10-28</td><td>4</td><td>2016-10-28</td></tr>",
                            "<tr><td>Simon Bernadett</td><td>2016-10-28</td><td>3</td><td>2016-10-28</td></tr>",
                            "<tr><td>Mile Norbert</td><td>2016-10-28</td><td>3</td><td>2016-10-28</td></tr>",
                            "<tr><td>Farkas Sára</td><td>2016-10-28</td><td>2</td><td>2016-10-28</td></tr>",
                            "<tr><td>Oroszi György</td><td>2016-10-28</td><td>1</td><td>2016-10-28</td></tr>",
                            "<tr><td>Barna Debóra</td><td>2016-10-29</td><td>2</td><td>2016-10-28</td></tr>",
                            "<tr><td>Sarodi Dóra</td><td>2016-10-29</td><td>3</td><td>2016-10-29</td></tr>",
                            "<tr><td>Simon Anikó</td><td>2016-10-29</td><td>3</td><td>2016-10-29</td></tr>",
                            "<tr><td>Bori Krisztina</td><td>2016-10-29</td><td>4</td><td>2016-10-29</td></tr>",
                            "<tr><td>Szabó Julianna</td><td>2016-10-29</td><td>3</td><td>2016-10-29</td></tr>",
                            "<tr><td>Gulyás Attila</td><td>2016-10-30</td><td>2</td><td>2016-10-29</td></tr>",
                            "<tr><td>Győrffy Bence</td><td>2016-10-30</td><td>4</td><td>2016-10-30</td></tr>",
                            "<tr><td>Zatykó Katalin</td><td>2016-10-30</td><td>3</td><td>2016-10-30</td></tr>",
                            "<tr><td>Bíró Péter</td><td>2016-10-30</td><td>3</td><td>2016-10-30</td></tr>",
                            "<tr><td>Nagymihály Lajos</td><td>2016-10-30</td><td>3</td><td>2016-10-30</td></tr>",
                            "<tr><td>Kardos Renáta</td><td>2016-10-30</td><td>1</td><td>2016-10-30</td></tr>",
                            "<tr><td>Horváth Ágnes</td><td>2016-10-30</td><td>1</td><td>2016-10-30</td></tr>",
                            "<tr><td>Szilágyi Mátyás</td><td>2016-10-30</td><td>3</td><td>2016-10-30</td></tr>",
                            "<tr><td>Ambrus Dávid</td><td>2016-10-30</td><td>2</td><td>2016-10-30</td></tr>",
                            "<tr><td>Szalai Péter</td><td>2016-10-30</td><td>2</td><td>2016-10-30</td></tr>",
                            "<tr><td>Kovács Bernadett</td><td>2016-10-30</td><td>3</td><td>2016-10-30</td></tr>",
                            "<tr><td>Barna Zoltán</td><td>2016-10-30</td><td>1</td><td>2016-10-30</td></tr>",
                            "<tr><td>Opra Attila</td><td>2016-10-30</td><td>2</td><td>2016-10-30</td></tr>",
                            "<tr><td>Neizer Andrea</td><td>2016-10-30</td><td>3</td><td>2016-10-30</td></tr>",
                            "<tr><td>Hegedűs Norbert</td><td>2016-10-31</td><td>2</td><td>2016-10-30</td></tr>",
                            "<tr><td>Juhász Mihály</td><td>2016-11-01</td><td>3</td><td>2016-10-31</td></tr>",
                            "<tr><td>Érsek Eszter</td><td>2016-11-01</td><td>2</td><td>2016-11-01</td></tr>",
                            "<tr><td>Bozsó Péter</td><td>2016-11-01</td><td>2</td><td>2016-11-01</td></tr>",
                            "<tr><td>Czérna Krisztián</td><td>2016-11-02</td><td>2</td><td>2016-11-01</td></tr>",
                            "<tr><td>Farkas Béla</td><td>2016-11-03</td><td>4</td><td>2016-11-02</td></tr>",
                            "<tr><td>Szűcs Balázs</td><td>2016-11-03</td><td>3</td><td>2016-11-03</td></tr>",
                            "<tr><td>Kelemen Áron</td><td>2016-11-03</td><td>2</td><td>2016-11-03</td></tr>",
                            "<tr><td>Csiger Bertalan</td><td>2016-11-03</td><td>2</td><td>2016-11-03</td></tr>",
                            "<tr><td>Fő Nándor</td><td>2016-11-03</td><td>3</td><td>2016-11-03</td></tr>",
                            "<tr><td>Pataki Brigitta</td><td>2016-11-03</td><td>3</td><td>2016-11-03</td></tr>",
                            "<tr><td>Szabó Julianna</td><td>2016-11-03</td><td>2</td><td>2016-11-03</td></tr>",
                            "<tr><td>Bosnyák Ilona</td><td>2016-11-04</td><td>4</td><td>2016-11-03</td></tr>",
                            "<tr><td>Balogh Eszter</td><td>2016-11-05</td><td>4</td><td>2016-11-04</td></tr>",
                            "<tr><td>Kovács Katalin</td><td>2016-11-05</td><td>3</td><td>2016-11-05</td></tr>",
                            "<tr><td>Kelemen Áron</td><td>2016-11-05</td><td>2</td><td>2016-11-05</td></tr>",
                            "<tr><td>Jakab Áron</td><td>2016-11-05</td><td>2</td><td>2016-11-05</td></tr>",
                            "<tr><td>Kuruc Emese</td><td>2016-11-05</td><td>1</td><td>2016-11-05</td></tr>",
                            "<tr><td>Gombos Tibor</td><td>2016-11-05</td><td>1</td><td>2016-11-05</td></tr>",
                            "<tr><td>Béres Norbert</td><td>2016-11-05</td><td>1</td><td>2016-11-05</td></tr>",
                            "<tr><td>Ferencz Roland</td><td>2016-11-05</td><td>3</td><td>2016-11-05</td></tr>",
                            "<tr><td>Tömböly Dénes</td><td>2016-11-06</td><td>2</td><td>2016-11-05</td></tr>",
                            "<tr><td>Perlinger Éva</td><td>2016-11-06</td><td>2</td><td>2016-11-06</td></tr>",
                            "<tr><td>Ötvös Árpád</td><td>2016-11-06</td><td>2</td><td>2016-11-06</td></tr>",
                            "<tr><td>Molnár Bálint</td><td>2016-11-07</td><td>2</td><td>2016-11-06</td></tr>",
                            "<tr><td>Nagy Júlia</td><td>2016-11-07</td><td>1</td><td>2016-11-07</td></tr>",
                            "<tr><td>Giliga János</td><td>2016-11-07</td><td>3</td><td>2016-11-07</td></tr>",
                            "<tr><td>Telek Gábor</td><td>2016-11-07</td><td>4</td><td>2016-11-07</td></tr>",
                            "<tr><td>Lengyel Ágnes</td><td>2016-11-07</td><td>2</td><td>2016-11-07</td></tr>",
                            "<tr><td>Orosz Ferenc</td><td>2016-11-07</td><td>3</td><td>2016-11-07</td></tr>",
                            "<tr><td>Rácz Rajmond</td><td>2016-11-08</td><td>4</td><td>2016-11-07</td></tr>",
                            "<tr><td>Baráth Mária</td><td>2016-11-08</td><td>3</td><td>2016-11-08</td></tr>",
                            "<tr><td>Kornseé Gyöngyi</td><td>2016-11-08</td><td>2</td><td>2016-11-08</td></tr>",
                            "<tr><td>Szedlár Krisztina</td><td>2016-11-08</td><td>2</td><td>2016-11-08</td></tr>",
                            "<tr><td>Mohos Mónika</td><td>2016-11-09</td><td>2</td><td>2016-11-08</td></tr>",
                            "<tr><td>Móricz Árpád</td><td>2016-11-09</td><td>2</td><td>2016-11-09</td></tr>",
                            "<tr><td>Keszler Dániel</td><td>2016-11-09</td><td>2</td><td>2016-11-09</td></tr>",
                            "<tr><td>Gulyás Attila</td><td>2016-11-10</td><td>2</td><td>2016-11-09</td></tr>",
                            "<tr><td>Simon Anikó</td><td>2016-11-10</td><td>2</td><td>2016-11-10</td></tr>",
                            "<tr><td>Farkas Sándor</td><td>2016-11-10</td><td>2</td><td>2016-11-10</td></tr>",
                            "<tr><td>Bíró Péter</td><td>2016-11-10</td><td>3</td><td>2016-11-10</td></tr>",
                            "<tr><td>Regős Annamária</td><td>2016-11-11</td><td>3</td><td>2016-11-10</td></tr>",
                            "<tr><td>Feró Valentin</td><td>2016-11-11</td><td>3</td><td>2016-11-11</td></tr>",
                            "<tr><td>Miklós Szabolcs</td><td>2016-11-12</td><td>2</td><td>2016-11-11</td></tr>",
                            "<tr><td>Nagymihály Csongor</td><td>2016-11-12</td><td>3</td><td>2016-11-12</td></tr>",
                            "<tr><td>Rácz Dániel</td><td>2016-11-13</td><td>3</td><td>2016-11-12</td></tr>",
                            "<tr><td>Kerényi Beatrix</td><td>2016-11-14</td><td>2</td><td>2016-11-13</td></tr>",
                            "<tr><td>Miklós Tamara</td><td>2016-11-15</td><td>2</td><td>2016-11-14</td></tr>",
                            "<tr><td>Bieniek Ádám</td><td>2016-11-15</td><td>2</td><td>2016-11-15</td></tr>",
                            "<tr><td>Bozsó Péter</td><td>2016-11-15</td><td>3</td><td>2016-11-15</td></tr>",
                            "<tr><td>Gondos Miklós</td><td>2016-11-16</td><td>3</td><td>2016-11-15</td></tr>",
                            "<tr><td>Rácz Rajmond</td><td>2016-11-16</td><td>2</td><td>2016-11-16</td></tr>",
                            "<tr><td>Szűcs Norbert</td><td>2016-11-16</td><td>3</td><td>2016-11-16</td></tr>",
                            "<tr><td>Maródi Andrea</td><td>2016-11-16</td><td>3</td><td>2016-11-16</td></tr>",
                            "<tr><td>Berendi Péter</td><td>2016-11-17</td><td>2</td><td>2016-11-16</td></tr>",
                            "<tr><td>Boros Vivien</td><td>2016-11-17</td><td>2</td><td>2016-11-17</td></tr>",
                            "<tr><td>Farkas Sára</td><td>2016-11-18</td><td>3</td><td>2016-11-17</td></tr>",
                            "<tr><td>Turcsik Tünde</td><td>2016-11-19</td><td>3</td><td>2016-11-18</td></tr>",
                            "<tr><td>Köves Gábor</td><td>2016-11-19</td><td>2</td><td>2016-11-19</td></tr>",
                            "<tr><td>Barna Zoltán</td><td>2016-11-19</td><td>2</td><td>2016-11-19</td></tr>",
                            "<tr><td>Kispál Márk</td><td>2016-11-19</td><td>2</td><td>2016-11-19</td></tr>",
                            "<tr><td>Tóth Roland</td><td>2016-11-19</td><td>2</td><td>2016-11-19</td></tr>",
                            "<tr><td>Szomor Andrea</td><td>2016-11-19</td><td>3</td><td>2016-11-19</td></tr>",
                            "<tr><td>Sobják Dávid</td><td>2016-11-19</td><td>2</td><td>2016-11-19</td></tr>",
                            "<tr><td>Erdei András</td><td>2016-11-19</td><td>4</td><td>2016-11-19</td></tr>",
                            "<tr><td>Komjáti András</td><td>2016-11-20</td><td>3</td><td>2016-11-19</td></tr>",
                            "<tr><td>Bíró Ákos</td><td>2016-11-21</td><td>2</td><td>2016-11-20</td></tr>",
                            "<tr><td>Vajda Zsuzsa</td><td>2016-11-21</td><td>3</td><td>2016-11-21</td></tr>",
                            "<tr><td>Soós István</td><td>2016-11-22</td><td>3</td><td>2016-11-21</td></tr>",
                            "<tr><td>Dunai Aladár</td><td>2016-11-22</td><td>2</td><td>2016-11-22</td></tr>",
                            "<tr><td>Vörös Dániel</td><td>2016-11-22</td><td>2</td><td>2016-11-22</td></tr>",
                            "<tr><td>Sarodi Dóra</td><td>2016-11-22</td><td>3</td><td>2016-11-22</td></tr>",
                            "<tr><td>Frank Fruzsina</td><td>2016-11-22</td><td>2</td><td>2016-11-22</td></tr>",
                            "<tr><td>Szedlár Krisztina</td><td>2016-11-22</td><td>1</td><td>2016-11-22</td></tr>",
                            "<tr><td>Vajda József</td><td>2016-11-23</td><td>3</td><td>2016-11-22</td></tr>",
                            "<tr><td>Komjáti András</td><td>2016-11-23</td><td>1</td><td>2016-11-23</td></tr>",
                            "<tr><td>Keszler Dániel</td><td>2016-11-23</td><td>2</td><td>2016-11-23</td></tr>",
                            "<tr><td>Molnár András</td><td>2016-11-23</td><td>4</td><td>2016-11-23</td></tr>",
                            "<tr><td>Farkas Sára</td><td>2016-11-23</td><td>4</td><td>2016-11-23</td></tr>",
                            "<tr><td>Kardos Renáta</td><td>2016-11-23</td><td>1</td><td>2016-11-23</td></tr>",
                            "<tr><td>Kuruc Emese</td><td>2016-11-23</td><td>4</td><td>2016-11-23</td></tr>",
                            "<tr><td>Pálinkás János</td><td>2016-11-23</td><td>2</td><td>2016-11-23</td></tr>",
                            "<tr><td>Horváth Bálint</td><td>2016-11-24</td><td>3</td><td>2016-11-23</td></tr>",
                            "<tr><td>Bíró Péter</td><td>2016-11-25</td><td>3</td><td>2016-11-24</td></tr>",
                            "<tr><td>Back András</td><td>2016-11-25</td><td>2</td><td>2016-11-25</td></tr>",
                            "<tr><td>Pálinkás János</td><td>2016-11-25</td><td>2</td><td>2016-11-25</td></tr>",
                            "<tr><td>Nagy András</td><td>2016-11-25</td><td>2</td><td>2016-11-25</td></tr>",
                            "<tr><td>Móra László</td><td>2016-11-25</td><td>3</td><td>2016-11-25</td></tr>",
                            "<tr><td>Vajda József</td><td>2016-11-25</td><td>3</td><td>2016-11-25</td></tr>",
                            "<tr><td>Csiger Bertalan</td><td>2016-11-26</td><td>3</td><td>2016-11-25</td></tr>",
                            "<tr><td>Szabó Julianna</td><td>2016-11-27</td><td>3</td><td>2016-11-26</td></tr>",
                            "<tr><td>Dusha Tímea</td><td>2016-11-27</td><td>4</td><td>2016-11-27</td></tr>",
                            "<tr><td>Kertész Katalin</td><td>2016-11-27</td><td>3</td><td>2016-11-27</td></tr>",
                            "<tr><td>Bajusz Bence</td><td>2016-11-28</td><td>2</td><td>2016-11-27</td></tr>",
                            "<tr><td>Pusztai Zsuzsanna</td><td>2016-11-28</td><td>3</td><td>2016-11-28</td></tr>",
                            "<tr><td>Vígh András</td><td>2016-11-28</td><td>2</td><td>2016-11-28</td></tr>",
                            "<tr><td>Nagy László</td><td>2016-11-29</td><td>1</td><td>2016-11-28</td></tr>",
                            "<tr><td>Erdei András</td><td>2016-11-29</td><td>3</td><td>2016-11-29</td></tr>",
                            "<tr><td>Nagy Sándor</td><td>2016-11-29</td><td>2</td><td>2016-11-29</td></tr>",
                            "<tr><td>Bagóczki Alexandra</td><td>2016-11-29</td><td>2</td><td>2016-11-29</td></tr>",
                            "<tr><td>Mile Norbert</td><td>2016-11-30</td><td>3</td><td>2016-11-29</td></tr>",
                            "<tr><td>Feró Valentin</td><td>2016-12-01</td><td>3</td><td>2016-11-30</td></tr>",
                            "<tr><td>Kornseé Gyöngyi</td><td>2016-12-01</td><td>2</td><td>2016-12-01</td></tr>",
                            "<tr><td>Balogh Eszter</td><td>2016-12-02</td><td>1</td><td>2016-12-01</td></tr>",
                            "<tr><td>Farkas Béla</td><td>2016-12-02</td><td>3</td><td>2016-12-02</td></tr>",
                            "<tr><td>Fényes Tamás</td><td>2016-12-02</td><td>1</td><td>2016-12-02</td></tr>",
                            "<tr><td>Nagy Sándor</td><td>2016-12-03</td><td>1</td><td>2016-12-02</td></tr>",
                            "<tr><td>Kertész Katalin</td><td>2016-12-04</td><td>3</td><td>2016-12-03</td></tr>",
                            "<tr><td>Vukasinovity Bálint</td><td>2016-12-04</td><td>3</td><td>2016-12-04</td></tr>",
                            "<tr><td>Horváth Árpád</td><td>2016-12-04</td><td>1</td><td>2016-12-04</td></tr>",
                            "<tr><td>Bodor Szabolcs</td><td>2016-12-05</td><td>2</td><td>2016-12-04</td></tr>",
                            "<tr><td>Balla Miklós</td><td>2016-12-05</td><td>2</td><td>2016-12-05</td></tr>",
                            "<tr><td>Balogh Eszter</td><td>2016-12-05</td><td>2</td><td>2016-12-05</td></tr>",
                            "<tr><td>Bakódy Balázs</td><td>2016-12-05</td><td>3</td><td>2016-12-05</td></tr>",
                            "<tr><td>Bieniek Ádám</td><td>2016-12-06</td><td>3</td><td>2016-12-05</td></tr>",
                            "<tr><td>Gergely József</td><td>2016-12-06</td><td>2</td><td>2016-12-06</td></tr>",
                            "<tr><td>Perlinger Éva</td><td>2016-12-06</td><td>2</td><td>2016-12-06</td></tr>",
                            "<tr><td>Farkas Béla</td><td>2016-12-06</td><td>1</td><td>2016-12-06</td></tr>",
                            "<tr><td>Farkas Sára</td><td>2016-12-06</td><td>1</td><td>2016-12-06</td></tr>",
                            "<tr><td>Pintér Zoltán</td><td>2016-12-07</td><td>3</td><td>2016-12-06</td></tr>",
                            "<tr><td>Kelemen Áron</td><td>2016-12-07</td><td>3</td><td>2016-12-07</td></tr>",
                            "<tr><td>Kuruc Emese</td><td>2016-12-07</td><td>3</td><td>2016-12-07</td></tr>",
                            "<tr><td>Kő Nikoletta</td><td>2016-12-08</td><td>5</td><td>2016-12-07</td></tr>",
                            "<tr><td>Botka Mátyás</td><td>2016-12-09</td><td>3</td><td>2016-12-08</td></tr>",
                            "<tr><td>Fényes Tamás</td><td>2016-12-10</td><td>3</td><td>2016-12-09</td></tr>",
                            "<tr><td>Czérna Krisztián</td><td>2016-12-11</td><td>2</td><td>2016-12-10</td></tr>",
                            "<tr><td>Kerényi Beatrix</td><td>2016-12-12</td><td>3</td><td>2016-12-11</td></tr>",
                            "<tr><td>Horváth Katalin</td><td>2016-12-13</td><td>2</td><td>2016-12-12</td></tr>",
                            "<tr><td>Móricz Árpád</td><td>2016-12-14</td><td>3</td><td>2016-12-13</td></tr>",
                            "<tr><td>Dusha Tímea</td><td>2016-12-14</td><td>4</td><td>2016-12-14</td></tr>",
                            "<tr><td>Turcsik Tünde</td><td>2016-12-15</td><td>3</td><td>2016-12-14</td></tr>",
                            "<tr><td>Bíró Ákos</td><td>2016-12-15</td><td>2</td><td>2016-12-15</td></tr>",
                            "<tr><td>Szűcs Norbert</td><td>2016-12-15</td><td>2</td><td>2016-12-15</td></tr>",
                            "<tr><td>Frank Fruzsina</td><td>2016-12-16</td><td>1</td><td>2016-12-15</td></tr>",
                            "<tr><td>Kovács Bernadett</td><td>2016-12-17</td><td>1</td><td>2016-12-16</td></tr>",
                            "<tr><td>Győrffy Bence</td><td>2016-12-17</td><td>2</td><td>2016-12-17</td></tr>",
                            "<tr><td>Barabás Pál</td><td>2016-12-17</td><td>3</td><td>2016-12-17</td></tr>",
                            "<tr><td>Kerényi Beatrix</td><td>2016-12-17</td><td>4</td><td>2016-12-17</td></tr>",
                            "<tr><td>Kovács Ágnes</td><td>2016-12-17</td><td>2</td><td>2016-12-17</td></tr>",
                            "<tr><td>Horváth Katalin</td><td>2016-12-17</td><td>1</td><td>2016-12-17</td></tr>",
                            "<tr><td>Székely Brigitta</td><td>2016-12-17</td><td>2</td><td>2016-12-17</td></tr>",
                            "<tr><td>Patay Róbert</td><td>2016-12-17</td><td>1</td><td>2016-12-17</td></tr>",
                            "<tr><td>Boros Vivien</td><td>2016-12-17</td><td>2</td><td>2016-12-17</td></tr>",
                            "<tr><td>Molnár Bálint</td><td>2016-12-17</td><td>3</td><td>2016-12-17</td></tr>",
                            "<tr><td>Horváth Árpád</td><td>2016-12-18</td><td>3</td><td>2016-12-17</td></tr>",
                            "<tr><td>Pálinkás János</td><td>2016-12-18</td><td>2</td><td>2016-12-18</td></tr>",
                            "<tr><td>Hídasi Judit</td><td>2016-12-19</td><td>1</td><td>2016-12-18</td></tr>",
                            "<tr><td>Szilágyi Mátyás</td><td>2016-12-20</td><td>2</td><td>2016-12-19</td></tr>",
                            "<tr><td>Szekendi Beatrix</td><td>2016-12-21</td><td>2</td><td>2016-12-20</td></tr>",
                            "<tr><td>Endresz Bálint</td><td>2016-12-22</td><td>2</td><td>2016-12-21</td></tr>",
                            "<tr><td>Csóti Attila</td><td>2016-12-22</td><td>2</td><td>2016-12-22</td></tr>",
                            "<tr><td>Ferencz Roland</td><td>2016-12-22</td><td>1</td><td>2016-12-22</td></tr>",
                            "<tr><td>Molnár Eszter</td><td>2016-12-23</td><td>2</td><td>2016-12-22</td></tr>",
                            "<tr><td>Boros Vivien</td><td>2016-12-24</td><td>3</td><td>2016-12-23</td></tr>",
                            "<tr><td>Ötvös Árpád</td><td>2016-12-24</td><td>3</td><td>2016-12-24</td></tr>",
                            "<tr><td>Horváth Katalin</td><td>2016-12-24</td><td>2</td><td>2016-12-24</td></tr>",
                            "<tr><td>Kazy Tihamér</td><td>2016-12-25</td><td>2</td><td>2016-12-24</td></tr>",
                            "<tr><td>Farkas Sára</td><td>2016-12-25</td><td>2</td><td>2016-12-25</td></tr>",
                            "<tr><td>Tari Szilvia</td><td>2016-12-25</td><td>5</td><td>2016-12-25</td></tr>",
                            "<tr><td>Mogyródi Krisztián</td><td>2016-12-25</td><td>2</td><td>2016-12-25</td></tr>",
                            "<tr><td>Bosnyák Ilona</td><td>2016-12-25</td><td>3</td><td>2016-12-25</td></tr>",
                            "<tr><td>Kiss Lajos</td><td>2016-12-25</td><td>4</td><td>2016-12-25</td></tr>",
                            "<tr><td>Rácz Dániel</td><td>2016-12-25</td><td>3</td><td>2016-12-25</td></tr>",
                            "<tr><td>Szalai Péter</td><td>2016-12-25</td><td>1</td><td>2016-12-25</td></tr>",
                            "<tr><td>Pintér Zoltán</td><td>2016-12-25</td><td>2</td><td>2016-12-25</td></tr>",
                            "<tr><td>Papós Tímea</td><td>2016-12-26</td><td>2</td><td>2016-12-25</td></tr>",
                            "<tr><td>Bozsik Balázs</td><td>2016-12-26</td><td>3</td><td>2016-12-26</td></tr>",
                            "<tr><td>Győrffy Bence</td><td>2016-12-26</td><td>2</td><td>2016-12-26</td></tr>",
                            "<tr><td>Tari Szilvia</td><td>2016-12-27</td><td>2</td><td>2016-12-26</td></tr>",
                            "<tr><td>Giliga János</td><td>2016-12-28</td><td>2</td><td>2016-12-27</td></tr>",
                            "<tr><td>Barna Zoltán</td><td>2016-12-29</td><td>1</td><td>2016-12-28</td></tr>",
                            "<tr><td>Molnár Bálint</td><td>2016-12-29</td><td>3</td><td>2016-12-29</td></tr>",
                            "<tr><td>Nádudvari Henrik</td><td>2016-12-29</td><td>3</td><td>2016-12-29</td></tr>",
                            "<tr><td>Bíró Ákos</td><td>2016-12-29</td><td>3</td><td>2016-12-29</td></tr>",
                            "<tr><td>Sobják Dávid</td><td>2016-12-30</td><td>2</td><td>2016-12-29</td></tr>",
                            "<tr><td>Baróti Attila</td><td>2016-12-31</td><td>2</td><td>2016-12-30</td></tr>",
                            "<tr><td>Barna Zoltán</td><td>2017-01-01</td><td>3</td><td>2016-12-31</td></tr>",
                            "<tr><td>Bozsik Balázs</td><td>2017-01-01</td><td>2</td><td>2017-01-01</td></tr>",
                            "<tr><td>Orbán Bernadett</td><td>2017-01-01</td><td>3</td><td>2017-01-01</td></tr>",
                            "<tr><td>Kelemen Áron</td><td>2017-01-01</td><td>2</td><td>2017-01-01</td></tr>",
                            "<tr><td>Soós István</td><td>2017-01-02</td><td>2</td><td>2017-01-01</td></tr>",
                            "<tr><td>Kovács Katalin</td><td>2017-01-02</td><td>3</td><td>2017-01-02</td></tr>",
                            "<tr><td>Turcsik Tünde</td><td>2017-01-03</td><td>5</td><td>2017-01-02</td></tr>",
                            "<tr><td>Molnár Bálint</td><td>2017-01-03</td><td>2</td><td>2017-01-03</td></tr>",
                            "<tr><td>Horváth Ágnes</td><td>2017-01-03</td><td>2</td><td>2017-01-03</td></tr>",
                            "<tr><td>Ferencz Roland</td><td>2017-01-04</td><td>3</td><td>2017-01-03</td></tr>",
                            "<tr><td>Keszler Dániel</td><td>2017-01-05</td><td>3</td><td>2017-01-04</td></tr>",
                            "<tr><td>Móricz Árpád</td><td>2017-01-05</td><td>1</td><td>2017-01-05</td></tr>",
                            "<tr><td>Fülöp Eszter</td><td>2017-01-05</td><td>2</td><td>2017-01-05</td></tr>",
                            "<tr><td>Czérna Krisztián</td><td>2017-01-06</td><td>1</td><td>2017-01-05</td></tr>",
                            "<tr><td>Perlinger Éva</td><td>2017-01-06</td><td>4</td><td>2017-01-06</td></tr>",
                            "<tr><td>Miklós Szabolcs</td><td>2017-01-07</td><td>2</td><td>2017-01-06</td></tr>",
                            "<tr><td>Nagymihály Lajos</td><td>2017-01-08</td><td>3</td><td>2017-01-07</td></tr>",
                            "<tr><td>Gyuris József</td><td>2017-01-09</td><td>2</td><td>2017-01-08</td></tr>",
                            "<tr><td>Back András</td><td>2017-01-09</td><td>2</td><td>2017-01-09</td></tr>",
                            "<tr><td>Barta Zsuzsanna</td><td>2017-01-09</td><td>1</td><td>2017-01-09</td></tr>",
                            "<tr><td>Szilágyi Mátyás</td><td>2017-01-09</td><td>2</td><td>2017-01-09</td></tr>",
                            "<tr><td>Rácz Dániel</td><td>2017-01-09</td><td>1</td><td>2017-01-09</td></tr>",
                            "<tr><td>Giliga János</td><td>2017-01-10</td><td>2</td><td>2017-01-09</td></tr>",
                            "<tr><td>Regős Annamária</td><td>2017-01-10</td><td>2</td><td>2017-01-10</td></tr>",
                            "<tr><td>Bucskó Róza</td><td>2017-01-11</td><td>3</td><td>2017-01-10</td></tr>",
                            "<tr><td>Szalai Péter</td><td>2017-01-12</td><td>1</td><td>2017-01-11</td></tr>",
                            "<tr><td>Bieniek Ádám</td><td>2017-01-12</td><td>2</td><td>2017-01-12</td></tr>",
                            "<tr><td>Bagóczki Alexandra</td><td>2017-01-13</td><td>1</td><td>2017-01-12</td></tr>",
                            "<tr><td>Maródi Andrea</td><td>2017-01-13</td><td>3</td><td>2017-01-13</td></tr>",
                            "<tr><td>Enyedi Éva</td><td>2017-01-14</td><td>2</td><td>2017-01-13</td></tr>",
                            "<tr><td>Gondos Katalin</td><td>2017-01-15</td><td>3</td><td>2017-01-14</td></tr>",
                            "<tr><td>Bittmann Edit</td><td>2017-01-15</td><td>4</td><td>2017-01-15</td></tr>",
                            "<tr><td>Horváth Ágnes</td><td>2017-01-16</td><td>3</td><td>2017-01-15</td></tr>",
                            "<tr><td>Szalai Szilárd</td><td>2017-01-16</td><td>3</td><td>2017-01-16</td></tr>",
                            "<tr><td>Mogyródi Krisztián</td><td>2017-01-16</td><td>1</td><td>2017-01-16</td></tr>",
                            "<tr><td>Barta Zsuzsanna</td><td>2017-01-16</td><td>2</td><td>2017-01-16</td></tr>",
                            "<tr><td>Czérna Krisztián</td><td>2017-01-16</td><td>3</td><td>2017-01-16</td></tr>",
                            "<tr><td>Koza Máté</td><td>2017-01-16</td><td>2</td><td>2017-01-16</td></tr>",
                            "<tr><td>Tóth Zoltán</td><td>2017-01-16</td><td>2</td><td>2017-01-16</td></tr>",
                            "<tr><td>Ferencz Roland</td><td>2017-01-16</td><td>2</td><td>2017-01-16</td></tr>",
                            "<tr><td>Nagymihály Lajos</td><td>2017-01-17</td><td>2</td><td>2017-01-16</td></tr>",
                            "<tr><td>Mohos Mónika</td><td>2017-01-17</td><td>1</td><td>2017-01-17</td></tr>",
                            "<tr><td>Vörös Dániel</td><td>2017-01-17</td><td>2</td><td>2017-01-17</td></tr>",
                            "<tr><td>Andor Ibolya</td><td>2017-01-17</td><td>3</td><td>2017-01-17</td></tr>",
                            "<tr><td>Jakab Áron</td><td>2017-01-17</td><td>3</td><td>2017-01-17</td></tr>",
                            "<tr><td>Ambrus Dávid</td><td>2017-01-18</td><td>2</td><td>2017-01-17</td></tr>",
                            "<tr><td>Kertész Katalin</td><td>2017-01-18</td><td>2</td><td>2017-01-18</td></tr>",
                            "<tr><td>Tankó Veronika</td><td>2017-01-19</td><td>3</td><td>2017-01-18</td></tr>",
                            "<tr><td>Bagóczki Alexandra</td><td>2017-01-19</td><td>2</td><td>2017-01-19</td></tr>",
                            "<tr><td>Kovács Katalin</td><td>2017-01-19</td><td>3</td><td>2017-01-19</td></tr>",
                            "<tr><td>Bakódy Balázs</td><td>2017-01-20</td><td>2</td><td>2017-01-19</td></tr>",
                            "<tr><td>Bori Krisztina</td><td>2017-01-21</td><td>2</td><td>2017-01-20</td></tr>",
                            "<tr><td>Gyuris József</td><td>2017-01-22</td><td>1</td><td>2017-01-21</td></tr>",
                            "<tr><td>Horváth Márk</td><td>2017-01-22</td><td>4</td><td>2017-01-22</td></tr>",
                            "<tr><td>Kornseé Gyöngyi</td><td>2017-01-22</td><td>3</td><td>2017-01-22</td></tr>",
                            "<tr><td>Neizer Andrea</td><td>2017-01-22</td><td>2</td><td>2017-01-22</td></tr>",
                            "<tr><td>Nagy Sándor</td><td>2017-01-22</td><td>2</td><td>2017-01-22</td></tr>",
                            "<tr><td>Vörös Dániel</td><td>2017-01-22</td><td>1</td><td>2017-01-22</td></tr>",
                            "<tr><td>Frank Fruzsina</td><td>2017-01-22</td><td>4</td><td>2017-01-22</td></tr>",
                            "<tr><td>Gulyás Attila</td><td>2017-01-23</td><td>4</td><td>2017-01-22</td></tr>",
                            "<tr><td>Székely Brigitta</td><td>2017-01-23</td><td>1</td><td>2017-01-23</td></tr>",
                            "<tr><td>Barna Debóra</td><td>2017-01-23</td><td>3</td><td>2017-01-23</td></tr>",
                            "<tr><td>Kardos Renáta</td><td>2017-01-23</td><td>3</td><td>2017-01-23</td></tr>",
                            "<tr><td>Kovács Bernadett</td><td>2017-01-24</td><td>3</td><td>2017-01-23</td></tr>",
                            "<tr><td>Kertész Katalin</td><td>2017-01-24</td><td>2</td><td>2017-01-24</td></tr>",
                            "<tr><td>Gyárfás Krisztina</td><td>2017-01-25</td><td>2</td><td>2017-01-24</td></tr>",
                            "<tr><td>Fülöp Eszter</td><td>2017-01-26</td><td>2</td><td>2017-01-25</td></tr>",
                            "<tr><td>Nádudvari Henrik</td><td>2017-01-27</td><td>3</td><td>2017-01-26</td></tr>",
                            "<tr><td>Orbán Bernadett</td><td>2017-01-28</td><td>2</td><td>2017-01-27</td></tr>",
                            "<tr><td>Molnár András</td><td>2017-01-28</td><td>2</td><td>2017-01-28</td></tr>",
                            "<tr><td>Tari Szilvia</td><td>2017-01-28</td><td>2</td><td>2017-01-28</td></tr>",
                            "<tr><td>Balogh Eszter</td><td>2016-12-29</td><td>1</td><td>2017-01-28</td></tr>",
                            "<tr><td>Palágyi Polla</td><td>2017-01-29</td><td>2</td><td>2016-12-29</td></tr>",
                            "<tr><td>Hegedűs Norbert</td><td>2017-01-29</td><td>3</td><td>2017-01-29</td></tr>",
                            "<tr><td>Szűcs Annamária</td><td>2017-01-30</td><td>4</td><td>2017-01-29</td></tr>",
                            "<tr><td>Kuruc Emese</td><td>2017-01-30</td><td>2</td><td>2017-01-30</td></tr>",
                            "<tr><td>Kelemen Áron</td><td>2017-01-30</td><td>2</td><td>2017-01-30</td></tr>",
                            "<tr><td>Giliga János</td><td>2017-01-31</td><td>2</td><td>2017-01-30</td></tr>",
                            "<tr><td>Papp Imre</td><td>2017-02-01</td><td>2</td><td>2017-01-31</td></tr>",
                            "<tr><td>Kő Nikoletta</td><td>2017-02-01</td><td>2</td><td>2017-02-01</td></tr>",
                            "<tr><td>Vígh András</td><td>2017-02-02</td><td>2</td><td>2017-02-01</td></tr>",
                            "<tr><td>Szekendi Beatrix</td><td>2017-02-03</td><td>2</td><td>2017-02-02</td></tr>",
                            "<tr><td>Tankó Veronika</td><td>2017-02-03</td><td>2</td><td>2017-02-03</td></tr>",
                            "<tr><td>Bárci Gusztáv</td><td>2017-02-03</td><td>2</td><td>2017-02-03</td></tr>",
                            "<tr><td>Nagy Júlia</td><td>2017-02-04</td><td>4</td><td>2017-02-03</td></tr>",
                            "<tr><td>Barna Debóra</td><td>2017-02-04</td><td>3</td><td>2017-02-04</td></tr>",
                            "<tr><td>Viktor Éva</td><td>2017-02-04</td><td>5</td><td>2017-02-04</td></tr>",
                            "<tr><td>Nagy Gabriella</td><td>2017-02-04</td><td>3</td><td>2017-02-04</td></tr>",
                            "<tr><td>Miklós Szabolcs</td><td>2017-02-04</td><td>3</td><td>2017-02-04</td></tr>",
                            "<tr><td>Horváth Krisztina</td><td>2017-02-04</td><td>3</td><td>2017-02-04</td></tr>",
                            "<tr><td>Papp Imre</td><td>2017-02-05</td><td>4</td><td>2017-02-04</td></tr>",
                            "<tr><td>Bíró Péter</td><td>2017-02-05</td><td>3</td><td>2017-02-05</td></tr>",
                            "<tr><td>Győrffy Bence</td><td>2017-02-05</td><td>3</td><td>2017-02-05</td></tr>",
                            "<tr><td>Szedlár Krisztina</td><td>2017-02-05</td><td>2</td><td>2017-02-05</td></tr>",
                            "<tr><td>Fő Nándor</td><td>2017-02-05</td><td>3</td><td>2017-02-05</td></tr>",
                            "<tr><td>Barkóci Ádám</td><td>2017-02-06</td><td>1</td><td>2017-02-05</td></tr>",
                            "<tr><td>Juhász Mihály</td><td>2017-02-06</td><td>4</td><td>2017-02-06</td></tr>",
                            "<tr><td>Mohos Mónika</td><td>2017-02-06</td><td>2</td><td>2017-02-06</td></tr>",
                            "<tr><td>Vizi István</td><td>2017-02-07</td><td>3</td><td>2017-02-06</td></tr>",
                            "<tr><td>Szalai Szilárd</td><td>2017-02-08</td><td>1</td><td>2017-02-07</td></tr>",
                            "<tr><td>Bittmann Edit</td><td>2017-02-08</td><td>3</td><td>2017-02-08</td></tr>",
                            "<tr><td>Antal László</td><td>2017-02-08</td><td>2</td><td>2017-02-08</td></tr>",
                            "<tr><td>Tóth András</td><td>2017-02-08</td><td>4</td><td>2017-02-08</td></tr>",
                            "<tr><td>Kerényi Beatrix</td><td>2017-02-08</td><td>3</td><td>2017-02-08</td></tr>",
                            "<tr><td>Pataki Brigitta</td><td>2017-02-09</td><td>2</td><td>2017-02-08</td></tr>",
                            "<tr><td>Kiss Andrea</td><td>2017-02-09</td><td>2</td><td>2017-02-09</td></tr>",
                            "<tr><td>Bozsik Balázs</td><td>2017-02-10</td><td>3</td><td>2017-02-09</td></tr>",
                            "<tr><td>Érsek Eszter</td><td>2017-02-10</td><td>2</td><td>2017-02-10</td></tr>",
                            "<tr><td>Palágyi Polla</td><td>2017-02-11</td><td>2</td><td>2017-02-10</td></tr>",
                            "<tr><td>Bozsik Balázs</td><td>2017-02-12</td><td>2</td><td>2017-02-11</td></tr>",
                            "<tr><td>Tóth Anikó</td><td>2017-02-12</td><td>3</td><td>2017-02-12</td></tr>",
                            "<tr><td>Rácz Dániel</td><td>2017-02-12</td><td>3</td><td>2017-02-12</td></tr>",
                            "<tr><td>Bajusz Bence</td><td>2017-02-12</td><td>3</td><td>2017-02-12</td></tr>",
                            "<tr><td>Móricz Árpád</td><td>2017-02-12</td><td>3</td><td>2017-02-12</td></tr>",
                            "<tr><td>Kiss Lajos</td><td>2017-02-12</td><td>1</td><td>2017-02-12</td></tr>",
                            "<tr><td>Nagy Gabriella</td><td>2017-02-12</td><td>2</td><td>2017-02-12</td></tr>",
                            "<tr><td>Fényes Tamás</td><td>2017-02-12</td><td>2</td><td>2017-02-12</td></tr>",
                            "<tr><td>Harangozó János</td><td>2017-02-12</td><td>3</td><td>2017-02-12</td></tr>",
                            "<tr><td>Oroszi György</td><td>2017-02-13</td><td>2</td><td>2017-02-12</td></tr>",
                            "<tr><td>Szűcs Norbert</td><td>2017-02-13</td><td>3</td><td>2017-02-13</td></tr>",
                            "<tr><td>Szirmai Renáta</td><td>2017-02-13</td><td>1</td><td>2017-02-13</td></tr>",
                            "<tr><td>Barabás Pál</td><td>2017-02-13</td><td>3</td><td>2017-02-13</td></tr>",
                            "<tr><td>Nagymihály Csongor</td><td>2017-02-13</td><td>3</td><td>2017-02-13</td></tr>",
                            "<tr><td>Szirmai Renáta</td><td>2017-02-14</td><td>2</td><td>2017-02-13</td></tr>",
                            "<tr><td>Simon Bernadett</td><td>2017-02-14</td><td>3</td><td>2017-02-14</td></tr>",
                            "<tr><td>Antal Tamás</td><td>2017-02-14</td><td>3</td><td>2017-02-14</td></tr>",
                            "<tr><td>Baróti Attila</td><td>2017-02-15</td><td>2</td><td>2017-02-14</td></tr>",
                            "<tr><td>Csiger Bertalan</td><td>2017-02-16</td><td>2</td><td>2017-02-15</td></tr>",
                            "<tr><td>Fényes Tamás</td><td>2017-02-16</td><td>4</td><td>2017-02-16</td></tr>",
                            "<tr><td>Horváth Árpád</td><td>2017-02-16</td><td>2</td><td>2017-02-16</td></tr>",
                            "<tr><td>Regős Annamária</td><td>2017-02-16</td><td>2</td><td>2017-02-16</td></tr>",
                            "<tr><td>Berta Dávid</td><td>2017-02-16</td><td>3</td><td>2017-02-16</td></tr>",
                            "<tr><td>Mile Norbert</td><td>2017-02-16</td><td>1</td><td>2017-02-16</td></tr>",
                            "<tr><td>Szedlár Krisztina</td><td>2017-02-16</td><td>4</td><td>2017-02-16</td></tr>",
                            "<tr><td>Kardos Renáta</td><td>2017-02-16</td><td>1</td><td>2017-02-16</td></tr>",
                            "<tr><td>Hartyánszky Ágnes</td><td>2017-02-16</td><td>3</td><td>2017-02-16</td></tr>",
                            "<tr><td>Iván Róbert</td><td>2017-02-17</td><td>2</td><td>2017-02-16</td></tr>",
                            "<tr><td>Sobják Dávid</td><td>2017-02-17</td><td>3</td><td>2017-02-17</td></tr>",
                            "<tr><td>Molnár Zsófi</td><td>2017-02-18</td><td>3</td><td>2017-02-17</td></tr>",
                            "<tr><td>Nagy László</td><td>2017-02-18</td><td>3</td><td>2017-02-18</td></tr>",
                            "<tr><td>Bucskó Róza</td><td>2017-02-18</td><td>3</td><td>2017-02-18</td></tr>",
                            "<tr><td>Ötvös Árpád</td><td>2017-02-18</td><td>4</td><td>2017-02-18</td></tr>",
                            "<tr><td>Hamvay-Kovács Anita</td><td>2017-02-19</td><td>2</td><td>2017-02-18</td></tr>",
                            "<tr><td>Barabás Pál</td><td>2017-02-20</td><td>3</td><td>2017-02-19</td></tr>",
                            "<tr><td>Hamvay-Kovács Anita</td><td>2017-02-20</td><td>2</td><td>2017-02-20</td></tr>",
                            "<tr><td>Rácz Dániel</td><td>2017-02-20</td><td>3</td><td>2017-02-20</td></tr>",
                            "<tr><td>Csiger Bertalan</td><td>2017-02-20</td><td>4</td><td>2017-02-20</td></tr>",
                            "<tr><td>Nagy Gabriella</td><td>2017-02-21</td><td>3</td><td>2017-02-20</td></tr>",
                            "<tr><td>Szalai Péter</td><td>2017-02-21</td><td>2</td><td>2017-02-21</td></tr>",
                            "<tr><td>Kelemen Áron</td><td>2017-02-21</td><td>2</td><td>2017-02-21</td></tr>",
                            "<tr><td>Opra Attila</td><td>2017-02-22</td><td>3</td><td>2017-02-21</td></tr>",
                            "<tr><td>Tóth Anikó</td><td>2017-02-23</td><td>2</td><td>2017-02-22</td></tr>",
                            "<tr><td>Bieniek Ádám</td><td>2017-02-23</td><td>3</td><td>2017-02-23</td></tr>",
                            "<tr><td>Mohos Mónika</td><td>2017-02-23</td><td>2</td><td>2017-02-23</td></tr>",
                            "<tr><td>Bárci Gusztáv</td><td>2017-02-23</td><td>4</td><td>2017-02-23</td></tr>",
                            "<tr><td>Czérna Krisztián</td><td>2017-02-23</td><td>2</td><td>2017-02-23</td></tr>",
                            "<tr><td>Kozma Péter</td><td>2017-02-23</td><td>3</td><td>2017-02-23</td></tr>",
                            "<tr><td>Oroszi György</td><td>2017-02-24</td><td>3</td><td>2017-02-23</td></tr>",
                            "<tr><td>Baráth Mária</td><td>2017-02-24</td><td>2</td><td>2017-02-24</td></tr>",
                            "<tr><td>Simon Bernadett</td><td>2017-02-24</td><td>1</td><td>2017-02-24</td></tr>",
                            "<tr><td>Gyuris József</td><td>2017-02-24</td><td>3</td><td>2017-02-24</td></tr>",
                            "<tr><td>Horváth Katalin</td><td>2017-02-24</td><td>3</td><td>2017-02-24</td></tr>",
                            "<tr><td>Vörös Dániel</td><td>2017-02-25</td><td>3</td><td>2017-02-24</td></tr>",
                            "<tr><td>Sobják Dávid</td><td>2017-02-25</td><td>4</td><td>2017-02-25</td></tr>",
                            "<tr><td>Jakab Áron</td><td>2017-02-26</td><td>3</td><td>2017-02-25</td></tr>",
                            "<tr><td>Fülöp Eszter</td><td>2017-02-26</td><td>3</td><td>2017-02-26</td></tr>",
                            "<tr><td>Szikszai Réka</td><td>2017-02-26</td><td>2</td><td>2017-02-26</td></tr>",
                            "<tr><td>Szűcs Norbert</td><td>2017-02-26</td><td>1</td><td>2017-02-26</td></tr>",
                            "<tr><td>Tóth Júlia</td><td>2017-02-27</td><td>3</td><td>2017-02-26</td></tr>",
                            "<tr><td>Szűcs Balázs</td><td>2017-02-27</td><td>1</td><td>2017-02-27</td></tr>",
                            "<tr><td>Kozma Péter</td><td>2017-02-28</td><td>3</td><td>2017-02-27</td></tr>",
                            "<tr><td>Keszler Dániel</td><td>2017-03-01</td><td>4</td><td>2017-02-28</td></tr>",
                            "<tr><td>Kardos Renáta</td><td>2017-03-01</td><td>1</td><td>2017-03-01</td></tr>",
                            "<tr><td>Kalacsi Márton</td><td>2017-03-02</td><td>2</td><td>2017-03-01</td></tr>",
                            "<tr><td>Mile Norbert</td><td>2017-03-03</td><td>2</td><td>2017-03-02</td></tr>",
                            "<tr><td>Horváth Krisztina</td><td>2017-03-03</td><td>3</td><td>2017-03-03</td></tr>",
                            "</table>"
                        ]
                    }
                }
            ],
            "execution_count": 6
        },
        {
            "cell_type": "markdown",
            "source": [
                "4. <span style=\"background-color: rgb(239, 249, 252); color: rgb(18, 38, 44); font-family: Arial; font-size: 15px;\">Kapcsoljuk be az Include Client Statistics funkciót, majd&nbsp;</span> <span style=\"color: rgb(18, 38, 44); font-family: Arial; font-size: 0.9375rem; box-sizing: border-box;\">futtassuk le a mellékletben szereplő 1-es és 2-es lekérdezéseket&nbsp;</span> <span style=\"color: rgb(18, 38, 44); font-family: Arial; font-size: 0.9375rem; box-sizing: border-box;\">külön ablakban, mindegyiket 5 alkalommal.&nbsp;</span> \n",
                "\n",
                "<span style=\"box-sizing: border-box; font-size: 0.9375rem;\">a. Ezután hasonlítsuk&nbsp;</span> <span style=\"box-sizing: border-box; font-size: 0.9375rem;\">össze a Client Statistics értékei közül a Time Statistics&nbsp;</span> <span style=\"box-sizing: border-box; font-size: 0.9375rem;\">értékeit. Van-e különbség közöttük?</span>"
            ],
            "metadata": {
                "azdata_cell_guid": "ab200a68-1d7b-4b48-b4e0-ed870e3247f3"
            },
            "attachments": {}
        },
        {
            "cell_type": "code",
            "source": [
                "SELECT\r\n",
                "FROM "
            ],
            "metadata": {
                "azdata_cell_guid": "9869ea7b-3957-43d6-857c-45dc436ce862",
                "language": "sql"
            },
            "outputs": [],
            "execution_count": null
        },
        {
            "cell_type": "markdown",
            "source": [
                "5. <span style=\"background-color: rgb(239, 249, 252); color: rgb(18, 38, 44); font-family: Arial; font-size: 15px;\">A mellékletben lévő 3-as lekérdezésben a táblák összekapcsolását&nbsp;</span> <span style=\"color: rgb(18, 38, 44); font-family: Arial; font-size: 0.9375rem; box-sizing: border-box;\">a WHERE feltételben megfogalmazott egyenlőségek helyett oldjuk&nbsp;</span> <span style=\"color: rgb(18, 38, 44); font-family: Arial; font-size: 0.9375rem; box-sizing: border-box;\">meg JOIN-ok segítségével egy új ablakban.&nbsp;</span> \n",
                "\n",
                "<span style=\"box-sizing: border-box; font-size: 0.9375rem;\">a. Hasonlítsuk össze&nbsp;</span> <span style=\"box-sizing: border-box; font-size: 0.9375rem;\">a lekérdezések becsült végrehajtási terveit (Estimated Execution&nbsp;</span> <span style=\"box-sizing: border-box; font-size: 0.9375rem;\">Plan), majd az átlagos futási idejüket 3-3 futtatás után. Mit&nbsp;</span> <span style=\"box-sizing: border-box; font-size: 0.9375rem;\">tapasztalunk?</span>"
            ],
            "metadata": {
                "azdata_cell_guid": "9c8962ab-3f9d-44af-9254-6df8ae7ed553"
            },
            "attachments": {}
        },
        {
            "cell_type": "code",
            "source": [
                "SELECT szh.SZALLAS_ID, szh.SZALLAS_NEV\r\n",
                "FROM Foglalas f \r\n",
                "    JOIN Szoba sz ON f.SZOBA_FK=sz.SZOBA_ID\r\n",
                "    JOIN Szallashely szh ON szh.SZALLAS_ID = sz.SZALLAS_FK\r\n",
                "GROUP BY szh.SZALLAS_ID, szh.SZALLAS_NEV\r\n",
                "ORDER BY COUNT(*) DESC"
            ],
            "metadata": {
                "azdata_cell_guid": "1de127b5-0c0c-4446-9f36-646a304f4caf",
                "language": "sql"
            },
            "outputs": [
                {
                    "output_type": "display_data",
                    "data": {
                        "text/html": "(12 rows affected)"
                    },
                    "metadata": {}
                },
                {
                    "output_type": "display_data",
                    "data": {
                        "text/html": "Total execution time: 00:00:00.065"
                    },
                    "metadata": {}
                },
                {
                    "output_type": "execute_result",
                    "metadata": {},
                    "execution_count": 11,
                    "data": {
                        "application/vnd.dataresource+json": {
                            "schema": {
                                "fields": [
                                    {
                                        "name": "SZALLAS_ID"
                                    },
                                    {
                                        "name": "SZALLAS_NEV"
                                    }
                                ]
                            },
                            "data": [
                                {
                                    "SZALLAS_ID": "8",
                                    "SZALLAS_NEV": "Hotel Három Hattyú"
                                },
                                {
                                    "SZALLAS_ID": "12",
                                    "SZALLAS_NEV": "Gold Hotel"
                                },
                                {
                                    "SZALLAS_ID": "6",
                                    "SZALLAS_NEV": "Kentaur Hotel"
                                },
                                {
                                    "SZALLAS_ID": "10",
                                    "SZALLAS_NEV": "Lagúna Hotel"
                                },
                                {
                                    "SZALLAS_ID": "4",
                                    "SZALLAS_NEV": "Fortuna panzió"
                                },
                                {
                                    "SZALLAS_ID": "1",
                                    "SZALLAS_NEV": "Sába-Ház"
                                },
                                {
                                    "SZALLAS_ID": "5",
                                    "SZALLAS_NEV": "Fortuna Panzió"
                                },
                                {
                                    "SZALLAS_ID": "3",
                                    "SZALLAS_NEV": "Fortuna Apartman"
                                },
                                {
                                    "SZALLAS_ID": "7",
                                    "SZALLAS_NEV": "Szieszta Apartmanház"
                                },
                                {
                                    "SZALLAS_ID": "9",
                                    "SZALLAS_NEV": "Jáde panzió"
                                },
                                {
                                    "SZALLAS_ID": "11",
                                    "SZALLAS_NEV": "Partiszél Vendégház"
                                },
                                {
                                    "SZALLAS_ID": "2",
                                    "SZALLAS_NEV": "Családi Ház"
                                }
                            ]
                        },
                        "text/html": [
                            "<table>",
                            "<tr><th>SZALLAS_ID</th><th>SZALLAS_NEV</th></tr>",
                            "<tr><td>8</td><td>Hotel Három Hattyú</td></tr>",
                            "<tr><td>12</td><td>Gold Hotel</td></tr>",
                            "<tr><td>6</td><td>Kentaur Hotel</td></tr>",
                            "<tr><td>10</td><td>Lagúna Hotel</td></tr>",
                            "<tr><td>4</td><td>Fortuna panzió</td></tr>",
                            "<tr><td>1</td><td>Sába-Ház</td></tr>",
                            "<tr><td>5</td><td>Fortuna Panzió</td></tr>",
                            "<tr><td>3</td><td>Fortuna Apartman</td></tr>",
                            "<tr><td>7</td><td>Szieszta Apartmanház</td></tr>",
                            "<tr><td>9</td><td>Jáde panzió</td></tr>",
                            "<tr><td>11</td><td>Partiszél Vendégház</td></tr>",
                            "<tr><td>2</td><td>Családi Ház</td></tr>",
                            "</table>"
                        ]
                    }
                }
            ],
            "execution_count": 11
        }
    ]
}