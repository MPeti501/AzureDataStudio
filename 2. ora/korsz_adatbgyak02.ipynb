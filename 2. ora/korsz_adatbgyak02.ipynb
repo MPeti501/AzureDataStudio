{
    "metadata": {
        "kernelspec": {
            "name": "SQL",
            "display_name": "SQL",
            "language": "sql"
        },
        "language_info": {
            "name": "sql",
            "version": ""
        },
        "extensions": {
            "azuredatastudio": {
                "version": 1,
                "views": []
            }
        }
    },
    "nbformat_minor": 2,
    "nbformat": 4,
    "cells": [
        {
            "cell_type": "markdown",
            "source": [
                "<span style=\"color: #09885a;\">1. </span> Készítsünk listát arról, hogy melyik ügyfél (<span style=\"color: rgb(0, 0, 255);\">LOGIN</span>) hányszor rendelt  \n",
                "összesen. A lista tartalmazza a végösszeget <span style=\"color: rgb(0, 0, 255);\">is</span>. A listát rendezzük  \n",
                "a rendelések száma szerint növekvő sorrendbe!"
            ],
            "metadata": {
                "azdata_cell_guid": "25ef83ae-5fe7-48db-9faf-792af8dce555"
            },
            "attachments": {}
        },
        {
            "cell_type": "code",
            "source": [
                "SELECT [LOGIN], COUNT(*) AS 'DB'\r\n",
                "FROM Rendeles\r\n",
                "GROUP BY ROLLUP([LOGIN])\r\n",
                "ORDER BY 2 "
            ],
            "metadata": {
                "azdata_cell_guid": "0204549b-7a8b-46a5-9862-70e57a3de34f",
                "language": "sql"
            },
            "outputs": [
                {
                    "output_type": "display_data",
                    "data": {
                        "text/html": "(192 rows affected)"
                    },
                    "metadata": {}
                },
                {
                    "output_type": "display_data",
                    "data": {
                        "text/html": "Total execution time: 00:00:00.212"
                    },
                    "metadata": {}
                },
                {
                    "output_type": "execute_result",
                    "metadata": {},
                    "execution_count": 1,
                    "data": {
                        "application/vnd.dataresource+json": {
                            "schema": {
                                "fields": [
                                    {
                                        "name": "LOGIN"
                                    },
                                    {
                                        "name": "DB"
                                    }
                                ]
                            },
                            "data": [
                                {
                                    "LOGIN": "EVAV",
                                    "DB": "7"
                                },
                                {
                                    "LOGIN": "roza2",
                                    "DB": "8"
                                },
                                {
                                    "LOGIN": "andras3",
                                    "DB": "9"
                                },
                                {
                                    "LOGIN": "denes",
                                    "DB": "9"
                                },
                                {
                                    "LOGIN": "JANOSG",
                                    "DB": "10"
                                },
                                {
                                    "LOGIN": "maria1",
                                    "DB": "10"
                                },
                                {
                                    "LOGIN": "kornel4",
                                    "DB": "11"
                                },
                                {
                                    "LOGIN": "norbert2",
                                    "DB": "11"
                                },
                                {
                                    "LOGIN": "istvan",
                                    "DB": "11"
                                },
                                {
                                    "LOGIN": "AGNESH",
                                    "DB": "11"
                                },
                                {
                                    "LOGIN": "sandor4",
                                    "DB": "11"
                                },
                                {
                                    "LOGIN": "andras4",
                                    "DB": "12"
                                },
                                {
                                    "LOGIN": "anita",
                                    "DB": "12"
                                },
                                {
                                    "LOGIN": "kata",
                                    "DB": "12"
                                },
                                {
                                    "LOGIN": "MATYASS",
                                    "DB": "12"
                                },
                                {
                                    "LOGIN": "MIHALYJ",
                                    "DB": "13"
                                },
                                {
                                    "LOGIN": "miklos2",
                                    "DB": "13"
                                },
                                {
                                    "LOGIN": "norbert4",
                                    "DB": "13"
                                },
                                {
                                    "LOGIN": "kati",
                                    "DB": "13"
                                },
                                {
                                    "LOGIN": "kriszti",
                                    "DB": "13"
                                },
                                {
                                    "LOGIN": "jozsef2",
                                    "DB": "13"
                                },
                                {
                                    "LOGIN": "janos3",
                                    "DB": "13"
                                },
                                {
                                    "LOGIN": "ANNAMARIAR",
                                    "DB": "13"
                                },
                                {
                                    "LOGIN": "edit",
                                    "DB": "13"
                                },
                                {
                                    "LOGIN": "dani",
                                    "DB": "13"
                                },
                                {
                                    "LOGIN": "daniel",
                                    "DB": "13"
                                },
                                {
                                    "LOGIN": "tamara2",
                                    "DB": "13"
                                },
                                {
                                    "LOGIN": "robert2",
                                    "DB": "13"
                                },
                                {
                                    "LOGIN": "ROBERTI",
                                    "DB": "13"
                                },
                                {
                                    "LOGIN": "valentin",
                                    "DB": "13"
                                },
                                {
                                    "LOGIN": "ZOLTANP",
                                    "DB": "13"
                                },
                                {
                                    "LOGIN": "VIKTORIAU",
                                    "DB": "14"
                                },
                                {
                                    "LOGIN": "sandor3",
                                    "DB": "14"
                                },
                                {
                                    "LOGIN": "ATTILAO",
                                    "DB": "14"
                                },
                                {
                                    "LOGIN": "ARPADH",
                                    "DB": "14"
                                },
                                {
                                    "LOGIN": "julia4",
                                    "DB": "14"
                                },
                                {
                                    "LOGIN": "gabriella1",
                                    "DB": "14"
                                },
                                {
                                    "LOGIN": "gusztav",
                                    "DB": "14"
                                },
                                {
                                    "LOGIN": "marton",
                                    "DB": "14"
                                },
                                {
                                    "LOGIN": "PETERB",
                                    "DB": "15"
                                },
                                {
                                    "LOGIN": "MIKLOSB",
                                    "DB": "15"
                                },
                                {
                                    "LOGIN": "GYONGYIK",
                                    "DB": "15"
                                },
                                {
                                    "LOGIN": "GABORS",
                                    "DB": "15"
                                },
                                {
                                    "LOGIN": "imre",
                                    "DB": "15"
                                },
                                {
                                    "LOGIN": "imre1",
                                    "DB": "15"
                                },
                                {
                                    "LOGIN": "aniko4",
                                    "DB": "15"
                                },
                                {
                                    "LOGIN": "AGNESK",
                                    "DB": "15"
                                },
                                {
                                    "LOGIN": "adam3",
                                    "DB": "15"
                                },
                                {
                                    "LOGIN": "balazs3",
                                    "DB": "15"
                                },
                                {
                                    "LOGIN": "bernadett2",
                                    "DB": "15"
                                },
                                {
                                    "LOGIN": "csongor3",
                                    "DB": "15"
                                },
                                {
                                    "LOGIN": "SEBASTIANF",
                                    "DB": "15"
                                },
                                {
                                    "LOGIN": "zoltan",
                                    "DB": "15"
                                },
                                {
                                    "LOGIN": "zsuzsanna",
                                    "DB": "15"
                                },
                                {
                                    "LOGIN": "zsuzsa",
                                    "DB": "16"
                                },
                                {
                                    "LOGIN": "zsuzsa3",
                                    "DB": "16"
                                },
                                {
                                    "LOGIN": "timea2",
                                    "DB": "16"
                                },
                                {
                                    "LOGIN": "tunde",
                                    "DB": "16"
                                },
                                {
                                    "LOGIN": "sebestyen",
                                    "DB": "16"
                                },
                                {
                                    "LOGIN": "RENATAS",
                                    "DB": "16"
                                },
                                {
                                    "LOGIN": "debora",
                                    "DB": "16"
                                },
                                {
                                    "LOGIN": "BERNADETTO",
                                    "DB": "16"
                                },
                                {
                                    "LOGIN": "balint",
                                    "DB": "16"
                                },
                                {
                                    "LOGIN": "annamaria1",
                                    "DB": "16"
                                },
                                {
                                    "LOGIN": "ARPADM",
                                    "DB": "16"
                                },
                                {
                                    "LOGIN": "gabriella10",
                                    "DB": "16"
                                },
                                {
                                    "LOGIN": "GYORGYO",
                                    "DB": "16"
                                },
                                {
                                    "LOGIN": "henrik3",
                                    "DB": "16"
                                },
                                {
                                    "LOGIN": "lajos",
                                    "DB": "16"
                                },
                                {
                                    "LOGIN": "norbert5",
                                    "DB": "16"
                                },
                                {
                                    "LOGIN": "nikolett3",
                                    "DB": "17"
                                },
                                {
                                    "LOGIN": "rajmond4",
                                    "DB": "17"
                                },
                                {
                                    "LOGIN": "lala",
                                    "DB": "17"
                                },
                                {
                                    "LOGIN": "klaudia2",
                                    "DB": "17"
                                },
                                {
                                    "LOGIN": "JANOSP",
                                    "DB": "17"
                                },
                                {
                                    "LOGIN": "krisztian4",
                                    "DB": "17"
                                },
                                {
                                    "LOGIN": "arpad2",
                                    "DB": "17"
                                },
                                {
                                    "LOGIN": "balint2",
                                    "DB": "17"
                                },
                                {
                                    "LOGIN": "balazs2",
                                    "DB": "17"
                                },
                                {
                                    "LOGIN": "BENCEB",
                                    "DB": "17"
                                },
                                {
                                    "LOGIN": "david1",
                                    "DB": "17"
                                },
                                {
                                    "LOGIN": "sandor",
                                    "DB": "17"
                                },
                                {
                                    "LOGIN": "veronika4",
                                    "DB": "18"
                                },
                                {
                                    "LOGIN": "ZSOLTJ",
                                    "DB": "18"
                                },
                                {
                                    "LOGIN": "BELAF",
                                    "DB": "18"
                                },
                                {
                                    "LOGIN": "bence",
                                    "DB": "18"
                                },
                                {
                                    "LOGIN": "attila1",
                                    "DB": "18"
                                },
                                {
                                    "LOGIN": "andrea4",
                                    "DB": "18"
                                },
                                {
                                    "LOGIN": "anett3",
                                    "DB": "18"
                                },
                                {
                                    "LOGIN": "andi",
                                    "DB": "18"
                                },
                                {
                                    "LOGIN": "fruzsina4",
                                    "DB": "18"
                                },
                                {
                                    "LOGIN": "ilona3",
                                    "DB": "18"
                                },
                                {
                                    "LOGIN": "peter2",
                                    "DB": "18"
                                },
                                {
                                    "LOGIN": "istvan1",
                                    "DB": "19"
                                },
                                {
                                    "LOGIN": "gabor1",
                                    "DB": "19"
                                },
                                {
                                    "LOGIN": "katalin",
                                    "DB": "19"
                                },
                                {
                                    "LOGIN": "alexandra",
                                    "DB": "19"
                                },
                                {
                                    "LOGIN": "zsofi1",
                                    "DB": "19"
                                },
                                {
                                    "LOGIN": "zsolt1",
                                    "DB": "20"
                                },
                                {
                                    "LOGIN": "VIKTORK",
                                    "DB": "20"
                                },
                                {
                                    "LOGIN": "tihamer",
                                    "DB": "20"
                                },
                                {
                                    "LOGIN": "sara",
                                    "DB": "20"
                                },
                                {
                                    "LOGIN": "bernadett1",
                                    "DB": "20"
                                },
                                {
                                    "LOGIN": "gabor4",
                                    "DB": "20"
                                },
                                {
                                    "LOGIN": "reka4",
                                    "DB": "20"
                                },
                                {
                                    "LOGIN": "kristof4",
                                    "DB": "21"
                                },
                                {
                                    "LOGIN": "ISTVANV",
                                    "DB": "21"
                                },
                                {
                                    "LOGIN": "georgij",
                                    "DB": "21"
                                },
                                {
                                    "LOGIN": "JOZSEFG",
                                    "DB": "21"
                                },
                                {
                                    "LOGIN": "david4",
                                    "DB": "21"
                                },
                                {
                                    "LOGIN": "ANDREAT",
                                    "DB": "21"
                                },
                                {
                                    "LOGIN": "andras2",
                                    "DB": "22"
                                },
                                {
                                    "LOGIN": "ESZTERE",
                                    "DB": "22"
                                },
                                {
                                    "LOGIN": "katka",
                                    "DB": "22"
                                },
                                {
                                    "LOGIN": "krisztina1",
                                    "DB": "22"
                                },
                                {
                                    "LOGIN": "KRISZTINAG",
                                    "DB": "22"
                                },
                                {
                                    "LOGIN": "polla",
                                    "DB": "22"
                                },
                                {
                                    "LOGIN": "vivien3",
                                    "DB": "22"
                                },
                                {
                                    "LOGIN": "katalin4",
                                    "DB": "23"
                                },
                                {
                                    "LOGIN": "ANDRASN",
                                    "DB": "24"
                                },
                                {
                                    "LOGIN": "andrea",
                                    "DB": "24"
                                },
                                {
                                    "LOGIN": "peter3",
                                    "DB": "25"
                                },
                                {
                                    "LOGIN": "NIKOLETTAT",
                                    "DB": "25"
                                },
                                {
                                    "LOGIN": "MATEK",
                                    "DB": "25"
                                },
                                {
                                    "LOGIN": "laszlo2",
                                    "DB": "25"
                                },
                                {
                                    "LOGIN": "tibor2",
                                    "DB": "25"
                                },
                                {
                                    "LOGIN": "ROBERTP",
                                    "DB": "26"
                                },
                                {
                                    "LOGIN": "julianna4",
                                    "DB": "27"
                                },
                                {
                                    "LOGIN": "adam4",
                                    "DB": "29"
                                },
                                {
                                    "LOGIN": "timea",
                                    "DB": "55"
                                },
                                {
                                    "LOGIN": "bertalan",
                                    "DB": "353"
                                },
                                {
                                    "LOGIN": "ZOLTANT",
                                    "DB": "357"
                                },
                                {
                                    "LOGIN": "tibor",
                                    "DB": "374"
                                },
                                {
                                    "LOGIN": "jozsef",
                                    "DB": "382"
                                },
                                {
                                    "LOGIN": "KRISZTIANM",
                                    "DB": "384"
                                },
                                {
                                    "LOGIN": "SZILARDS",
                                    "DB": "386"
                                },
                                {
                                    "LOGIN": "balu",
                                    "DB": "387"
                                },
                                {
                                    "LOGIN": "andras21",
                                    "DB": "390"
                                },
                                {
                                    "LOGIN": "adam1",
                                    "DB": "392"
                                },
                                {
                                    "LOGIN": "brigitta",
                                    "DB": "393"
                                },
                                {
                                    "LOGIN": "laszlo1",
                                    "DB": "394"
                                },
                                {
                                    "LOGIN": "LASZLON",
                                    "DB": "400"
                                },
                                {
                                    "LOGIN": "attila4",
                                    "DB": "401"
                                },
                                {
                                    "LOGIN": "aniko",
                                    "DB": "403"
                                },
                                {
                                    "LOGIN": "ANIKOS",
                                    "DB": "404"
                                },
                                {
                                    "LOGIN": "eva",
                                    "DB": "404"
                                },
                                {
                                    "LOGIN": "emese",
                                    "DB": "406"
                                },
                                {
                                    "LOGIN": "MONIKAM",
                                    "DB": "407"
                                },
                                {
                                    "LOGIN": "aladar",
                                    "DB": "408"
                                },
                                {
                                    "LOGIN": "SZABOLCSM",
                                    "DB": "408"
                                },
                                {
                                    "LOGIN": "aron2",
                                    "DB": "409"
                                },
                                {
                                    "LOGIN": "MARKH",
                                    "DB": "412"
                                },
                                {
                                    "LOGIN": "peter1",
                                    "DB": "412"
                                },
                                {
                                    "LOGIN": "andrea3",
                                    "DB": "413"
                                },
                                {
                                    "LOGIN": "brigitta3",
                                    "DB": "413"
                                },
                                {
                                    "LOGIN": "nikoletta4",
                                    "DB": "414"
                                },
                                {
                                    "LOGIN": "roland",
                                    "DB": "414"
                                },
                                {
                                    "LOGIN": "eszter2",
                                    "DB": "415"
                                },
                                {
                                    "LOGIN": "agnes",
                                    "DB": "418"
                                },
                                {
                                    "LOGIN": "andras41",
                                    "DB": "419"
                                },
                                {
                                    "LOGIN": "daniel1",
                                    "DB": "419"
                                },
                                {
                                    "LOGIN": "balazs1",
                                    "DB": "419"
                                },
                                {
                                    "LOGIN": "BEATRIXS",
                                    "DB": "420"
                                },
                                {
                                    "LOGIN": "NANDORF",
                                    "DB": "420"
                                },
                                {
                                    "LOGIN": "ZSUZSAV",
                                    "DB": "420"
                                },
                                {
                                    "LOGIN": "tamas",
                                    "DB": "421"
                                },
                                {
                                    "LOGIN": "RENATAK",
                                    "DB": "422"
                                },
                                {
                                    "LOGIN": "IBOLYAA",
                                    "DB": "422"
                                },
                                {
                                    "LOGIN": "eszter4",
                                    "DB": "424"
                                },
                                {
                                    "LOGIN": "zoltan4",
                                    "DB": "424"
                                },
                                {
                                    "LOGIN": "akos",
                                    "DB": "429"
                                },
                                {
                                    "LOGIN": "agnes3",
                                    "DB": "430"
                                },
                                {
                                    "LOGIN": "ARONK",
                                    "DB": "430"
                                },
                                {
                                    "LOGIN": "dora3",
                                    "DB": "432"
                                },
                                {
                                    "LOGIN": "roland1",
                                    "DB": "432"
                                },
                                {
                                    "LOGIN": "TAMASF",
                                    "DB": "433"
                                },
                                {
                                    "LOGIN": "matyas2",
                                    "DB": "433"
                                },
                                {
                                    "LOGIN": "julia",
                                    "DB": "435"
                                },
                                {
                                    "LOGIN": "BEATRIXK",
                                    "DB": "435"
                                },
                                {
                                    "LOGIN": "ANDRASE",
                                    "DB": "436"
                                },
                                {
                                    "LOGIN": "ferenc1",
                                    "DB": "437"
                                },
                                {
                                    "LOGIN": "pal",
                                    "DB": "438"
                                },
                                {
                                    "LOGIN": "szilvia1",
                                    "DB": "445"
                                },
                                {
                                    "LOGIN": "LASZLOA",
                                    "DB": "446"
                                },
                                {
                                    "LOGIN": "JUDITH",
                                    "DB": "450"
                                },
                                {
                                    "LOGIN": "david",
                                    "DB": "451"
                                },
                                {
                                    "LOGIN": "krisztina",
                                    "DB": "456"
                                },
                                {
                                    "LOGIN": "eva2",
                                    "DB": "462"
                                },
                                {
                                    "LOGIN": "balint1",
                                    "DB": "462"
                                },
                                {
                                    "LOGIN": "szabolcs",
                                    "DB": "471"
                                },
                                {
                                    "LOGIN": "peter4",
                                    "DB": "852"
                                },
                                {
                                    "LOGIN": "NULL",
                                    "DB": "28085"
                                }
                            ]
                        },
                        "text/html": [
                            "<table>",
                            "<tr><th>LOGIN</th><th>DB</th></tr>",
                            "<tr><td>EVAV</td><td>7</td></tr>",
                            "<tr><td>roza2</td><td>8</td></tr>",
                            "<tr><td>andras3</td><td>9</td></tr>",
                            "<tr><td>denes</td><td>9</td></tr>",
                            "<tr><td>JANOSG</td><td>10</td></tr>",
                            "<tr><td>maria1</td><td>10</td></tr>",
                            "<tr><td>kornel4</td><td>11</td></tr>",
                            "<tr><td>norbert2</td><td>11</td></tr>",
                            "<tr><td>istvan</td><td>11</td></tr>",
                            "<tr><td>AGNESH</td><td>11</td></tr>",
                            "<tr><td>sandor4</td><td>11</td></tr>",
                            "<tr><td>andras4</td><td>12</td></tr>",
                            "<tr><td>anita</td><td>12</td></tr>",
                            "<tr><td>kata</td><td>12</td></tr>",
                            "<tr><td>MATYASS</td><td>12</td></tr>",
                            "<tr><td>MIHALYJ</td><td>13</td></tr>",
                            "<tr><td>miklos2</td><td>13</td></tr>",
                            "<tr><td>norbert4</td><td>13</td></tr>",
                            "<tr><td>kati</td><td>13</td></tr>",
                            "<tr><td>kriszti</td><td>13</td></tr>",
                            "<tr><td>jozsef2</td><td>13</td></tr>",
                            "<tr><td>janos3</td><td>13</td></tr>",
                            "<tr><td>ANNAMARIAR</td><td>13</td></tr>",
                            "<tr><td>edit</td><td>13</td></tr>",
                            "<tr><td>dani</td><td>13</td></tr>",
                            "<tr><td>daniel</td><td>13</td></tr>",
                            "<tr><td>tamara2</td><td>13</td></tr>",
                            "<tr><td>robert2</td><td>13</td></tr>",
                            "<tr><td>ROBERTI</td><td>13</td></tr>",
                            "<tr><td>valentin</td><td>13</td></tr>",
                            "<tr><td>ZOLTANP</td><td>13</td></tr>",
                            "<tr><td>VIKTORIAU</td><td>14</td></tr>",
                            "<tr><td>sandor3</td><td>14</td></tr>",
                            "<tr><td>ATTILAO</td><td>14</td></tr>",
                            "<tr><td>ARPADH</td><td>14</td></tr>",
                            "<tr><td>julia4</td><td>14</td></tr>",
                            "<tr><td>gabriella1</td><td>14</td></tr>",
                            "<tr><td>gusztav</td><td>14</td></tr>",
                            "<tr><td>marton</td><td>14</td></tr>",
                            "<tr><td>PETERB</td><td>15</td></tr>",
                            "<tr><td>MIKLOSB</td><td>15</td></tr>",
                            "<tr><td>GYONGYIK</td><td>15</td></tr>",
                            "<tr><td>GABORS</td><td>15</td></tr>",
                            "<tr><td>imre</td><td>15</td></tr>",
                            "<tr><td>imre1</td><td>15</td></tr>",
                            "<tr><td>aniko4</td><td>15</td></tr>",
                            "<tr><td>AGNESK</td><td>15</td></tr>",
                            "<tr><td>adam3</td><td>15</td></tr>",
                            "<tr><td>balazs3</td><td>15</td></tr>",
                            "<tr><td>bernadett2</td><td>15</td></tr>",
                            "<tr><td>csongor3</td><td>15</td></tr>",
                            "<tr><td>SEBASTIANF</td><td>15</td></tr>",
                            "<tr><td>zoltan</td><td>15</td></tr>",
                            "<tr><td>zsuzsanna</td><td>15</td></tr>",
                            "<tr><td>zsuzsa</td><td>16</td></tr>",
                            "<tr><td>zsuzsa3</td><td>16</td></tr>",
                            "<tr><td>timea2</td><td>16</td></tr>",
                            "<tr><td>tunde</td><td>16</td></tr>",
                            "<tr><td>sebestyen</td><td>16</td></tr>",
                            "<tr><td>RENATAS</td><td>16</td></tr>",
                            "<tr><td>debora</td><td>16</td></tr>",
                            "<tr><td>BERNADETTO</td><td>16</td></tr>",
                            "<tr><td>balint</td><td>16</td></tr>",
                            "<tr><td>annamaria1</td><td>16</td></tr>",
                            "<tr><td>ARPADM</td><td>16</td></tr>",
                            "<tr><td>gabriella10</td><td>16</td></tr>",
                            "<tr><td>GYORGYO</td><td>16</td></tr>",
                            "<tr><td>henrik3</td><td>16</td></tr>",
                            "<tr><td>lajos</td><td>16</td></tr>",
                            "<tr><td>norbert5</td><td>16</td></tr>",
                            "<tr><td>nikolett3</td><td>17</td></tr>",
                            "<tr><td>rajmond4</td><td>17</td></tr>",
                            "<tr><td>lala</td><td>17</td></tr>",
                            "<tr><td>klaudia2</td><td>17</td></tr>",
                            "<tr><td>JANOSP</td><td>17</td></tr>",
                            "<tr><td>krisztian4</td><td>17</td></tr>",
                            "<tr><td>arpad2</td><td>17</td></tr>",
                            "<tr><td>balint2</td><td>17</td></tr>",
                            "<tr><td>balazs2</td><td>17</td></tr>",
                            "<tr><td>BENCEB</td><td>17</td></tr>",
                            "<tr><td>david1</td><td>17</td></tr>",
                            "<tr><td>sandor</td><td>17</td></tr>",
                            "<tr><td>veronika4</td><td>18</td></tr>",
                            "<tr><td>ZSOLTJ</td><td>18</td></tr>",
                            "<tr><td>BELAF</td><td>18</td></tr>",
                            "<tr><td>bence</td><td>18</td></tr>",
                            "<tr><td>attila1</td><td>18</td></tr>",
                            "<tr><td>andrea4</td><td>18</td></tr>",
                            "<tr><td>anett3</td><td>18</td></tr>",
                            "<tr><td>andi</td><td>18</td></tr>",
                            "<tr><td>fruzsina4</td><td>18</td></tr>",
                            "<tr><td>ilona3</td><td>18</td></tr>",
                            "<tr><td>peter2</td><td>18</td></tr>",
                            "<tr><td>istvan1</td><td>19</td></tr>",
                            "<tr><td>gabor1</td><td>19</td></tr>",
                            "<tr><td>katalin</td><td>19</td></tr>",
                            "<tr><td>alexandra</td><td>19</td></tr>",
                            "<tr><td>zsofi1</td><td>19</td></tr>",
                            "<tr><td>zsolt1</td><td>20</td></tr>",
                            "<tr><td>VIKTORK</td><td>20</td></tr>",
                            "<tr><td>tihamer</td><td>20</td></tr>",
                            "<tr><td>sara</td><td>20</td></tr>",
                            "<tr><td>bernadett1</td><td>20</td></tr>",
                            "<tr><td>gabor4</td><td>20</td></tr>",
                            "<tr><td>reka4</td><td>20</td></tr>",
                            "<tr><td>kristof4</td><td>21</td></tr>",
                            "<tr><td>ISTVANV</td><td>21</td></tr>",
                            "<tr><td>georgij</td><td>21</td></tr>",
                            "<tr><td>JOZSEFG</td><td>21</td></tr>",
                            "<tr><td>david4</td><td>21</td></tr>",
                            "<tr><td>ANDREAT</td><td>21</td></tr>",
                            "<tr><td>andras2</td><td>22</td></tr>",
                            "<tr><td>ESZTERE</td><td>22</td></tr>",
                            "<tr><td>katka</td><td>22</td></tr>",
                            "<tr><td>krisztina1</td><td>22</td></tr>",
                            "<tr><td>KRISZTINAG</td><td>22</td></tr>",
                            "<tr><td>polla</td><td>22</td></tr>",
                            "<tr><td>vivien3</td><td>22</td></tr>",
                            "<tr><td>katalin4</td><td>23</td></tr>",
                            "<tr><td>ANDRASN</td><td>24</td></tr>",
                            "<tr><td>andrea</td><td>24</td></tr>",
                            "<tr><td>peter3</td><td>25</td></tr>",
                            "<tr><td>NIKOLETTAT</td><td>25</td></tr>",
                            "<tr><td>MATEK</td><td>25</td></tr>",
                            "<tr><td>laszlo2</td><td>25</td></tr>",
                            "<tr><td>tibor2</td><td>25</td></tr>",
                            "<tr><td>ROBERTP</td><td>26</td></tr>",
                            "<tr><td>julianna4</td><td>27</td></tr>",
                            "<tr><td>adam4</td><td>29</td></tr>",
                            "<tr><td>timea</td><td>55</td></tr>",
                            "<tr><td>bertalan</td><td>353</td></tr>",
                            "<tr><td>ZOLTANT</td><td>357</td></tr>",
                            "<tr><td>tibor</td><td>374</td></tr>",
                            "<tr><td>jozsef</td><td>382</td></tr>",
                            "<tr><td>KRISZTIANM</td><td>384</td></tr>",
                            "<tr><td>SZILARDS</td><td>386</td></tr>",
                            "<tr><td>balu</td><td>387</td></tr>",
                            "<tr><td>andras21</td><td>390</td></tr>",
                            "<tr><td>adam1</td><td>392</td></tr>",
                            "<tr><td>brigitta</td><td>393</td></tr>",
                            "<tr><td>laszlo1</td><td>394</td></tr>",
                            "<tr><td>LASZLON</td><td>400</td></tr>",
                            "<tr><td>attila4</td><td>401</td></tr>",
                            "<tr><td>aniko</td><td>403</td></tr>",
                            "<tr><td>ANIKOS</td><td>404</td></tr>",
                            "<tr><td>eva</td><td>404</td></tr>",
                            "<tr><td>emese</td><td>406</td></tr>",
                            "<tr><td>MONIKAM</td><td>407</td></tr>",
                            "<tr><td>aladar</td><td>408</td></tr>",
                            "<tr><td>SZABOLCSM</td><td>408</td></tr>",
                            "<tr><td>aron2</td><td>409</td></tr>",
                            "<tr><td>MARKH</td><td>412</td></tr>",
                            "<tr><td>peter1</td><td>412</td></tr>",
                            "<tr><td>andrea3</td><td>413</td></tr>",
                            "<tr><td>brigitta3</td><td>413</td></tr>",
                            "<tr><td>nikoletta4</td><td>414</td></tr>",
                            "<tr><td>roland</td><td>414</td></tr>",
                            "<tr><td>eszter2</td><td>415</td></tr>",
                            "<tr><td>agnes</td><td>418</td></tr>",
                            "<tr><td>andras41</td><td>419</td></tr>",
                            "<tr><td>daniel1</td><td>419</td></tr>",
                            "<tr><td>balazs1</td><td>419</td></tr>",
                            "<tr><td>BEATRIXS</td><td>420</td></tr>",
                            "<tr><td>NANDORF</td><td>420</td></tr>",
                            "<tr><td>ZSUZSAV</td><td>420</td></tr>",
                            "<tr><td>tamas</td><td>421</td></tr>",
                            "<tr><td>RENATAK</td><td>422</td></tr>",
                            "<tr><td>IBOLYAA</td><td>422</td></tr>",
                            "<tr><td>eszter4</td><td>424</td></tr>",
                            "<tr><td>zoltan4</td><td>424</td></tr>",
                            "<tr><td>akos</td><td>429</td></tr>",
                            "<tr><td>agnes3</td><td>430</td></tr>",
                            "<tr><td>ARONK</td><td>430</td></tr>",
                            "<tr><td>dora3</td><td>432</td></tr>",
                            "<tr><td>roland1</td><td>432</td></tr>",
                            "<tr><td>TAMASF</td><td>433</td></tr>",
                            "<tr><td>matyas2</td><td>433</td></tr>",
                            "<tr><td>julia</td><td>435</td></tr>",
                            "<tr><td>BEATRIXK</td><td>435</td></tr>",
                            "<tr><td>ANDRASE</td><td>436</td></tr>",
                            "<tr><td>ferenc1</td><td>437</td></tr>",
                            "<tr><td>pal</td><td>438</td></tr>",
                            "<tr><td>szilvia1</td><td>445</td></tr>",
                            "<tr><td>LASZLOA</td><td>446</td></tr>",
                            "<tr><td>JUDITH</td><td>450</td></tr>",
                            "<tr><td>david</td><td>451</td></tr>",
                            "<tr><td>krisztina</td><td>456</td></tr>",
                            "<tr><td>eva2</td><td>462</td></tr>",
                            "<tr><td>balint1</td><td>462</td></tr>",
                            "<tr><td>szabolcs</td><td>471</td></tr>",
                            "<tr><td>peter4</td><td>852</td></tr>",
                            "<tr><td>NULL</td><td>28085</td></tr>",
                            "</table>"
                        ]
                    }
                }
            ],
            "execution_count": 1
        },
        {
            "cell_type": "markdown",
            "source": [
                "2\\. Átlagosan hány termék van készleten kategóriánként (KAT\\_ID),  \n",
                "raktáranként (RAKTAR\\_KOD), illetve mennyiségi egységenként?  \n",
                "(szempontonként külön-külön) Az átlagot kerekítsük egészre!  \n",
                "A feladatot egy lekérdezéssel oldja meg!"
            ],
            "metadata": {
                "azdata_cell_guid": "453ffb66-ac5a-48c8-968c-465e7e64ca1b"
            },
            "attachments": {}
        },
        {
            "cell_type": "code",
            "source": [
                ""
            ],
            "metadata": {
                "azdata_cell_guid": "649f0fe8-fd7d-4e62-bc90-91076e6a80db",
                "language": "sql"
            },
            "outputs": [],
            "execution_count": null
        },
        {
            "cell_type": "markdown",
            "source": [
                "3\\. Készítsünk listát a megrendelt termékek legkisebb és  \n",
                "legnagyobb egységáráról szállítási dátum, azon belül szállítási  \n",
                "mód szerinti bontásban ! A lista csak a 2015 májusi szállításokat  \n",
                "tartalmazza! Jelenítsük meg a részösszegeket és a végösszeget is!"
            ],
            "metadata": {
                "azdata_cell_guid": "3a3c4e41-b621-4e08-b879-78f1f8564bfa"
            },
            "attachments": {}
        },
        {
            "cell_type": "code",
            "source": [
                ""
            ],
            "metadata": {
                "azdata_cell_guid": "bb359042-df26-49da-a385-ca96b966b8c3",
                "language": "sql"
            },
            "outputs": [],
            "execution_count": null
        },
        {
            "cell_type": "markdown",
            "source": [
                "4 .Készítsünk csoportot a termékek listaára alapján a következők szerint:  \n",
                "Az \"olcsó\" termékek legyenek azok, amelyek listaára 3000 alatt van.  \n",
                "A \"drága\" termékek legyenek az 5000 felettiek, a többi legyen \"közepes\".  \n",
                "Listázzuk az egyes csoportokat, és a csoportokba tartozó termékek  \n",
                "darabszámát! A lista jelenítse meg a végösszeget is!"
            ],
            "metadata": {
                "azdata_cell_guid": "16c0ca87-c668-4216-9a70-fba531289769"
            },
            "attachments": {}
        },
        {
            "cell_type": "code",
            "source": [
                ""
            ],
            "metadata": {
                "azdata_cell_guid": "d2e08d04-329e-4555-9a7b-1fec9d5a75fb",
                "language": "sql"
            },
            "outputs": [],
            "execution_count": null
        },
        {
            "cell_type": "markdown",
            "source": [
                "5\\. Listázzuk a rendelési tételek számát raktáranként éves bontásban!  \n",
                "A listában a raktár neve, az év és a darabszám jelenjen meg!  \n",
                "A lista jelenítse meg a részösszegeket és a végösszeget is!  \n",
                "A végösszeget megfelelően jelöljük!  \n",
                "Az oszlopokat nevezzük el értelemszerűen!"
            ],
            "metadata": {
                "azdata_cell_guid": "6d0f8d0b-d9b2-4167-a6f5-c046499fe3f6"
            },
            "attachments": {}
        },
        {
            "cell_type": "code",
            "source": [
                ""
            ],
            "metadata": {
                "azdata_cell_guid": "9a15b997-51d0-4814-a8fd-c55543458de0",
                "language": "sql"
            },
            "outputs": [],
            "execution_count": null
        },
        {
            "cell_type": "markdown",
            "source": [
                "6\\. Készítsünk listát az ügyfelek adatairól név szerinti sorrendben.  \n",
                "Minden sorban jelenjen meg a sorrend szerint előző, illetve következő ügyfél neve is.  \n",
                "Ha nincs előző vagy következő ügyfél, akkor a 'Nincs' jelenjen meg!"
            ],
            "metadata": {
                "azdata_cell_guid": "39f58487-beb9-4d7d-94d2-0762cf76a319"
            },
            "attachments": {}
        },
        {
            "cell_type": "code",
            "source": [
                ""
            ],
            "metadata": {
                "azdata_cell_guid": "f863100a-50d1-437f-96c1-3b4eee9b4959",
                "language": "sql"
            },
            "outputs": [],
            "execution_count": null
        },
        {
            "cell_type": "markdown",
            "source": [
                "7\\. Készítsünk lekérdezést, amely megmutatja, hogy melyik  \n",
                "termékkategóriába hány termék tartozik. A lista a kategória nevét  \n",
                "és a darabszámot jelenítse meg. A lista ne tartalmazzon duplikált sorokat.  \n",
                "A feladatot partíciók segítségével oldjuk meg!"
            ],
            "metadata": {
                "azdata_cell_guid": "9593632a-54ea-4c03-825e-9a6ba69a1528"
            },
            "attachments": {}
        },
        {
            "cell_type": "code",
            "source": [
                ""
            ],
            "metadata": {
                "azdata_cell_guid": "5416cc87-dab6-4017-a305-5cb178345dd9",
                "language": "sql"
            },
            "outputs": [],
            "execution_count": null
        },
        {
            "cell_type": "markdown",
            "source": [
                "8\\. Készítsünk listát a rendelési tételekről.  \n",
                "Az egyes rendelési tételeket termékenként soroljuk be 4 osztályba a rendelés mennyisége alapján.\n",
                "\n",
                "Jelenítsük meg ezt az információt is egy új oszlopban, az oszlop neve legyen 'Mennyiségi kategória'.  \n",
                "A lista csak a 100 Ft feletti egységárú rendelési tételeket vegye figyelembe!"
            ],
            "metadata": {
                "azdata_cell_guid": "6b2be7f7-0e1b-4fc4-92de-90b6715d7647"
            },
            "attachments": {}
        },
        {
            "cell_type": "code",
            "source": [
                ""
            ],
            "metadata": {
                "azdata_cell_guid": "567aef4c-a7e5-4dec-a264-7f326e1ee820",
                "language": "sql"
            },
            "outputs": [],
            "execution_count": null
        },
        {
            "cell_type": "markdown",
            "source": [
                "9\\. Listázzuk a termékek kódját, megnevezését, kategóriájának nevét, és listaárát.  \n",
                "A listát egészítsük ki két új oszloppal, amelyek a kategória legolcsóbb, illetve legdrágább termékének árát tartalmazzák.  \n",
                "A két új oszlop létrehozásánál partíciókkal dolgozzunk!"
            ],
            "metadata": {
                "azdata_cell_guid": "5d826aeb-b0f8-4665-93a1-92c7c827d465"
            },
            "attachments": {}
        },
        {
            "cell_type": "code",
            "source": [
                ""
            ],
            "metadata": {
                "azdata_cell_guid": "f8c3b11e-200c-4252-a2cf-0bd6042f3fb1",
                "language": "sql"
            },
            "outputs": [],
            "execution_count": null
        },
        {
            "cell_type": "markdown",
            "source": [
                "10\\. Készítsünk listát a rendelésekről. A lista legyen rendezve ügyfelenként (LOGIN), azon belül a rendelés dátuma szerint.  \n",
                "A listához készítsünk sorszámozást is.  \n",
                "A sorszám a következő formában jelenjen meg: sorszám\\_év\\_login. Pl: 1\\_2015\\_adam1  \n",
                "A számozás login-onként, azon belül rendelési évenként kezdődjön újra.  \n",
                "A sorszám oszlop neve legyen Azonosító."
            ],
            "metadata": {
                "azdata_cell_guid": "2f42a573-1384-422a-8040-1306b38f2657"
            },
            "attachments": {}
        },
        {
            "cell_type": "code",
            "source": [
                ""
            ],
            "metadata": {
                "azdata_cell_guid": "29db0d43-7709-44df-a749-ecaca8047f63",
                "language": "sql"
            },
            "outputs": [],
            "execution_count": null
        },
        {
            "cell_type": "markdown",
            "source": [
                "11.Készítsünk listát a termékek adatairól listaár szerint növekvő  sorrenben!  \n",
                "A lista jelenítse meg két új oszlopban a sorrend szerint előző, illetve következő termék listaárát is a termék saját   \n",
                " kategóriájában és raktárában! Ahol nincs előző vagy következő  érték, ott 0 jelenjen meg!  \n",
                " Az oszlopokat nevezzük el értelemszerűen!"
            ],
            "metadata": {
                "azdata_cell_guid": "357279eb-71ee-473e-9763-eb0b238ff906"
            },
            "attachments": {}
        },
        {
            "cell_type": "code",
            "source": [
                ""
            ],
            "metadata": {
                "azdata_cell_guid": "f79d14ed-9aa1-4434-a9c3-8a9cf40b4d9c",
                "language": "sql"
            },
            "outputs": [],
            "execution_count": null
        },
        {
            "cell_type": "markdown",
            "source": [
                "12\\. Listázzuk a termékek kódját, nevét és listaárát listaár szerinti sorrendben!  \n",
                "Vegyünk fel egy új oszlopot Mozgóátlag néven, amely minden esetben az aktuális termék,  \n",
                "az előző, és a következő termék átlagárát tartalmazza!  \n",
                "A mozgóátlagot kerekítsük két tizedesre!"
            ],
            "metadata": {
                "azdata_cell_guid": "f974b17a-0c4a-47f7-8f00-550e9847550f"
            },
            "attachments": {}
        },
        {
            "cell_type": "code",
            "source": [
                ""
            ],
            "metadata": {
                "azdata_cell_guid": "d6acc00d-7046-4f2c-810d-f82a18cca1a4",
                "language": "sql"
            },
            "outputs": [],
            "execution_count": null
        },
        {
            "cell_type": "markdown",
            "source": [
                "13\\. Készítsünk listát, amely a rendelések sorszámát és a rendelés értékét tartalmazza.  \n",
                "A listát egészítsük ki egy új oszloppal, amely minden rendelés esetén addigi rendelések értékének összegét tartalmazza  \n",
                "(az aktuálisat is beleértve)!  \n",
                "A listát rendezzük sorszám szerint növekvő sorrendbe. A lista ne tartalmazzon duplikált sorokat!  \n",
                "Nevezzük el az oszlopokat értelemszerűen!"
            ],
            "metadata": {
                "azdata_cell_guid": "526e07ad-8234-46b8-bdba-af5474604839"
            },
            "attachments": {}
        },
        {
            "cell_type": "code",
            "source": [
                ""
            ],
            "metadata": {
                "azdata_cell_guid": "596c853d-7ae5-4280-95e2-973c81aaea16",
                "language": "sql"
            },
            "outputs": [],
            "execution_count": null
        },
        {
            "cell_type": "markdown",
            "source": [
                "14\\. Készítsünk listát a termékek kódjáról, nevéről, kategória azonosítójáról, raktár azonosítójáról és listaáráról, valamint  \n",
                "a termék adott szempontok szerinti rangsorokban elfogalt helyezéseiről.  \n",
                "(Szempontonként külön oszlopban, a helyezéseknél növekvő sorrendet feltételezve).  \n",
                "A szempontok a következők legyenek: listaár, kategória szerinti listaár, és raktárkód szerinti listaár.  \n",
                "Az oszlopokat nevezzük el értelemszerűen.  \n",
                "A helyezések egyenlőség esetén \"sűrűn\" kövessék egymást.  \n",
                "A lista legyen rendezett kategória azonosító, azon belül listaár szerint!"
            ],
            "metadata": {
                "azdata_cell_guid": "d153dce8-e47b-41b2-8fd9-e13a6313771d"
            },
            "attachments": {}
        },
        {
            "cell_type": "code",
            "source": [
                ""
            ],
            "metadata": {
                "azdata_cell_guid": "7c673b39-c0bd-49a2-a737-8bec0628e2d8",
                "language": "sql"
            },
            "outputs": [],
            "execution_count": null
        },
        {
            "cell_type": "markdown",
            "source": [
                "15\\. Készítsünk listát a rendelési tételekről, amely minden sor esetén göngyölítve tartalmazza az ügyfél adott rendelési tételig  \n",
                "meglévő rendelési tételeinek összértékét!  \n",
                "Az új oszlop neve legyen Eddigi rendelési tételek összértéke!  \n",
                "Az ügyfél neve is jelenjen meg!"
            ],
            "metadata": {
                "azdata_cell_guid": "5ddc59be-70cf-4c6d-a8be-21b2df1f4e31"
            },
            "attachments": {}
        },
        {
            "cell_type": "code",
            "source": [
                ""
            ],
            "metadata": {
                "azdata_cell_guid": "f1fe1994-34cd-444b-b078-1313521bbcc1",
                "language": "sql"
            },
            "outputs": [],
            "execution_count": null
        }
    ]
}